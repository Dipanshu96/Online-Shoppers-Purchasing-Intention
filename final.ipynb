{
 "cells": [
  {
   "cell_type": "code",
   "execution_count": 1,
   "metadata": {},
   "outputs": [],
   "source": [
    "import numpy as np\n",
    "import pandas as pd\n",
    "import scipy.stats as stats\n",
    "import math\n",
    "import seaborn as sns\n",
    "import matplotlib.pyplot as plt\n",
    "import warnings\n",
    "from scipy.stats import chi2_contingency, ttest_ind, levene\n",
    "warnings.simplefilter(action='ignore',category=FutureWarning)\n",
    "%matplotlib inline"
   ]
  },
  {
   "cell_type": "markdown",
   "metadata": {},
   "source": [
    "## Direction for proceeding with the dataset\n",
    "\n",
    "* Its a classification problem, Non parametric at best. (Initial Analysis reports large skewness in data)\n",
    "* Immediate Solution Response ( Random Forest/ Decision Tree/ K Nearest Neighbors/ Support Vector Machines/ Voting/ Stacking/ Bagging/ Boosting)\n",
    "* Target variable, Imbalanced, under sampled data. (85%,15% ratio) (Need to use SMOTE).\n",
    "* Conduct Statistical Test with respect to features and give reasons for rejecting or accepting the Hypothesis."
   ]
  },
  {
   "cell_type": "markdown",
   "metadata": {},
   "source": [
    "## Inital Look at the Data"
   ]
  },
  {
   "cell_type": "code",
   "execution_count": 2,
   "metadata": {},
   "outputs": [],
   "source": [
    "# Reading the csv file into a dataframe\n",
    "master_df = pd.read_csv('online_shoppers_intention.csv')"
   ]
  },
  {
   "cell_type": "code",
   "execution_count": 3,
   "metadata": {},
   "outputs": [
    {
     "data": {
      "text/html": [
       "<div>\n",
       "<style scoped>\n",
       "    .dataframe tbody tr th:only-of-type {\n",
       "        vertical-align: middle;\n",
       "    }\n",
       "\n",
       "    .dataframe tbody tr th {\n",
       "        vertical-align: top;\n",
       "    }\n",
       "\n",
       "    .dataframe thead th {\n",
       "        text-align: right;\n",
       "    }\n",
       "</style>\n",
       "<table border=\"1\" class=\"dataframe\">\n",
       "  <thead>\n",
       "    <tr style=\"text-align: right;\">\n",
       "      <th></th>\n",
       "      <th>Administrative</th>\n",
       "      <th>Administrative_Duration</th>\n",
       "      <th>Informational</th>\n",
       "      <th>Informational_Duration</th>\n",
       "      <th>ProductRelated</th>\n",
       "      <th>ProductRelated_Duration</th>\n",
       "      <th>BounceRates</th>\n",
       "      <th>ExitRates</th>\n",
       "      <th>PageValues</th>\n",
       "      <th>SpecialDay</th>\n",
       "      <th>Month</th>\n",
       "      <th>OperatingSystems</th>\n",
       "      <th>Browser</th>\n",
       "      <th>Region</th>\n",
       "      <th>TrafficType</th>\n",
       "      <th>VisitorType</th>\n",
       "      <th>Weekend</th>\n",
       "      <th>Revenue</th>\n",
       "    </tr>\n",
       "  </thead>\n",
       "  <tbody>\n",
       "    <tr>\n",
       "      <th>0</th>\n",
       "      <td>0</td>\n",
       "      <td>0.0</td>\n",
       "      <td>0</td>\n",
       "      <td>0.0</td>\n",
       "      <td>1</td>\n",
       "      <td>0.000000</td>\n",
       "      <td>0.20</td>\n",
       "      <td>0.20</td>\n",
       "      <td>0.0</td>\n",
       "      <td>0.0</td>\n",
       "      <td>Feb</td>\n",
       "      <td>1</td>\n",
       "      <td>1</td>\n",
       "      <td>1</td>\n",
       "      <td>1</td>\n",
       "      <td>Returning_Visitor</td>\n",
       "      <td>False</td>\n",
       "      <td>False</td>\n",
       "    </tr>\n",
       "    <tr>\n",
       "      <th>1</th>\n",
       "      <td>0</td>\n",
       "      <td>0.0</td>\n",
       "      <td>0</td>\n",
       "      <td>0.0</td>\n",
       "      <td>2</td>\n",
       "      <td>64.000000</td>\n",
       "      <td>0.00</td>\n",
       "      <td>0.10</td>\n",
       "      <td>0.0</td>\n",
       "      <td>0.0</td>\n",
       "      <td>Feb</td>\n",
       "      <td>2</td>\n",
       "      <td>2</td>\n",
       "      <td>1</td>\n",
       "      <td>2</td>\n",
       "      <td>Returning_Visitor</td>\n",
       "      <td>False</td>\n",
       "      <td>False</td>\n",
       "    </tr>\n",
       "    <tr>\n",
       "      <th>2</th>\n",
       "      <td>0</td>\n",
       "      <td>0.0</td>\n",
       "      <td>0</td>\n",
       "      <td>0.0</td>\n",
       "      <td>1</td>\n",
       "      <td>0.000000</td>\n",
       "      <td>0.20</td>\n",
       "      <td>0.20</td>\n",
       "      <td>0.0</td>\n",
       "      <td>0.0</td>\n",
       "      <td>Feb</td>\n",
       "      <td>4</td>\n",
       "      <td>1</td>\n",
       "      <td>9</td>\n",
       "      <td>3</td>\n",
       "      <td>Returning_Visitor</td>\n",
       "      <td>False</td>\n",
       "      <td>False</td>\n",
       "    </tr>\n",
       "    <tr>\n",
       "      <th>3</th>\n",
       "      <td>0</td>\n",
       "      <td>0.0</td>\n",
       "      <td>0</td>\n",
       "      <td>0.0</td>\n",
       "      <td>2</td>\n",
       "      <td>2.666667</td>\n",
       "      <td>0.05</td>\n",
       "      <td>0.14</td>\n",
       "      <td>0.0</td>\n",
       "      <td>0.0</td>\n",
       "      <td>Feb</td>\n",
       "      <td>3</td>\n",
       "      <td>2</td>\n",
       "      <td>2</td>\n",
       "      <td>4</td>\n",
       "      <td>Returning_Visitor</td>\n",
       "      <td>False</td>\n",
       "      <td>False</td>\n",
       "    </tr>\n",
       "    <tr>\n",
       "      <th>4</th>\n",
       "      <td>0</td>\n",
       "      <td>0.0</td>\n",
       "      <td>0</td>\n",
       "      <td>0.0</td>\n",
       "      <td>10</td>\n",
       "      <td>627.500000</td>\n",
       "      <td>0.02</td>\n",
       "      <td>0.05</td>\n",
       "      <td>0.0</td>\n",
       "      <td>0.0</td>\n",
       "      <td>Feb</td>\n",
       "      <td>3</td>\n",
       "      <td>3</td>\n",
       "      <td>1</td>\n",
       "      <td>4</td>\n",
       "      <td>Returning_Visitor</td>\n",
       "      <td>True</td>\n",
       "      <td>False</td>\n",
       "    </tr>\n",
       "  </tbody>\n",
       "</table>\n",
       "</div>"
      ],
      "text/plain": [
       "   Administrative  Administrative_Duration  Informational  \\\n",
       "0               0                      0.0              0   \n",
       "1               0                      0.0              0   \n",
       "2               0                      0.0              0   \n",
       "3               0                      0.0              0   \n",
       "4               0                      0.0              0   \n",
       "\n",
       "   Informational_Duration  ProductRelated  ProductRelated_Duration  \\\n",
       "0                     0.0               1                 0.000000   \n",
       "1                     0.0               2                64.000000   \n",
       "2                     0.0               1                 0.000000   \n",
       "3                     0.0               2                 2.666667   \n",
       "4                     0.0              10               627.500000   \n",
       "\n",
       "   BounceRates  ExitRates  PageValues  SpecialDay Month  OperatingSystems  \\\n",
       "0         0.20       0.20         0.0         0.0   Feb                 1   \n",
       "1         0.00       0.10         0.0         0.0   Feb                 2   \n",
       "2         0.20       0.20         0.0         0.0   Feb                 4   \n",
       "3         0.05       0.14         0.0         0.0   Feb                 3   \n",
       "4         0.02       0.05         0.0         0.0   Feb                 3   \n",
       "\n",
       "   Browser  Region  TrafficType        VisitorType  Weekend  Revenue  \n",
       "0        1       1            1  Returning_Visitor    False    False  \n",
       "1        2       1            2  Returning_Visitor    False    False  \n",
       "2        1       9            3  Returning_Visitor    False    False  \n",
       "3        2       2            4  Returning_Visitor    False    False  \n",
       "4        3       1            4  Returning_Visitor     True    False  "
      ]
     },
     "execution_count": 3,
     "metadata": {},
     "output_type": "execute_result"
    }
   ],
   "source": [
    "# Taking a look at the data\n",
    "master_df.head()"
   ]
  },
  {
   "cell_type": "code",
   "execution_count": 4,
   "metadata": {},
   "outputs": [
    {
     "name": "stdout",
     "output_type": "stream",
     "text": [
      "<class 'pandas.core.frame.DataFrame'>\n",
      "RangeIndex: 12330 entries, 0 to 12329\n",
      "Data columns (total 18 columns):\n",
      " #   Column                   Non-Null Count  Dtype  \n",
      "---  ------                   --------------  -----  \n",
      " 0   Administrative           12330 non-null  int64  \n",
      " 1   Administrative_Duration  12330 non-null  float64\n",
      " 2   Informational            12330 non-null  int64  \n",
      " 3   Informational_Duration   12330 non-null  float64\n",
      " 4   ProductRelated           12330 non-null  int64  \n",
      " 5   ProductRelated_Duration  12330 non-null  float64\n",
      " 6   BounceRates              12330 non-null  float64\n",
      " 7   ExitRates                12330 non-null  float64\n",
      " 8   PageValues               12330 non-null  float64\n",
      " 9   SpecialDay               12330 non-null  float64\n",
      " 10  Month                    12330 non-null  object \n",
      " 11  OperatingSystems         12330 non-null  int64  \n",
      " 12  Browser                  12330 non-null  int64  \n",
      " 13  Region                   12330 non-null  int64  \n",
      " 14  TrafficType              12330 non-null  int64  \n",
      " 15  VisitorType              12330 non-null  object \n",
      " 16  Weekend                  12330 non-null  bool   \n",
      " 17  Revenue                  12330 non-null  bool   \n",
      "dtypes: bool(2), float64(7), int64(7), object(2)\n",
      "memory usage: 1.5+ MB\n"
     ]
    }
   ],
   "source": [
    "# Information Regarding the Attributes of the data\n",
    "master_df.info()"
   ]
  },
  {
   "cell_type": "code",
   "execution_count": 5,
   "metadata": {},
   "outputs": [],
   "source": [
    "# Making a copy of master dataframe\n",
    "df = master_df.copy(deep=True)"
   ]
  },
  {
   "cell_type": "markdown",
   "metadata": {},
   "source": [
    "# Exploratory Data Analysis\n",
    "## Revenue Column\n",
    "* It is a qualitative valued feature.\n",
    "* It is a classification problem from the problem statement.\n",
    "* This data reinforces the problem statement."
   ]
  },
  {
   "cell_type": "code",
   "execution_count": 6,
   "metadata": {},
   "outputs": [
    {
     "data": {
      "text/plain": [
       "False    10422\n",
       "True      1908\n",
       "Name: Revenue, dtype: int64"
      ]
     },
     "execution_count": 6,
     "metadata": {},
     "output_type": "execute_result"
    }
   ],
   "source": [
    "# Revenue Class in terms of values\n",
    "df['Revenue'].value_counts()"
   ]
  },
  {
   "cell_type": "code",
   "execution_count": 7,
   "metadata": {},
   "outputs": [
    {
     "data": {
      "text/plain": [
       "False    0.845255\n",
       "True     0.154745\n",
       "Name: Revenue, dtype: float64"
      ]
     },
     "execution_count": 7,
     "metadata": {},
     "output_type": "execute_result"
    }
   ],
   "source": [
    "# Revenue Class in terms of Percentage\n",
    "df['Revenue'].value_counts(normalize=True)"
   ]
  },
  {
   "cell_type": "code",
   "execution_count": 8,
   "metadata": {},
   "outputs": [
    {
     "data": {
      "image/png": "[encoded data removed]",
      "text/plain": [
       "<Figure size 720x576 with 1 Axes>"
      ]
     },
     "metadata": {
      "needs_background": "light"
     },
     "output_type": "display_data"
    }
   ],
   "source": [
    "# Count plot\n",
    "plt.figure(figsize=(10,8))\n",
    "plt.title('Count Plot of Revenue Attribute')\n",
    "sns.countplot(df['Revenue'])\n",
    "plt.show()\n"
   ]
  },
  {
   "cell_type": "markdown",
   "metadata": {},
   "source": [
    "#### Observation:\n",
    "\n",
    "* The data is heavily imbalanced.\n",
    "* We might have to use SMOTE(Synthetic Minority OverSampling Technique)."
   ]
  },
  {
   "cell_type": "code",
   "execution_count": null,
   "metadata": {},
   "outputs": [],
   "source": []
  },
  {
   "cell_type": "markdown",
   "metadata": {},
   "source": [
    "## Administrative Column\n",
    "* If my understanding about the administrative column is right, then the column means the number of   pages \n",
    "* visited by the user during that particular session.\n",
    "* The values should be discrete in nature.\n",
    "This could act as categorical in nature.\n",
    "\n",
    " We can classify or group these values into 3 groups :-\n",
    "* High Page visits Group\n",
    "* Moderate Page visits Group\n",
    "* Low Page visits Group"
   ]
  },
  {
   "cell_type": "code",
   "execution_count": 9,
   "metadata": {},
   "outputs": [
    {
     "data": {
      "image/png": "[encoded data removed]",
      "text/plain": [
       "<Figure size 720x576 with 1 Axes>"
      ]
     },
     "metadata": {
      "needs_background": "light"
     },
     "output_type": "display_data"
    }
   ],
   "source": [
    "plt.figure(figsize=(10,8))\n",
    "# Count plot\n",
    "plt.title('Histogram for people who went through the pages')\n",
    "sns.countplot(df['Administrative'])\n",
    "plt.show()"
   ]
  },
  {
   "cell_type": "code",
   "execution_count": 10,
   "metadata": {},
   "outputs": [
    {
     "data": {
      "text/plain": [
       "0     0.467802\n",
       "1     0.109813\n",
       "2     0.090349\n",
       "3     0.074209\n",
       "4     0.062044\n",
       "5     0.046634\n",
       "6     0.035036\n",
       "7     0.027413\n",
       "8     0.023277\n",
       "9     0.018248\n",
       "10    0.012409\n",
       "11    0.008516\n",
       "12    0.006975\n",
       "13    0.004542\n",
       "14    0.003569\n",
       "15    0.003082\n",
       "16    0.001946\n",
       "17    0.001298\n",
       "18    0.000973\n",
       "19    0.000487\n",
       "24    0.000324\n",
       "22    0.000324\n",
       "23    0.000243\n",
       "20    0.000162\n",
       "21    0.000162\n",
       "26    0.000081\n",
       "27    0.000081\n",
       "Name: Administrative, dtype: float64"
      ]
     },
     "execution_count": 10,
     "metadata": {},
     "output_type": "execute_result"
    }
   ],
   "source": [
    "# Percentage of value counts in each category\n",
    "df['Administrative'].value_counts(normalize=True)"
   ]
  },
  {
   "cell_type": "code",
   "execution_count": 11,
   "metadata": {},
   "outputs": [],
   "source": [
    "# Converting it into category\n",
    "df['Administrative'] = df['Administrative'].astype('category')"
   ]
  },
  {
   "cell_type": "code",
   "execution_count": 12,
   "metadata": {},
   "outputs": [
    {
     "data": {
      "text/plain": [
       "count     12330\n",
       "unique       27\n",
       "top           0\n",
       "freq       5768\n",
       "Name: Administrative, dtype: int64"
      ]
     },
     "execution_count": 12,
     "metadata": {},
     "output_type": "execute_result"
    }
   ],
   "source": [
    "# Statistical Summary of Administrative Column\n",
    "df['Administrative'].describe()"
   ]
  },
  {
   "cell_type": "markdown",
   "metadata": {},
   "source": [
    "## Relation with our Target attribute"
   ]
  },
  {
   "cell_type": "code",
   "execution_count": 13,
   "metadata": {},
   "outputs": [
    {
     "data": {
      "text/html": [
       "<div>\n",
       "<style scoped>\n",
       "    .dataframe tbody tr th:only-of-type {\n",
       "        vertical-align: middle;\n",
       "    }\n",
       "\n",
       "    .dataframe tbody tr th {\n",
       "        vertical-align: top;\n",
       "    }\n",
       "\n",
       "    .dataframe thead th {\n",
       "        text-align: right;\n",
       "    }\n",
       "</style>\n",
       "<table border=\"1\" class=\"dataframe\">\n",
       "  <thead>\n",
       "    <tr style=\"text-align: right;\">\n",
       "      <th>Administrative</th>\n",
       "      <th>0</th>\n",
       "      <th>1</th>\n",
       "      <th>2</th>\n",
       "      <th>3</th>\n",
       "      <th>4</th>\n",
       "      <th>5</th>\n",
       "      <th>6</th>\n",
       "      <th>7</th>\n",
       "      <th>8</th>\n",
       "      <th>9</th>\n",
       "      <th>...</th>\n",
       "      <th>17</th>\n",
       "      <th>18</th>\n",
       "      <th>19</th>\n",
       "      <th>20</th>\n",
       "      <th>21</th>\n",
       "      <th>22</th>\n",
       "      <th>23</th>\n",
       "      <th>24</th>\n",
       "      <th>26</th>\n",
       "      <th>27</th>\n",
       "    </tr>\n",
       "    <tr>\n",
       "      <th>Revenue</th>\n",
       "      <th></th>\n",
       "      <th></th>\n",
       "      <th></th>\n",
       "      <th></th>\n",
       "      <th></th>\n",
       "      <th></th>\n",
       "      <th></th>\n",
       "      <th></th>\n",
       "      <th></th>\n",
       "      <th></th>\n",
       "      <th></th>\n",
       "      <th></th>\n",
       "      <th></th>\n",
       "      <th></th>\n",
       "      <th></th>\n",
       "      <th></th>\n",
       "      <th></th>\n",
       "      <th></th>\n",
       "      <th></th>\n",
       "      <th></th>\n",
       "      <th></th>\n",
       "    </tr>\n",
       "  </thead>\n",
       "  <tbody>\n",
       "    <tr>\n",
       "      <th>False</th>\n",
       "      <td>5254</td>\n",
       "      <td>1063</td>\n",
       "      <td>909</td>\n",
       "      <td>741</td>\n",
       "      <td>612</td>\n",
       "      <td>457</td>\n",
       "      <td>321</td>\n",
       "      <td>272</td>\n",
       "      <td>214</td>\n",
       "      <td>164</td>\n",
       "      <td>...</td>\n",
       "      <td>12</td>\n",
       "      <td>10</td>\n",
       "      <td>5</td>\n",
       "      <td>1</td>\n",
       "      <td>2</td>\n",
       "      <td>2</td>\n",
       "      <td>3</td>\n",
       "      <td>4</td>\n",
       "      <td>0</td>\n",
       "      <td>1</td>\n",
       "    </tr>\n",
       "    <tr>\n",
       "      <th>True</th>\n",
       "      <td>514</td>\n",
       "      <td>291</td>\n",
       "      <td>205</td>\n",
       "      <td>174</td>\n",
       "      <td>153</td>\n",
       "      <td>118</td>\n",
       "      <td>111</td>\n",
       "      <td>66</td>\n",
       "      <td>73</td>\n",
       "      <td>61</td>\n",
       "      <td>...</td>\n",
       "      <td>4</td>\n",
       "      <td>2</td>\n",
       "      <td>1</td>\n",
       "      <td>1</td>\n",
       "      <td>0</td>\n",
       "      <td>2</td>\n",
       "      <td>0</td>\n",
       "      <td>0</td>\n",
       "      <td>1</td>\n",
       "      <td>0</td>\n",
       "    </tr>\n",
       "  </tbody>\n",
       "</table>\n",
       "<p>2 rows × 27 columns</p>\n",
       "</div>"
      ],
      "text/plain": [
       "Administrative     0     1    2    3    4    5    6    7    8    9  ...  17  \\\n",
       "Revenue                                                             ...       \n",
       "False           5254  1063  909  741  612  457  321  272  214  164  ...  12   \n",
       "True             514   291  205  174  153  118  111   66   73   61  ...   4   \n",
       "\n",
       "Administrative  18  19  20  21  22  23  24  26  27  \n",
       "Revenue                                             \n",
       "False           10   5   1   2   2   3   4   0   1  \n",
       "True             2   1   1   0   2   0   0   1   0  \n",
       "\n",
       "[2 rows x 27 columns]"
      ]
     },
     "execution_count": 13,
     "metadata": {},
     "output_type": "execute_result"
    }
   ],
   "source": [
    "ct = pd.crosstab(index=df['Revenue'],columns=df['Administrative']) # Creating a Crosstab\n",
    "ct"
   ]
  },
  {
   "cell_type": "markdown",
   "metadata": {},
   "source": [
    "#### Application of Chi- Square Test"
   ]
  },
  {
   "cell_type": "code",
   "execution_count": 14,
   "metadata": {},
   "outputs": [
    {
     "data": {
      "text/plain": [
       "(414.9767598349634,\n",
       " 1.0921137453222899e-71,\n",
       " 26,\n",
       " array([[4.87543358e+03, 1.14447591e+03, 9.41614599e+02, 7.73408759e+02,\n",
       "         6.46620438e+02, 4.86021898e+02, 3.65150365e+02, 2.85696350e+02,\n",
       "         2.42588321e+02, 1.90182482e+02, 1.29324088e+02, 8.87518248e+01,\n",
       "         7.26919708e+01, 4.73343066e+01, 3.71912409e+01, 3.21197080e+01,\n",
       "         2.02861314e+01, 1.35240876e+01, 1.01430657e+01, 5.07153285e+00,\n",
       "         1.69051095e+00, 1.69051095e+00, 3.38102190e+00, 2.53576642e+00,\n",
       "         3.38102190e+00, 8.45255474e-01, 8.45255474e-01],\n",
       "        [8.92566423e+02, 2.09524088e+02, 1.72385401e+02, 1.41591241e+02,\n",
       "         1.18379562e+02, 8.89781022e+01, 6.68496350e+01, 5.23036496e+01,\n",
       "         4.44116788e+01, 3.48175182e+01, 2.36759124e+01, 1.62481752e+01,\n",
       "         1.33080292e+01, 8.66569343e+00, 6.80875912e+00, 5.88029197e+00,\n",
       "         3.71386861e+00, 2.47591241e+00, 1.85693431e+00, 9.28467153e-01,\n",
       "         3.09489051e-01, 3.09489051e-01, 6.18978102e-01, 4.64233577e-01,\n",
       "         6.18978102e-01, 1.54744526e-01, 1.54744526e-01]]))"
      ]
     },
     "execution_count": 14,
     "metadata": {},
     "output_type": "execute_result"
    }
   ],
   "source": [
    "chi2_contingency(ct) # Conducting a Chi-Square test for 2 categories"
   ]
  },
  {
   "cell_type": "markdown",
   "metadata": {},
   "source": [
    "## Hypothesis\n",
    "\n",
    "* *H0: There is no relation between the Administrative Column and the Revenue Column\n",
    "* *Ha: There is a relation between the Administrative Column and the Revenue Column.\n",
    "\n",
    "#### Observation\n",
    "\n",
    "* The p-value of the chi-square test is 1.0921137453222899e-71.\n",
    "* This value is less than critical value of 0.05.\n",
    "* This allows us to reject the null hypothesis H0\n",
    "* Decision: This feature is a significant feature in prediction of our target feature."
   ]
  },
  {
   "cell_type": "code",
   "execution_count": null,
   "metadata": {},
   "outputs": [],
   "source": []
  },
  {
   "cell_type": "markdown",
   "metadata": {},
   "source": [
    "## Administrative Duration Column\n",
    "As of my understanding, this should mean the duraction spent by the person browsing the pages.\n",
    "These values can be taken only as continious values."
   ]
  },
  {
   "cell_type": "code",
   "execution_count": 15,
   "metadata": {},
   "outputs": [
    {
     "name": "stderr",
     "output_type": "stream",
     "text": [
      "C:\\Users\\91917\\Anaconda3\\lib\\site-packages\\seaborn\\_core.py:1303: UserWarning: Vertical orientation ignored with only `x` specified.\n",
      "  warnings.warn(single_var_warning.format(\"Vertical\", \"x\"))\n"
     ]
    },
    {
     "data": {
      "image/png": "[encoded data removed]",
      "text/plain": [
       "<Figure size 1296x576 with 2 Axes>"
      ]
     },
     "metadata": {
      "needs_background": "light"
     },
     "output_type": "display_data"
    }
   ],
   "source": [
    "fig, axes = plt.subplots(1,2,figsize=(18,8))\n",
    "axes = axes.flatten()\n",
    "# Density plot for Administrative Duration\n",
    "df['Administrative_Duration'].plot(kind='kde',ax=axes[0])\n",
    "axes[0].set_title('Density plot for Administrative Duration')\n",
    "\n",
    "sns.boxplot(df['Administrative_Duration'],ax=axes[1],orient='v')\n",
    "axes[1].set_title('Box Plot of Administrative Duration')\n",
    "plt.show()"
   ]
  },
  {
   "cell_type": "markdown",
   "metadata": {},
   "source": [
    "## Observation:\n",
    "\n",
    "* The data seems skewed to the right.\n",
    "* Need to check for normality of the data."
   ]
  },
  {
   "cell_type": "code",
   "execution_count": 16,
   "metadata": {},
   "outputs": [
    {
     "data": {
      "text/plain": [
       "count    12330.000000\n",
       "mean        80.818611\n",
       "std        176.779107\n",
       "min          0.000000\n",
       "25%          0.000000\n",
       "50%          7.500000\n",
       "75%         93.256250\n",
       "max       3398.750000\n",
       "Name: Administrative_Duration, dtype: float64"
      ]
     },
     "execution_count": 16,
     "metadata": {},
     "output_type": "execute_result"
    }
   ],
   "source": [
    "# Statistical Summary of Administrative Duration Attribute\n",
    "df['Administrative_Duration'].describe()"
   ]
  },
  {
   "cell_type": "code",
   "execution_count": 17,
   "metadata": {},
   "outputs": [
    {
     "data": {
      "text/plain": [
       "5.61571901877419"
      ]
     },
     "execution_count": 17,
     "metadata": {},
     "output_type": "execute_result"
    }
   ],
   "source": [
    "# Skewness\n",
    "df['Administrative_Duration'].skew()"
   ]
  },
  {
   "cell_type": "markdown",
   "metadata": {},
   "source": [
    "## Relation with the Target attribute"
   ]
  },
  {
   "cell_type": "code",
   "execution_count": 18,
   "metadata": {},
   "outputs": [],
   "source": [
    "# Seperating the values for independant t test\n",
    "adminduration_a = df[df['Revenue']==True]['Administrative_Duration']\n",
    "adminduration_b = df[df['Revenue']==False]['Administrative_Duration']"
   ]
  },
  {
   "cell_type": "code",
   "execution_count": 19,
   "metadata": {},
   "outputs": [
    {
     "data": {
      "text/plain": [
       "Ttest_indResult(statistic=10.436882428979535, pvalue=2.146513634744256e-25)"
      ]
     },
     "execution_count": 19,
     "metadata": {},
     "output_type": "execute_result"
    }
   ],
   "source": [
    "# Conducting a independant ttest\n",
    "ttest_ind(adminduration_a,adminduration_b)"
   ]
  },
  {
   "cell_type": "code",
   "execution_count": 20,
   "metadata": {},
   "outputs": [
    {
     "data": {
      "text/plain": [
       "LeveneResult(statistic=62.337639832485486, pvalue=3.1376733574150832e-15)"
      ]
     },
     "execution_count": 20,
     "metadata": {},
     "output_type": "execute_result"
    }
   ],
   "source": [
    "# Non Parametric Test incase of Non Parametric Model\n",
    "# We are choosing median becuase our data is skewed\n",
    "levene(adminduration_a,adminduration_b,center='median')"
   ]
  },
  {
   "cell_type": "markdown",
   "metadata": {},
   "source": [
    "## Hypothesis\n",
    "\n",
    "* *H0: There is no relation between the Administrative Column and the Revenue Column\n",
    "* *Ha: There is a relation between the Administrative Column and the Revenue Column.\n",
    "\n",
    "#### Observation\n",
    "\n",
    "The p-values are less than the α or the critical value 0.05.\n",
    "Thus we can reject the null hypothesis *H0* and accept the alternative hypothesis *Ha*.\n",
    "\n",
    "* Decision: We can accept that the feature is significant in predicting the Revenue Attribute."
   ]
  },
  {
   "cell_type": "code",
   "execution_count": null,
   "metadata": {},
   "outputs": [],
   "source": []
  },
  {
   "cell_type": "markdown",
   "metadata": {},
   "source": [
    "## Informational Column\n",
    "* If my understanding about the Informational column is right, then the column means the number of informational pages visited by the user during that particular session.\n",
    "* The values should be discrete in nature.\n",
    "* This could act as categorical in nature.\n",
    "* We can classify or group these values into 3 groups,\n",
    "    * High Page visits Group\n",
    "    * Moderate Page visits Group\n",
    "    * Low Page visits Group"
   ]
  },
  {
   "cell_type": "code",
   "execution_count": 21,
   "metadata": {},
   "outputs": [
    {
     "data": {
      "image/png": "[encoded data removed]",
      "text/plain": [
       "<Figure size 720x576 with 1 Axes>"
      ]
     },
     "metadata": {
      "needs_background": "light"
     },
     "output_type": "display_data"
    }
   ],
   "source": [
    "plt.figure(figsize=(10,8))\n",
    "# Count plot\n",
    "plt.title('Histogram for people who went through the Informational pages')\n",
    "sns.countplot(df['Informational'])\n",
    "plt.show()"
   ]
  },
  {
   "cell_type": "code",
   "execution_count": 22,
   "metadata": {},
   "outputs": [
    {
     "data": {
      "text/plain": [
       "0     0.786618\n",
       "1     0.084428\n",
       "2     0.059043\n",
       "3     0.030819\n",
       "4     0.018005\n",
       "5     0.008029\n",
       "6     0.006326\n",
       "7     0.002920\n",
       "9     0.001217\n",
       "8     0.001135\n",
       "10    0.000568\n",
       "12    0.000406\n",
       "14    0.000162\n",
       "11    0.000081\n",
       "13    0.000081\n",
       "24    0.000081\n",
       "16    0.000081\n",
       "Name: Informational, dtype: float64"
      ]
     },
     "execution_count": 22,
     "metadata": {},
     "output_type": "execute_result"
    }
   ],
   "source": [
    "# Checking the percentage of infomational visits\n",
    "df['Informational'].value_counts(normalize=True)"
   ]
  },
  {
   "cell_type": "code",
   "execution_count": 23,
   "metadata": {},
   "outputs": [],
   "source": [
    "# Converting the Informational Column to Categorical\n",
    "df['Informational'] = df['Informational'].astype('category')"
   ]
  },
  {
   "cell_type": "code",
   "execution_count": 24,
   "metadata": {},
   "outputs": [
    {
     "data": {
      "text/plain": [
       "count     12330\n",
       "unique       17\n",
       "top           0\n",
       "freq       9699\n",
       "Name: Informational, dtype: int64"
      ]
     },
     "execution_count": 24,
     "metadata": {},
     "output_type": "execute_result"
    }
   ],
   "source": [
    "# Summary Statistics\n",
    "df['Informational'].describe()"
   ]
  },
  {
   "cell_type": "markdown",
   "metadata": {},
   "source": [
    "## Relation with the Target attribute"
   ]
  },
  {
   "cell_type": "code",
   "execution_count": 25,
   "metadata": {},
   "outputs": [
    {
     "data": {
      "text/html": [
       "<div>\n",
       "<style scoped>\n",
       "    .dataframe tbody tr th:only-of-type {\n",
       "        vertical-align: middle;\n",
       "    }\n",
       "\n",
       "    .dataframe tbody tr th {\n",
       "        vertical-align: top;\n",
       "    }\n",
       "\n",
       "    .dataframe thead th {\n",
       "        text-align: right;\n",
       "    }\n",
       "</style>\n",
       "<table border=\"1\" class=\"dataframe\">\n",
       "  <thead>\n",
       "    <tr style=\"text-align: right;\">\n",
       "      <th>Informational</th>\n",
       "      <th>0</th>\n",
       "      <th>1</th>\n",
       "      <th>2</th>\n",
       "      <th>3</th>\n",
       "      <th>4</th>\n",
       "      <th>5</th>\n",
       "      <th>6</th>\n",
       "      <th>7</th>\n",
       "      <th>8</th>\n",
       "      <th>9</th>\n",
       "      <th>10</th>\n",
       "      <th>11</th>\n",
       "      <th>12</th>\n",
       "      <th>13</th>\n",
       "      <th>14</th>\n",
       "      <th>16</th>\n",
       "      <th>24</th>\n",
       "    </tr>\n",
       "    <tr>\n",
       "      <th>Revenue</th>\n",
       "      <th></th>\n",
       "      <th></th>\n",
       "      <th></th>\n",
       "      <th></th>\n",
       "      <th></th>\n",
       "      <th></th>\n",
       "      <th></th>\n",
       "      <th></th>\n",
       "      <th></th>\n",
       "      <th></th>\n",
       "      <th></th>\n",
       "      <th></th>\n",
       "      <th></th>\n",
       "      <th></th>\n",
       "      <th></th>\n",
       "      <th></th>\n",
       "      <th></th>\n",
       "    </tr>\n",
       "  </thead>\n",
       "  <tbody>\n",
       "    <tr>\n",
       "      <th>False</th>\n",
       "      <td>8404</td>\n",
       "      <td>805</td>\n",
       "      <td>574</td>\n",
       "      <td>287</td>\n",
       "      <td>160</td>\n",
       "      <td>68</td>\n",
       "      <td>61</td>\n",
       "      <td>30</td>\n",
       "      <td>10</td>\n",
       "      <td>9</td>\n",
       "      <td>5</td>\n",
       "      <td>1</td>\n",
       "      <td>3</td>\n",
       "      <td>1</td>\n",
       "      <td>2</td>\n",
       "      <td>1</td>\n",
       "      <td>1</td>\n",
       "    </tr>\n",
       "    <tr>\n",
       "      <th>True</th>\n",
       "      <td>1295</td>\n",
       "      <td>236</td>\n",
       "      <td>154</td>\n",
       "      <td>93</td>\n",
       "      <td>62</td>\n",
       "      <td>31</td>\n",
       "      <td>17</td>\n",
       "      <td>6</td>\n",
       "      <td>4</td>\n",
       "      <td>6</td>\n",
       "      <td>2</td>\n",
       "      <td>0</td>\n",
       "      <td>2</td>\n",
       "      <td>0</td>\n",
       "      <td>0</td>\n",
       "      <td>0</td>\n",
       "      <td>0</td>\n",
       "    </tr>\n",
       "  </tbody>\n",
       "</table>\n",
       "</div>"
      ],
      "text/plain": [
       "Informational     0    1    2    3    4   5   6   7   8  9  10  11  12  13  \\\n",
       "Revenue                                                                      \n",
       "False          8404  805  574  287  160  68  61  30  10  9   5   1   3   1   \n",
       "True           1295  236  154   93   62  31  17   6   4  6   2   0   2   0   \n",
       "\n",
       "Informational  14  16  24  \n",
       "Revenue                    \n",
       "False           2   1   1  \n",
       "True            0   0   0  "
      ]
     },
     "execution_count": 25,
     "metadata": {},
     "output_type": "execute_result"
    }
   ],
   "source": [
    "# Applying a crosstab inorder to perform a chi-square test\n",
    "ct = pd.crosstab(index=df['Revenue'],columns=df['Informational'])\n",
    "ct"
   ]
  },
  {
   "cell_type": "code",
   "execution_count": 26,
   "metadata": {},
   "outputs": [
    {
     "data": {
      "text/plain": [
       "(176.8832900548877,\n",
       " 3.5466035116225986e-29,\n",
       " 16,\n",
       " array([[8.19813285e+03, 8.79910949e+02, 6.15345985e+02, 3.21197080e+02,\n",
       "         1.87646715e+02, 8.36802920e+01, 6.59299270e+01, 3.04291971e+01,\n",
       "         1.18335766e+01, 1.26788321e+01, 5.91678832e+00, 8.45255474e-01,\n",
       "         4.22627737e+00, 8.45255474e-01, 1.69051095e+00, 8.45255474e-01,\n",
       "         8.45255474e-01],\n",
       "        [1.50086715e+03, 1.61089051e+02, 1.12654015e+02, 5.88029197e+01,\n",
       "         3.43532847e+01, 1.53197080e+01, 1.20700730e+01, 5.57080292e+00,\n",
       "         2.16642336e+00, 2.32116788e+00, 1.08321168e+00, 1.54744526e-01,\n",
       "         7.73722628e-01, 1.54744526e-01, 3.09489051e-01, 1.54744526e-01,\n",
       "         1.54744526e-01]]))"
      ]
     },
     "execution_count": 26,
     "metadata": {},
     "output_type": "execute_result"
    }
   ],
   "source": [
    "#Chi Square Test\n",
    "chi2_contingency(ct)"
   ]
  },
  {
   "cell_type": "markdown",
   "metadata": {},
   "source": [
    "## Hypothesis\n",
    "\n",
    "* H0: There is no relation between the Informational Column and the Revenue Column\n",
    "\n",
    "* Ha: There is a relation between the Informational Column and the Revenue Column.\n",
    "\n",
    "#### Observation:\n",
    "\n",
    "The p-value for the test is less than the critical value.\n",
    "We can reject the null hypothesis H0.\n",
    "\n",
    "This shows that there is a relation between the Informational Column and the Target attribute.\n",
    "* Decision: The Informational Column is a significant Feature in predicting our Target attribute."
   ]
  },
  {
   "cell_type": "code",
   "execution_count": null,
   "metadata": {},
   "outputs": [],
   "source": []
  },
  {
   "cell_type": "markdown",
   "metadata": {},
   "source": [
    "# Informational Duration Column"
   ]
  },
  {
   "cell_type": "code",
   "execution_count": 27,
   "metadata": {},
   "outputs": [
    {
     "data": {
      "image/png": "[encoded data removed]",
      "text/plain": [
       "<Figure size 1296x576 with 2 Axes>"
      ]
     },
     "metadata": {
      "needs_background": "light"
     },
     "output_type": "display_data"
    }
   ],
   "source": [
    "fig, axes = plt.subplots(1,2,figsize=(18,8))\n",
    "axes = axes.flatten()\n",
    "# Density plot for Administrative Duration\n",
    "df['Informational_Duration'].plot(kind='kde',ax=axes[0])\n",
    "axes[0].set_title('Density plot for Informational Duration')\n",
    "\n",
    "axes[1].boxplot(df['Informational_Duration'])\n",
    "axes[1].set_title('Box Plot of Informational Duration')\n",
    "plt.show()"
   ]
  },
  {
   "cell_type": "code",
   "execution_count": 28,
   "metadata": {},
   "outputs": [
    {
     "data": {
      "text/plain": [
       "count    12330.000000\n",
       "mean        34.472398\n",
       "std        140.749294\n",
       "min          0.000000\n",
       "25%          0.000000\n",
       "50%          0.000000\n",
       "75%          0.000000\n",
       "max       2549.375000\n",
       "Name: Informational_Duration, dtype: float64"
      ]
     },
     "execution_count": 28,
     "metadata": {},
     "output_type": "execute_result"
    }
   ],
   "source": [
    "# Statistical Summary of Informational Duration Attribute\n",
    "df['Informational_Duration'].describe()"
   ]
  },
  {
   "cell_type": "code",
   "execution_count": 29,
   "metadata": {},
   "outputs": [
    {
     "data": {
      "text/plain": [
       "7.579184715734214"
      ]
     },
     "execution_count": 29,
     "metadata": {},
     "output_type": "execute_result"
    }
   ],
   "source": [
    "# Skewness \n",
    "df['Informational_Duration'].skew()"
   ]
  },
  {
   "cell_type": "markdown",
   "metadata": {},
   "source": [
    "## Relation with the Target attribute"
   ]
  },
  {
   "cell_type": "code",
   "execution_count": 30,
   "metadata": {},
   "outputs": [],
   "source": [
    "# Seperating the values for independant t test\n",
    "infoduration_a = df[df['Revenue']==True]['Informational_Duration']\n",
    "infoduration_b = df[df['Revenue']==False]['Informational_Duration']"
   ]
  },
  {
   "cell_type": "code",
   "execution_count": 31,
   "metadata": {},
   "outputs": [
    {
     "data": {
      "image/png": "[encoded data removed]",
      "text/plain": [
       "<Figure size 720x576 with 1 Axes>"
      ]
     },
     "metadata": {
      "needs_background": "light"
     },
     "output_type": "display_data"
    }
   ],
   "source": [
    "# Box plot\n",
    "plt.figure(figsize=(10,8))\n",
    "plt.title('Box plot of Informational Duration with respect to the Revenue')\n",
    "sns.boxplot(y='Informational_Duration',x='Revenue',data=df,orient='v')\n",
    "plt.show()"
   ]
  },
  {
   "cell_type": "code",
   "execution_count": 32,
   "metadata": {},
   "outputs": [
    {
     "data": {
      "text/plain": [
       "Ttest_indResult(statistic=7.829853965264804, pvalue=5.282870860721331e-15)"
      ]
     },
     "execution_count": 32,
     "metadata": {},
     "output_type": "execute_result"
    }
   ],
   "source": [
    "# Independant T Test\n",
    "ttest_ind(infoduration_a,infoduration_b)"
   ]
  },
  {
   "cell_type": "code",
   "execution_count": 33,
   "metadata": {},
   "outputs": [
    {
     "data": {
      "text/plain": [
       "LeveneResult(statistic=61.30661311737298, pvalue=5.2828708606337516e-15)"
      ]
     },
     "execution_count": 33,
     "metadata": {},
     "output_type": "execute_result"
    }
   ],
   "source": [
    "# Non Parametric test as Levene\n",
    "# Center as median because the values are heavily skewed\n",
    "levene(infoduration_a,infoduration_b,center='median')"
   ]
  },
  {
   "cell_type": "markdown",
   "metadata": {},
   "source": [
    "## Hypothesis\n",
    "\n",
    "* H0: There is no relation between the Informational_Duration Column and the Revenue Column\n",
    "*Ha: There is a relation between the Informational_Duration Column and the Revenue Column.\n",
    "\n",
    "#### Observations:\n",
    "\n",
    "The p-values are less than the α or the critical value 0.05.\n",
    "Thus we can reject the null hypothesis H0 and accept the alternative hypothesis Ha.\n",
    "* Decision: We can accept that the feature is significant in predicting the Revenue Attribute."
   ]
  },
  {
   "cell_type": "markdown",
   "metadata": {},
   "source": []
  },
  {
   "cell_type": "markdown",
   "metadata": {},
   "source": [
    "## Product Related"
   ]
  },
  {
   "cell_type": "code",
   "execution_count": 34,
   "metadata": {},
   "outputs": [
    {
     "data": {
      "text/plain": [
       "1      622\n",
       "2      465\n",
       "3      458\n",
       "4      404\n",
       "6      396\n",
       "      ... \n",
       "377      1\n",
       "385      1\n",
       "292      1\n",
       "409      1\n",
       "339      1\n",
       "Name: ProductRelated, Length: 311, dtype: int64"
      ]
     },
     "execution_count": 34,
     "metadata": {},
     "output_type": "execute_result"
    }
   ],
   "source": [
    "df['ProductRelated'].value_counts()"
   ]
  },
  {
   "cell_type": "code",
   "execution_count": 35,
   "metadata": {},
   "outputs": [],
   "source": [
    "# Changing the Product Related Column as Categorical\n",
    "df['ProductRelated'] = df['ProductRelated'].astype('category')"
   ]
  },
  {
   "cell_type": "code",
   "execution_count": 36,
   "metadata": {},
   "outputs": [
    {
     "data": {
      "text/plain": [
       "count     12330\n",
       "unique      311\n",
       "top           1\n",
       "freq        622\n",
       "Name: ProductRelated, dtype: int64"
      ]
     },
     "execution_count": 36,
     "metadata": {},
     "output_type": "execute_result"
    }
   ],
   "source": [
    "# Statistical Summary\n",
    "df['ProductRelated'].describe()"
   ]
  },
  {
   "cell_type": "markdown",
   "metadata": {},
   "source": [
    "## Relation with the Target attribute"
   ]
  },
  {
   "cell_type": "code",
   "execution_count": 37,
   "metadata": {},
   "outputs": [
    {
     "data": {
      "text/html": [
       "<div>\n",
       "<style scoped>\n",
       "    .dataframe tbody tr th:only-of-type {\n",
       "        vertical-align: middle;\n",
       "    }\n",
       "\n",
       "    .dataframe tbody tr th {\n",
       "        vertical-align: top;\n",
       "    }\n",
       "\n",
       "    .dataframe thead th {\n",
       "        text-align: right;\n",
       "    }\n",
       "</style>\n",
       "<table border=\"1\" class=\"dataframe\">\n",
       "  <thead>\n",
       "    <tr style=\"text-align: right;\">\n",
       "      <th>ProductRelated</th>\n",
       "      <th>0</th>\n",
       "      <th>1</th>\n",
       "      <th>2</th>\n",
       "      <th>3</th>\n",
       "      <th>4</th>\n",
       "      <th>5</th>\n",
       "      <th>6</th>\n",
       "      <th>7</th>\n",
       "      <th>8</th>\n",
       "      <th>9</th>\n",
       "      <th>...</th>\n",
       "      <th>449</th>\n",
       "      <th>470</th>\n",
       "      <th>486</th>\n",
       "      <th>501</th>\n",
       "      <th>517</th>\n",
       "      <th>518</th>\n",
       "      <th>534</th>\n",
       "      <th>584</th>\n",
       "      <th>686</th>\n",
       "      <th>705</th>\n",
       "    </tr>\n",
       "    <tr>\n",
       "      <th>Revenue</th>\n",
       "      <th></th>\n",
       "      <th></th>\n",
       "      <th></th>\n",
       "      <th></th>\n",
       "      <th></th>\n",
       "      <th></th>\n",
       "      <th></th>\n",
       "      <th></th>\n",
       "      <th></th>\n",
       "      <th></th>\n",
       "      <th></th>\n",
       "      <th></th>\n",
       "      <th></th>\n",
       "      <th></th>\n",
       "      <th></th>\n",
       "      <th></th>\n",
       "      <th></th>\n",
       "      <th></th>\n",
       "      <th></th>\n",
       "      <th></th>\n",
       "      <th></th>\n",
       "    </tr>\n",
       "  </thead>\n",
       "  <tbody>\n",
       "    <tr>\n",
       "      <th>False</th>\n",
       "      <td>32</td>\n",
       "      <td>609</td>\n",
       "      <td>445</td>\n",
       "      <td>433</td>\n",
       "      <td>386</td>\n",
       "      <td>362</td>\n",
       "      <td>372</td>\n",
       "      <td>356</td>\n",
       "      <td>328</td>\n",
       "      <td>283</td>\n",
       "      <td>...</td>\n",
       "      <td>1</td>\n",
       "      <td>0</td>\n",
       "      <td>1</td>\n",
       "      <td>0</td>\n",
       "      <td>0</td>\n",
       "      <td>1</td>\n",
       "      <td>0</td>\n",
       "      <td>1</td>\n",
       "      <td>1</td>\n",
       "      <td>1</td>\n",
       "    </tr>\n",
       "    <tr>\n",
       "      <th>True</th>\n",
       "      <td>6</td>\n",
       "      <td>13</td>\n",
       "      <td>20</td>\n",
       "      <td>25</td>\n",
       "      <td>18</td>\n",
       "      <td>20</td>\n",
       "      <td>24</td>\n",
       "      <td>35</td>\n",
       "      <td>42</td>\n",
       "      <td>34</td>\n",
       "      <td>...</td>\n",
       "      <td>0</td>\n",
       "      <td>1</td>\n",
       "      <td>0</td>\n",
       "      <td>1</td>\n",
       "      <td>1</td>\n",
       "      <td>0</td>\n",
       "      <td>1</td>\n",
       "      <td>0</td>\n",
       "      <td>0</td>\n",
       "      <td>0</td>\n",
       "    </tr>\n",
       "  </tbody>\n",
       "</table>\n",
       "<p>2 rows × 311 columns</p>\n",
       "</div>"
      ],
      "text/plain": [
       "ProductRelated   0    1    2    3    4    5    6    7    8    9  ...  449  \\\n",
       "Revenue                                                          ...        \n",
       "False           32  609  445  433  386  362  372  356  328  283  ...    1   \n",
       "True             6   13   20   25   18   20   24   35   42   34  ...    0   \n",
       "\n",
       "ProductRelated  470  486  501  517  518  534  584  686  705  \n",
       "Revenue                                                      \n",
       "False             0    1    0    0    1    0    1    1    1  \n",
       "True              1    0    1    1    0    1    0    0    0  \n",
       "\n",
       "[2 rows x 311 columns]"
      ]
     },
     "execution_count": 37,
     "metadata": {},
     "output_type": "execute_result"
    }
   ],
   "source": [
    "ct = pd.crosstab(index=df['Revenue'],columns=df['ProductRelated'])\n",
    "ct"
   ]
  },
  {
   "cell_type": "code",
   "execution_count": 38,
   "metadata": {},
   "outputs": [
    {
     "data": {
      "text/plain": [
       "(973.7726406478885,\n",
       " 1.2201453528044542e-69,\n",
       " 310,\n",
       " array([[3.21197080e+01, 5.25748905e+02, 3.93043796e+02, 3.87127007e+02,\n",
       "         3.41483212e+02, 3.22887591e+02, 3.34721168e+02, 3.30494891e+02,\n",
       "         3.12744526e+02, 2.67945985e+02, 2.78934307e+02, 2.60338686e+02,\n",
       "         2.64564964e+02, 2.44278832e+02, 2.12159124e+02, 2.28218978e+02,\n",
       "         2.19766423e+02, 1.91027737e+02, 1.69051095e+02, 1.84265693e+02,\n",
       "         1.90182482e+02, 1.68205839e+02, 1.80039416e+02, 1.52145985e+02,\n",
       "         1.62289051e+02, 1.30169343e+02, 1.31014599e+02, 1.49610219e+02,\n",
       "         1.21716788e+02, 1.14109489e+02, 1.20026277e+02, 1.08192701e+02,\n",
       "         1.00585401e+02, 1.02275912e+02, 8.70613139e+01, 8.53708029e+01,\n",
       "         9.29781022e+01, 9.97401460e+01, 7.52277372e+01, 9.21328467e+01,\n",
       "         6.00131387e+01, 7.18467153e+01, 6.50846715e+01, 6.17036496e+01,\n",
       "         5.83226277e+01, 6.00131387e+01, 5.74773723e+01, 4.73343066e+01,\n",
       "         5.24058394e+01, 5.07153285e+01, 5.40963504e+01, 4.39532847e+01,\n",
       "         4.22627737e+01, 5.07153285e+01, 3.88817518e+01, 3.80364964e+01,\n",
       "         3.71912409e+01, 3.97270073e+01, 3.46554745e+01, 4.05722628e+01,\n",
       "         3.55007299e+01, 3.38102190e+01, 3.88817518e+01, 3.29649635e+01,\n",
       "         3.04291971e+01, 2.78934307e+01, 3.21197080e+01, 2.53576642e+01,\n",
       "         2.70481752e+01, 2.53576642e+01, 2.45124088e+01, 2.78934307e+01,\n",
       "         2.28218978e+01, 2.02861314e+01, 2.11313869e+01, 1.43693431e+01,\n",
       "         1.52145985e+01, 2.02861314e+01, 1.01430657e+01, 2.62029197e+01,\n",
       "         2.11313869e+01, 3.12744526e+01, 1.94408759e+01, 1.77503650e+01,\n",
       "         1.69051095e+01, 2.36671533e+01, 1.18335766e+01, 1.26788321e+01,\n",
       "         1.26788321e+01, 1.85956204e+01, 1.43693431e+01, 1.52145985e+01,\n",
       "         8.45255474e+00, 1.69051095e+01, 1.52145985e+01, 1.60598540e+01,\n",
       "         1.26788321e+01, 1.26788321e+01, 1.60598540e+01, 7.60729927e+00,\n",
       "         8.45255474e+00, 1.18335766e+01, 9.29781022e+00, 1.01430657e+01,\n",
       "         1.01430657e+01, 5.07153285e+00, 1.18335766e+01, 1.09883212e+01,\n",
       "         1.09883212e+01, 1.09883212e+01, 7.60729927e+00, 1.43693431e+01,\n",
       "         5.91678832e+00, 1.01430657e+01, 1.01430657e+01, 9.29781022e+00,\n",
       "         9.29781022e+00, 6.76204380e+00, 8.45255474e+00, 4.22627737e+00,\n",
       "         7.60729927e+00, 3.38102190e+00, 1.01430657e+01, 3.38102190e+00,\n",
       "         5.91678832e+00, 8.45255474e+00, 5.91678832e+00, 5.91678832e+00,\n",
       "         5.91678832e+00, 8.45255474e+00, 8.45255474e+00, 1.09883212e+01,\n",
       "         7.60729927e+00, 6.76204380e+00, 4.22627737e+00, 3.38102190e+00,\n",
       "         3.38102190e+00, 9.29781022e+00, 3.38102190e+00, 4.22627737e+00,\n",
       "         5.91678832e+00, 6.76204380e+00, 2.53576642e+00, 3.38102190e+00,\n",
       "         2.53576642e+00, 5.07153285e+00, 5.07153285e+00, 2.53576642e+00,\n",
       "         3.38102190e+00, 5.91678832e+00, 5.07153285e+00, 4.22627737e+00,\n",
       "         6.76204380e+00, 2.53576642e+00, 9.29781022e+00, 4.22627737e+00,\n",
       "         3.38102190e+00, 4.22627737e+00, 8.45255474e-01, 5.91678832e+00,\n",
       "         2.53576642e+00, 3.38102190e+00, 6.76204380e+00, 8.45255474e-01,\n",
       "         3.38102190e+00, 8.45255474e-01, 1.69051095e+00, 3.38102190e+00,\n",
       "         1.69051095e+00, 1.69051095e+00, 2.53576642e+00, 5.91678832e+00,\n",
       "         3.38102190e+00, 1.69051095e+00, 2.53576642e+00, 2.53576642e+00,\n",
       "         3.38102190e+00, 8.45255474e-01, 2.53576642e+00, 3.38102190e+00,\n",
       "         1.69051095e+00, 2.53576642e+00, 2.53576642e+00, 8.45255474e-01,\n",
       "         1.69051095e+00, 2.53576642e+00, 2.53576642e+00, 1.69051095e+00,\n",
       "         2.53576642e+00, 1.69051095e+00, 8.45255474e-01, 8.45255474e-01,\n",
       "         2.53576642e+00, 1.69051095e+00, 2.53576642e+00, 1.69051095e+00,\n",
       "         1.69051095e+00, 1.69051095e+00, 3.38102190e+00, 2.53576642e+00,\n",
       "         1.69051095e+00, 8.45255474e-01, 1.69051095e+00, 8.45255474e-01,\n",
       "         8.45255474e-01, 8.45255474e-01, 3.38102190e+00, 1.69051095e+00,\n",
       "         8.45255474e-01, 8.45255474e-01, 1.69051095e+00, 1.69051095e+00,\n",
       "         2.53576642e+00, 3.38102190e+00, 8.45255474e-01, 1.69051095e+00,\n",
       "         8.45255474e-01, 8.45255474e-01, 2.53576642e+00, 2.53576642e+00,\n",
       "         2.53576642e+00, 1.69051095e+00, 8.45255474e-01, 8.45255474e-01,\n",
       "         8.45255474e-01, 8.45255474e-01, 2.53576642e+00, 1.69051095e+00,\n",
       "         8.45255474e-01, 8.45255474e-01, 8.45255474e-01, 1.69051095e+00,\n",
       "         8.45255474e-01, 8.45255474e-01, 8.45255474e-01, 8.45255474e-01,\n",
       "         8.45255474e-01, 8.45255474e-01, 8.45255474e-01, 8.45255474e-01,\n",
       "         2.53576642e+00, 8.45255474e-01, 8.45255474e-01, 8.45255474e-01,\n",
       "         1.69051095e+00, 8.45255474e-01, 8.45255474e-01, 8.45255474e-01,\n",
       "         8.45255474e-01, 8.45255474e-01, 8.45255474e-01, 8.45255474e-01,\n",
       "         1.69051095e+00, 8.45255474e-01, 8.45255474e-01, 8.45255474e-01,\n",
       "         8.45255474e-01, 8.45255474e-01, 8.45255474e-01, 8.45255474e-01,\n",
       "         8.45255474e-01, 8.45255474e-01, 8.45255474e-01, 8.45255474e-01,\n",
       "         8.45255474e-01, 1.69051095e+00, 8.45255474e-01, 8.45255474e-01,\n",
       "         8.45255474e-01, 8.45255474e-01, 8.45255474e-01, 8.45255474e-01,\n",
       "         8.45255474e-01, 8.45255474e-01, 8.45255474e-01, 1.69051095e+00,\n",
       "         1.69051095e+00, 8.45255474e-01, 8.45255474e-01, 8.45255474e-01,\n",
       "         8.45255474e-01, 8.45255474e-01, 8.45255474e-01, 8.45255474e-01,\n",
       "         8.45255474e-01, 8.45255474e-01, 8.45255474e-01, 8.45255474e-01,\n",
       "         8.45255474e-01, 8.45255474e-01, 8.45255474e-01, 8.45255474e-01,\n",
       "         8.45255474e-01, 8.45255474e-01, 1.69051095e+00, 8.45255474e-01,\n",
       "         8.45255474e-01, 8.45255474e-01, 8.45255474e-01, 1.69051095e+00,\n",
       "         8.45255474e-01, 8.45255474e-01, 8.45255474e-01, 8.45255474e-01,\n",
       "         8.45255474e-01, 8.45255474e-01, 8.45255474e-01, 8.45255474e-01,\n",
       "         8.45255474e-01, 8.45255474e-01, 8.45255474e-01],\n",
       "        [5.88029197e+00, 9.62510949e+01, 7.19562044e+01, 7.08729927e+01,\n",
       "         6.25167883e+01, 5.91124088e+01, 6.12788321e+01, 6.05051095e+01,\n",
       "         5.72554745e+01, 4.90540146e+01, 5.10656934e+01, 4.76613139e+01,\n",
       "         4.84350365e+01, 4.47211679e+01, 3.88408759e+01, 4.17810219e+01,\n",
       "         4.02335766e+01, 3.49722628e+01, 3.09489051e+01, 3.37343066e+01,\n",
       "         3.48175182e+01, 3.07941606e+01, 3.29605839e+01, 2.78540146e+01,\n",
       "         2.97109489e+01, 2.38306569e+01, 2.39854015e+01, 2.73897810e+01,\n",
       "         2.22832117e+01, 2.08905109e+01, 2.19737226e+01, 1.98072993e+01,\n",
       "         1.84145985e+01, 1.87240876e+01, 1.59386861e+01, 1.56291971e+01,\n",
       "         1.70218978e+01, 1.82598540e+01, 1.37722628e+01, 1.68671533e+01,\n",
       "         1.09868613e+01, 1.31532847e+01, 1.19153285e+01, 1.12963504e+01,\n",
       "         1.06773723e+01, 1.09868613e+01, 1.05226277e+01, 8.66569343e+00,\n",
       "         9.59416058e+00, 9.28467153e+00, 9.90364964e+00, 8.04671533e+00,\n",
       "         7.73722628e+00, 9.28467153e+00, 7.11824818e+00, 6.96350365e+00,\n",
       "         6.80875912e+00, 7.27299270e+00, 6.34452555e+00, 7.42773723e+00,\n",
       "         6.49927007e+00, 6.18978102e+00, 7.11824818e+00, 6.03503650e+00,\n",
       "         5.57080292e+00, 5.10656934e+00, 5.88029197e+00, 4.64233577e+00,\n",
       "         4.95182482e+00, 4.64233577e+00, 4.48759124e+00, 5.10656934e+00,\n",
       "         4.17810219e+00, 3.71386861e+00, 3.86861314e+00, 2.63065693e+00,\n",
       "         2.78540146e+00, 3.71386861e+00, 1.85693431e+00, 4.79708029e+00,\n",
       "         3.86861314e+00, 5.72554745e+00, 3.55912409e+00, 3.24963504e+00,\n",
       "         3.09489051e+00, 4.33284672e+00, 2.16642336e+00, 2.32116788e+00,\n",
       "         2.32116788e+00, 3.40437956e+00, 2.63065693e+00, 2.78540146e+00,\n",
       "         1.54744526e+00, 3.09489051e+00, 2.78540146e+00, 2.94014599e+00,\n",
       "         2.32116788e+00, 2.32116788e+00, 2.94014599e+00, 1.39270073e+00,\n",
       "         1.54744526e+00, 2.16642336e+00, 1.70218978e+00, 1.85693431e+00,\n",
       "         1.85693431e+00, 9.28467153e-01, 2.16642336e+00, 2.01167883e+00,\n",
       "         2.01167883e+00, 2.01167883e+00, 1.39270073e+00, 2.63065693e+00,\n",
       "         1.08321168e+00, 1.85693431e+00, 1.85693431e+00, 1.70218978e+00,\n",
       "         1.70218978e+00, 1.23795620e+00, 1.54744526e+00, 7.73722628e-01,\n",
       "         1.39270073e+00, 6.18978102e-01, 1.85693431e+00, 6.18978102e-01,\n",
       "         1.08321168e+00, 1.54744526e+00, 1.08321168e+00, 1.08321168e+00,\n",
       "         1.08321168e+00, 1.54744526e+00, 1.54744526e+00, 2.01167883e+00,\n",
       "         1.39270073e+00, 1.23795620e+00, 7.73722628e-01, 6.18978102e-01,\n",
       "         6.18978102e-01, 1.70218978e+00, 6.18978102e-01, 7.73722628e-01,\n",
       "         1.08321168e+00, 1.23795620e+00, 4.64233577e-01, 6.18978102e-01,\n",
       "         4.64233577e-01, 9.28467153e-01, 9.28467153e-01, 4.64233577e-01,\n",
       "         6.18978102e-01, 1.08321168e+00, 9.28467153e-01, 7.73722628e-01,\n",
       "         1.23795620e+00, 4.64233577e-01, 1.70218978e+00, 7.73722628e-01,\n",
       "         6.18978102e-01, 7.73722628e-01, 1.54744526e-01, 1.08321168e+00,\n",
       "         4.64233577e-01, 6.18978102e-01, 1.23795620e+00, 1.54744526e-01,\n",
       "         6.18978102e-01, 1.54744526e-01, 3.09489051e-01, 6.18978102e-01,\n",
       "         3.09489051e-01, 3.09489051e-01, 4.64233577e-01, 1.08321168e+00,\n",
       "         6.18978102e-01, 3.09489051e-01, 4.64233577e-01, 4.64233577e-01,\n",
       "         6.18978102e-01, 1.54744526e-01, 4.64233577e-01, 6.18978102e-01,\n",
       "         3.09489051e-01, 4.64233577e-01, 4.64233577e-01, 1.54744526e-01,\n",
       "         3.09489051e-01, 4.64233577e-01, 4.64233577e-01, 3.09489051e-01,\n",
       "         4.64233577e-01, 3.09489051e-01, 1.54744526e-01, 1.54744526e-01,\n",
       "         4.64233577e-01, 3.09489051e-01, 4.64233577e-01, 3.09489051e-01,\n",
       "         3.09489051e-01, 3.09489051e-01, 6.18978102e-01, 4.64233577e-01,\n",
       "         3.09489051e-01, 1.54744526e-01, 3.09489051e-01, 1.54744526e-01,\n",
       "         1.54744526e-01, 1.54744526e-01, 6.18978102e-01, 3.09489051e-01,\n",
       "         1.54744526e-01, 1.54744526e-01, 3.09489051e-01, 3.09489051e-01,\n",
       "         4.64233577e-01, 6.18978102e-01, 1.54744526e-01, 3.09489051e-01,\n",
       "         1.54744526e-01, 1.54744526e-01, 4.64233577e-01, 4.64233577e-01,\n",
       "         4.64233577e-01, 3.09489051e-01, 1.54744526e-01, 1.54744526e-01,\n",
       "         1.54744526e-01, 1.54744526e-01, 4.64233577e-01, 3.09489051e-01,\n",
       "         1.54744526e-01, 1.54744526e-01, 1.54744526e-01, 3.09489051e-01,\n",
       "         1.54744526e-01, 1.54744526e-01, 1.54744526e-01, 1.54744526e-01,\n",
       "         1.54744526e-01, 1.54744526e-01, 1.54744526e-01, 1.54744526e-01,\n",
       "         4.64233577e-01, 1.54744526e-01, 1.54744526e-01, 1.54744526e-01,\n",
       "         3.09489051e-01, 1.54744526e-01, 1.54744526e-01, 1.54744526e-01,\n",
       "         1.54744526e-01, 1.54744526e-01, 1.54744526e-01, 1.54744526e-01,\n",
       "         3.09489051e-01, 1.54744526e-01, 1.54744526e-01, 1.54744526e-01,\n",
       "         1.54744526e-01, 1.54744526e-01, 1.54744526e-01, 1.54744526e-01,\n",
       "         1.54744526e-01, 1.54744526e-01, 1.54744526e-01, 1.54744526e-01,\n",
       "         1.54744526e-01, 3.09489051e-01, 1.54744526e-01, 1.54744526e-01,\n",
       "         1.54744526e-01, 1.54744526e-01, 1.54744526e-01, 1.54744526e-01,\n",
       "         1.54744526e-01, 1.54744526e-01, 1.54744526e-01, 3.09489051e-01,\n",
       "         3.09489051e-01, 1.54744526e-01, 1.54744526e-01, 1.54744526e-01,\n",
       "         1.54744526e-01, 1.54744526e-01, 1.54744526e-01, 1.54744526e-01,\n",
       "         1.54744526e-01, 1.54744526e-01, 1.54744526e-01, 1.54744526e-01,\n",
       "         1.54744526e-01, 1.54744526e-01, 1.54744526e-01, 1.54744526e-01,\n",
       "         1.54744526e-01, 1.54744526e-01, 3.09489051e-01, 1.54744526e-01,\n",
       "         1.54744526e-01, 1.54744526e-01, 1.54744526e-01, 3.09489051e-01,\n",
       "         1.54744526e-01, 1.54744526e-01, 1.54744526e-01, 1.54744526e-01,\n",
       "         1.54744526e-01, 1.54744526e-01, 1.54744526e-01, 1.54744526e-01,\n",
       "         1.54744526e-01, 1.54744526e-01, 1.54744526e-01]]))"
      ]
     },
     "execution_count": 38,
     "metadata": {},
     "output_type": "execute_result"
    }
   ],
   "source": [
    "# Chi Square Test\n",
    "\n",
    "chi2_contingency(ct)"
   ]
  },
  {
   "cell_type": "markdown",
   "metadata": {},
   "source": [
    "## Hypothesis\n",
    "\n",
    "* H0: There is no relation between the Product Related Column and the Revenue Column\n",
    "*Ha: There is a relation between the Product Related Column and the Revenue Column.\n",
    "\n",
    "#### Observations:\n",
    "\n",
    "The p-value for the test is less than the critical value.\n",
    "We can reject the null hypothesis H0.\n",
    "This shows that there is a relation between the Informational Column and the Target attribute.\n",
    "\n",
    "* Decision: The Informational Column is a significant Feature in predicting our Target attribute."
   ]
  },
  {
   "cell_type": "markdown",
   "metadata": {},
   "source": [
    "## Product Related Duration Column"
   ]
  },
  {
   "cell_type": "code",
   "execution_count": 39,
   "metadata": {},
   "outputs": [
    {
     "data": {
      "image/png": "[encoded data removed]",
      "text/plain": [
       "<Figure size 1296x576 with 2 Axes>"
      ]
     },
     "metadata": {
      "needs_background": "light"
     },
     "output_type": "display_data"
    }
   ],
   "source": [
    "fig, axes = plt.subplots(1,2,figsize=(18,8))\n",
    "axes = axes.flatten()\n",
    "# Density plot for Administrative Duration\n",
    "df['ProductRelated_Duration'].plot(kind='kde',ax=axes[0])\n",
    "axes[0].set_title('Density plot for Product Related Duration')\n",
    "\n",
    "axes[1].boxplot(df['ProductRelated_Duration'])\n",
    "axes[1].set_title('Box Plot of Product Related Duration')\n",
    "plt.show()"
   ]
  },
  {
   "cell_type": "markdown",
   "metadata": {},
   "source": [
    "## Relation with the Target Feature\n"
   ]
  },
  {
   "cell_type": "code",
   "execution_count": 40,
   "metadata": {},
   "outputs": [
    {
     "data": {
      "image/png": "[encoded data removed]",
      "text/plain": [
       "<Figure size 720x576 with 1 Axes>"
      ]
     },
     "metadata": {
      "needs_background": "light"
     },
     "output_type": "display_data"
    }
   ],
   "source": [
    "# Box plot\n",
    "plt.figure(figsize=(10,8))\n",
    "plt.title('Box plot of Product Related Duration with respect to the Revenue')\n",
    "sns.boxplot(y='ProductRelated_Duration',x='Revenue',data=df,orient='v')\n",
    "plt.show()"
   ]
  },
  {
   "cell_type": "code",
   "execution_count": 41,
   "metadata": {},
   "outputs": [],
   "source": [
    "# Seperating the values for conducting statistical Tests\n",
    "prodrelateddur_a = df[df['Revenue']==True]['ProductRelated_Duration']\n",
    "prodrelateddur_b = df[df['Revenue']==False]['ProductRelated_Duration']"
   ]
  },
  {
   "cell_type": "code",
   "execution_count": 42,
   "metadata": {},
   "outputs": [
    {
     "data": {
      "text/plain": [
       "Ttest_indResult(statistic=17.11804905311505, pvalue=6.115338253467455e-65)"
      ]
     },
     "execution_count": 42,
     "metadata": {},
     "output_type": "execute_result"
    }
   ],
   "source": [
    "ttest_ind(prodrelateddur_a,prodrelateddur_b)"
   ]
  },
  {
   "cell_type": "code",
   "execution_count": 43,
   "metadata": {},
   "outputs": [
    {
     "data": {
      "text/plain": [
       "LeveneResult(statistic=104.53875562045589, pvalue=1.9296172666668837e-24)"
      ]
     },
     "execution_count": 43,
     "metadata": {},
     "output_type": "execute_result"
    }
   ],
   "source": [
    "levene(prodrelateddur_a,prodrelateddur_b,center='median')"
   ]
  },
  {
   "cell_type": "markdown",
   "metadata": {},
   "source": [
    "## Hypothesis\n",
    "\n",
    "* H0: There is no relation between the ProductRelated_Duration Column and the Revenue Column\n",
    "\n",
    "* Ha:There is a relation between the ProductRelated_Duration Column and the Revenue Column.\n",
    "\n",
    "#### Observations:\n",
    "\n",
    "* The p-values are less than the α\n",
    " or the critical value 0.05.\n",
    "* Thus we can reject the null hypothesis H0\n",
    " and accept the alternative hypothesis Ha.\n",
    " \n",
    "* Decision: We can accept that the feature is significant in predicting the Revenue Attribute."
   ]
  },
  {
   "cell_type": "markdown",
   "metadata": {},
   "source": [
    "## Bounce Rate"
   ]
  },
  {
   "cell_type": "code",
   "execution_count": 44,
   "metadata": {},
   "outputs": [
    {
     "data": {
      "image/png": "[encoded data removed]",
      "text/plain": [
       "<Figure size 1296x576 with 2 Axes>"
      ]
     },
     "metadata": {
      "needs_background": "light"
     },
     "output_type": "display_data"
    }
   ],
   "source": [
    "fig, axes = plt.subplots(1,2,figsize=(18,8))\n",
    "axes = axes.flatten()\n",
    "# Density plot for Administrative Duration\n",
    "df['BounceRates'].plot(kind='kde',ax=axes[0])\n",
    "axes[0].set_title('Density plot for Bounce Rates')\n",
    "\n",
    "axes[1].boxplot(df['BounceRates'])\n",
    "axes[1].set_title('Box Plot of Bounce Rates')\n",
    "plt.show()"
   ]
  },
  {
   "cell_type": "markdown",
   "metadata": {},
   "source": [
    "#### Relation with the Target Features"
   ]
  },
  {
   "cell_type": "code",
   "execution_count": 45,
   "metadata": {},
   "outputs": [
    {
     "data": {
      "image/png": "[encoded data removed]",
      "text/plain": [
       "<Figure size 720x576 with 1 Axes>"
      ]
     },
     "metadata": {
      "needs_background": "light"
     },
     "output_type": "display_data"
    }
   ],
   "source": [
    "# Box plot\n",
    "plt.figure(figsize=(10,8))\n",
    "plt.title('Box plot of Bounce Rates with respect to the Revenue')\n",
    "sns.boxplot(y='BounceRates',x='Revenue',data=df,orient='v')\n",
    "plt.show()"
   ]
  },
  {
   "cell_type": "code",
   "execution_count": 46,
   "metadata": {},
   "outputs": [],
   "source": [
    "# Seperating the Data For Bounce Rates\n",
    "bounce_a = df[df['Revenue']==True]['BounceRates']\n",
    "bounce_b = df[df['Revenue']==False]['BounceRates']"
   ]
  },
  {
   "cell_type": "code",
   "execution_count": 47,
   "metadata": {},
   "outputs": [
    {
     "data": {
      "text/plain": [
       "Ttest_indResult(statistic=-16.922637906938064, pvalue=1.594197538516729e-63)"
      ]
     },
     "execution_count": 47,
     "metadata": {},
     "output_type": "execute_result"
    }
   ],
   "source": [
    "#Independant T Test\n",
    "\n",
    "ttest_ind(bounce_a,bounce_b)"
   ]
  },
  {
   "cell_type": "code",
   "execution_count": 48,
   "metadata": {},
   "outputs": [
    {
     "data": {
      "text/plain": [
       "LeveneResult(statistic=572.4309262595332, pvalue=2.145676163141818e-123)"
      ]
     },
     "execution_count": 48,
     "metadata": {},
     "output_type": "execute_result"
    }
   ],
   "source": [
    "#Levene Test\n",
    "\n",
    "levene(bounce_a,bounce_b,center='trimmed')"
   ]
  },
  {
   "cell_type": "markdown",
   "metadata": {},
   "source": [
    "## Hypothesis\n",
    "\n",
    "* H0: There is no relation between the Bounce Rate Column and the Revenue Column\n",
    "* Ha:There is a relation between the Bounce Rate Column and the Revenue Column.\n",
    "\n",
    "## Observations:\n",
    "\n",
    "The p-values are less than the α or the critical value 0.05.\n",
    "Thus we can reject the null hypothesis \n",
    "H0 and accept the alternative hypothesis Ha.\n",
    "* Decision: We can accept that the feature is significant in predicting the Revenue Attribute."
   ]
  },
  {
   "cell_type": "markdown",
   "metadata": {},
   "source": [
    "## Exit Rates"
   ]
  },
  {
   "cell_type": "code",
   "execution_count": 49,
   "metadata": {},
   "outputs": [
    {
     "data": {
      "image/png": "[encoded data removed]",
      "text/plain": [
       "<Figure size 1296x576 with 2 Axes>"
      ]
     },
     "metadata": {
      "needs_background": "light"
     },
     "output_type": "display_data"
    }
   ],
   "source": [
    "fig, axes = plt.subplots(1,2,figsize=(18,8))\n",
    "axes = axes.flatten()\n",
    "# Density plot for Administrative Duration\n",
    "df['ExitRates'].plot(kind='kde',ax=axes[0])\n",
    "axes[0].set_title('Density plot for Exit Rates')\n",
    "\n",
    "axes[1].boxplot(df['ExitRates'])\n",
    "axes[1].set_title('Box Plot of Exit Rates')\n",
    "plt.show()"
   ]
  },
  {
   "cell_type": "markdown",
   "metadata": {},
   "source": [
    "## Relation with Target Features"
   ]
  },
  {
   "cell_type": "code",
   "execution_count": 50,
   "metadata": {},
   "outputs": [
    {
     "data": {
      "image/png": "[encoded data removed]",
      "text/plain": [
       "<Figure size 720x576 with 1 Axes>"
      ]
     },
     "metadata": {
      "needs_background": "light"
     },
     "output_type": "display_data"
    }
   ],
   "source": [
    "# Box plot\n",
    "plt.figure(figsize=(10,8))\n",
    "plt.title('Box plot of Exit Rates with respect to the Revenue')\n",
    "sns.boxplot(y='ExitRates',x='Revenue',data=df,orient='v')\n",
    "plt.show()"
   ]
  },
  {
   "cell_type": "code",
   "execution_count": 51,
   "metadata": {},
   "outputs": [],
   "source": [
    "# Seperating the Data For Exit Rates\n",
    "exit_a = df[df['Revenue']==True]['ExitRates']\n",
    "exit_b = df[df['Revenue']==False]['ExitRates']"
   ]
  },
  {
   "cell_type": "code",
   "execution_count": 52,
   "metadata": {},
   "outputs": [
    {
     "data": {
      "text/plain": [
       "Ttest_indResult(statistic=-23.500776627688474, pvalue=1.6626536250736147e-119)"
      ]
     },
     "execution_count": 52,
     "metadata": {},
     "output_type": "execute_result"
    }
   ],
   "source": [
    "#Independant T Test\n",
    "\n",
    "ttest_ind(exit_a,exit_b)"
   ]
  },
  {
   "cell_type": "code",
   "execution_count": 53,
   "metadata": {},
   "outputs": [
    {
     "data": {
      "text/plain": [
       "LeveneResult(statistic=799.1070292604844, pvalue=8.035493837844225e-170)"
      ]
     },
     "execution_count": 53,
     "metadata": {},
     "output_type": "execute_result"
    }
   ],
   "source": [
    "levene(exit_a,exit_b,center='trimmed')"
   ]
  },
  {
   "cell_type": "markdown",
   "metadata": {},
   "source": [
    "# Hypothesis\n",
    "\n",
    "* H0: There is no relation between the Exit Rate Column and the Revenue Column\n",
    "* Ha:There is a relation between the Exit Rate Column and the Revenue Column.\n",
    "## Observations:\n",
    "\n",
    "* The p-values are less than the α or the critical value 0.05.\n",
    "  Thus we can reject the null hypothesis \n",
    "* H0 and accept the alternative hypothesis Ha.\n",
    "* Decision: We can accept that the feature is significant in predicting the Revenue Attribute."
   ]
  },
  {
   "cell_type": "markdown",
   "metadata": {},
   "source": [
    "# Page Value"
   ]
  },
  {
   "cell_type": "code",
   "execution_count": 54,
   "metadata": {},
   "outputs": [
    {
     "data": {
      "image/png": "[encoded data removed]",
      "text/plain": [
       "<Figure size 1296x576 with 2 Axes>"
      ]
     },
     "metadata": {
      "needs_background": "light"
     },
     "output_type": "display_data"
    }
   ],
   "source": [
    "fig, axes = plt.subplots(1,2,figsize=(18,8))\n",
    "axes = axes.flatten()\n",
    "# Density plot for Administrative Duration\n",
    "df['PageValues'].plot(kind='kde',ax=axes[0])\n",
    "axes[0].set_title('Density plot for Page Values')\n",
    "\n",
    "axes[1].boxplot(df['PageValues'])\n",
    "axes[1].set_title('Box Plot of Page Values')\n",
    "plt.show()"
   ]
  },
  {
   "cell_type": "markdown",
   "metadata": {},
   "source": [
    "## Relation with the Target Feature"
   ]
  },
  {
   "cell_type": "code",
   "execution_count": 55,
   "metadata": {},
   "outputs": [
    {
     "data": {
      "image/png": "[encoded data removed]",
      "text/plain": [
       "<Figure size 720x576 with 1 Axes>"
      ]
     },
     "metadata": {
      "needs_background": "light"
     },
     "output_type": "display_data"
    }
   ],
   "source": [
    "# Box plot\n",
    "plt.figure(figsize=(10,8))\n",
    "plt.title('Box plot of Page Values with respect to the Revenue')\n",
    "sns.boxplot(y='PageValues',x='Revenue',data=df,orient='v')\n",
    "plt.show()"
   ]
  },
  {
   "cell_type": "code",
   "execution_count": 56,
   "metadata": {},
   "outputs": [],
   "source": [
    "# Seperating the data\n",
    "page_a = df[df['Revenue']==True]['PageValues']\n",
    "page_b = df[df['Revenue']==False]['PageValues']"
   ]
  },
  {
   "cell_type": "code",
   "execution_count": 57,
   "metadata": {},
   "outputs": [
    {
     "data": {
      "text/plain": [
       "Ttest_indResult(statistic=62.84316160063714, pvalue=0.0)"
      ]
     },
     "execution_count": 57,
     "metadata": {},
     "output_type": "execute_result"
    }
   ],
   "source": [
    "# Independant T Test\n",
    "\n",
    "ttest_ind(page_a,page_b)"
   ]
  },
  {
   "cell_type": "code",
   "execution_count": 58,
   "metadata": {},
   "outputs": [
    {
     "data": {
      "text/plain": [
       "LeveneResult(statistic=3224.16055232711, pvalue=0.0)"
      ]
     },
     "execution_count": 58,
     "metadata": {},
     "output_type": "execute_result"
    }
   ],
   "source": [
    "levene(page_a,page_b,center='median')"
   ]
  },
  {
   "cell_type": "markdown",
   "metadata": {},
   "source": [
    "## Hypothesis\n",
    "\n",
    "* H0: There is no relation between the Page Values Column and the Revenue Column\n",
    "* Ha: There is a relation between the Page Values Column and the Revenue Column.\n",
    "* Observations:\n",
    "\n",
    "The p-values are less than the α or the critical value 0.05.\n",
    "Thus we can reject the null hypothesis H0 and accept the alternative hypothesis Ha.\n",
    "* Decision: We can accept that the feature is significant in predicting the Revenue Attribute."
   ]
  },
  {
   "cell_type": "markdown",
   "metadata": {},
   "source": [
    "## Operating Systems"
   ]
  },
  {
   "cell_type": "code",
   "execution_count": 59,
   "metadata": {},
   "outputs": [
    {
     "data": {
      "image/png": "[encoded data removed]",
      "text/plain": [
       "<Figure size 720x576 with 1 Axes>"
      ]
     },
     "metadata": {
      "needs_background": "light"
     },
     "output_type": "display_data"
    }
   ],
   "source": [
    "plt.figure(figsize=(10,8))\n",
    "# Count plot\n",
    "plt.title('Histogram for Different Operating Systems')\n",
    "sns.countplot(df['OperatingSystems'])\n",
    "plt.show()"
   ]
  },
  {
   "cell_type": "code",
   "execution_count": 60,
   "metadata": {},
   "outputs": [],
   "source": [
    "# Converting the datatype to categorical\n",
    "df['OperatingSystems'] = df['OperatingSystems'].astype('category')"
   ]
  },
  {
   "cell_type": "code",
   "execution_count": 61,
   "metadata": {},
   "outputs": [
    {
     "data": {
      "text/plain": [
       "count     12330\n",
       "unique        8\n",
       "top           2\n",
       "freq       6601\n",
       "Name: OperatingSystems, dtype: int64"
      ]
     },
     "execution_count": 61,
     "metadata": {},
     "output_type": "execute_result"
    }
   ],
   "source": [
    "# Statistical Summary\n",
    "df['OperatingSystems'].describe()"
   ]
  },
  {
   "cell_type": "markdown",
   "metadata": {},
   "source": [
    "## Relation with the Target Attribute"
   ]
  },
  {
   "cell_type": "code",
   "execution_count": 62,
   "metadata": {},
   "outputs": [
    {
     "data": {
      "text/html": [
       "<div>\n",
       "<style scoped>\n",
       "    .dataframe tbody tr th:only-of-type {\n",
       "        vertical-align: middle;\n",
       "    }\n",
       "\n",
       "    .dataframe tbody tr th {\n",
       "        vertical-align: top;\n",
       "    }\n",
       "\n",
       "    .dataframe thead th {\n",
       "        text-align: right;\n",
       "    }\n",
       "</style>\n",
       "<table border=\"1\" class=\"dataframe\">\n",
       "  <thead>\n",
       "    <tr style=\"text-align: right;\">\n",
       "      <th>OperatingSystems</th>\n",
       "      <th>1</th>\n",
       "      <th>2</th>\n",
       "      <th>3</th>\n",
       "      <th>4</th>\n",
       "      <th>5</th>\n",
       "      <th>6</th>\n",
       "      <th>7</th>\n",
       "      <th>8</th>\n",
       "    </tr>\n",
       "    <tr>\n",
       "      <th>Revenue</th>\n",
       "      <th></th>\n",
       "      <th></th>\n",
       "      <th></th>\n",
       "      <th></th>\n",
       "      <th></th>\n",
       "      <th></th>\n",
       "      <th></th>\n",
       "      <th></th>\n",
       "    </tr>\n",
       "  </thead>\n",
       "  <tbody>\n",
       "    <tr>\n",
       "      <th>False</th>\n",
       "      <td>2206</td>\n",
       "      <td>5446</td>\n",
       "      <td>2287</td>\n",
       "      <td>393</td>\n",
       "      <td>5</td>\n",
       "      <td>17</td>\n",
       "      <td>6</td>\n",
       "      <td>62</td>\n",
       "    </tr>\n",
       "    <tr>\n",
       "      <th>True</th>\n",
       "      <td>379</td>\n",
       "      <td>1155</td>\n",
       "      <td>268</td>\n",
       "      <td>85</td>\n",
       "      <td>1</td>\n",
       "      <td>2</td>\n",
       "      <td>1</td>\n",
       "      <td>17</td>\n",
       "    </tr>\n",
       "  </tbody>\n",
       "</table>\n",
       "</div>"
      ],
      "text/plain": [
       "OperatingSystems     1     2     3    4  5   6  7   8\n",
       "Revenue                                              \n",
       "False             2206  5446  2287  393  5  17  6  62\n",
       "True               379  1155   268   85  1   2  1  17"
      ]
     },
     "execution_count": 62,
     "metadata": {},
     "output_type": "execute_result"
    }
   ],
   "source": [
    "ct = pd.crosstab(index=df['Revenue'],columns=df['OperatingSystems'])\n",
    "ct"
   ]
  },
  {
   "cell_type": "code",
   "execution_count": 63,
   "metadata": {},
   "outputs": [
    {
     "data": {
      "text/plain": [
       "(75.02705620298461,\n",
       " 1.4160941129614507e-13,\n",
       " 7,\n",
       " array([[2.18498540e+03, 5.57953139e+03, 2.15962774e+03, 4.04032117e+02,\n",
       "         5.07153285e+00, 1.60598540e+01, 5.91678832e+00, 6.67751825e+01],\n",
       "        [4.00014599e+02, 1.02146861e+03, 3.95372263e+02, 7.39678832e+01,\n",
       "         9.28467153e-01, 2.94014599e+00, 1.08321168e+00, 1.22248175e+01]]))"
      ]
     },
     "execution_count": 63,
     "metadata": {},
     "output_type": "execute_result"
    }
   ],
   "source": [
    "# Chi Square Test\n",
    "\n",
    "chi2_contingency(ct)"
   ]
  },
  {
   "cell_type": "markdown",
   "metadata": {},
   "source": [
    "## Hypothesis\n",
    "\n",
    "* H0: There is no relation between the Operating Systems Column and the Revenue Column\n",
    "* Ha:There is a relation between the Operating Systems Column and the Revenue Column.\n",
    "\n",
    "#### Observation:\n",
    "\n",
    "The p-value for the test is less than the critical value.\n",
    "We can reject the null hypothesis H0.\n",
    "This shows that there is a relation between the Operating Systems Column and the Target attribute.\n",
    "* Decision: The Operating Systems Column is a significant Feature in predicting our Target attribute."
   ]
  },
  {
   "cell_type": "markdown",
   "metadata": {},
   "source": [
    "## Visitor Type"
   ]
  },
  {
   "cell_type": "code",
   "execution_count": 64,
   "metadata": {},
   "outputs": [
    {
     "data": {
      "text/plain": [
       "array(['Returning_Visitor', 'New_Visitor', 'Other'], dtype=object)"
      ]
     },
     "execution_count": 64,
     "metadata": {},
     "output_type": "execute_result"
    }
   ],
   "source": [
    "df['VisitorType'].unique()"
   ]
  },
  {
   "cell_type": "code",
   "execution_count": 65,
   "metadata": {},
   "outputs": [
    {
     "data": {
      "image/png": "[encoded data removed]",
      "text/plain": [
       "<Figure size 720x576 with 1 Axes>"
      ]
     },
     "metadata": {
      "needs_background": "light"
     },
     "output_type": "display_data"
    }
   ],
   "source": [
    "plt.figure(figsize=(10,8))\n",
    "# Count plot\n",
    "plt.title('Histogram for Different Types of Visitors')\n",
    "sns.countplot(df['VisitorType'])\n",
    "plt.show()"
   ]
  },
  {
   "cell_type": "code",
   "execution_count": 66,
   "metadata": {},
   "outputs": [
    {
     "data": {
      "text/plain": [
       "Returning_Visitor    0.855718\n",
       "New_Visitor          0.137388\n",
       "Other                0.006894\n",
       "Name: VisitorType, dtype: float64"
      ]
     },
     "execution_count": 66,
     "metadata": {},
     "output_type": "execute_result"
    }
   ],
   "source": [
    "df['VisitorType'].value_counts(normalize=True)"
   ]
  },
  {
   "cell_type": "markdown",
   "metadata": {},
   "source": [
    "## Relation with Target Features"
   ]
  },
  {
   "cell_type": "code",
   "execution_count": 67,
   "metadata": {},
   "outputs": [
    {
     "data": {
      "text/html": [
       "<div>\n",
       "<style scoped>\n",
       "    .dataframe tbody tr th:only-of-type {\n",
       "        vertical-align: middle;\n",
       "    }\n",
       "\n",
       "    .dataframe tbody tr th {\n",
       "        vertical-align: top;\n",
       "    }\n",
       "\n",
       "    .dataframe thead th {\n",
       "        text-align: right;\n",
       "    }\n",
       "</style>\n",
       "<table border=\"1\" class=\"dataframe\">\n",
       "  <thead>\n",
       "    <tr style=\"text-align: right;\">\n",
       "      <th>VisitorType</th>\n",
       "      <th>New_Visitor</th>\n",
       "      <th>Other</th>\n",
       "      <th>Returning_Visitor</th>\n",
       "    </tr>\n",
       "    <tr>\n",
       "      <th>Revenue</th>\n",
       "      <th></th>\n",
       "      <th></th>\n",
       "      <th></th>\n",
       "    </tr>\n",
       "  </thead>\n",
       "  <tbody>\n",
       "    <tr>\n",
       "      <th>False</th>\n",
       "      <td>1272</td>\n",
       "      <td>69</td>\n",
       "      <td>9081</td>\n",
       "    </tr>\n",
       "    <tr>\n",
       "      <th>True</th>\n",
       "      <td>422</td>\n",
       "      <td>16</td>\n",
       "      <td>1470</td>\n",
       "    </tr>\n",
       "  </tbody>\n",
       "</table>\n",
       "</div>"
      ],
      "text/plain": [
       "VisitorType  New_Visitor  Other  Returning_Visitor\n",
       "Revenue                                           \n",
       "False               1272     69               9081\n",
       "True                 422     16               1470"
      ]
     },
     "execution_count": 67,
     "metadata": {},
     "output_type": "execute_result"
    }
   ],
   "source": [
    "ct = pd.crosstab(index=df['Revenue'],columns=df['VisitorType'])\n",
    "ct"
   ]
  },
  {
   "cell_type": "code",
   "execution_count": 68,
   "metadata": {},
   "outputs": [
    {
     "data": {
      "text/plain": [
       "(135.2519228192047,\n",
       " 4.269904152293867e-30,\n",
       " 2,\n",
       " array([[1431.86277372,   71.84671533, 8918.29051095],\n",
       "        [ 262.13722628,   13.15328467, 1632.70948905]]))"
      ]
     },
     "execution_count": 68,
     "metadata": {},
     "output_type": "execute_result"
    }
   ],
   "source": [
    "#Chi Square Test\n",
    "\n",
    "chi2_contingency(ct)"
   ]
  },
  {
   "cell_type": "markdown",
   "metadata": {},
   "source": [
    "## Hypothesis\n",
    "\n",
    "H0:There is no relation between the Visitor Type Column and the Revenue Column\n",
    "\n",
    "Ha:There is a relation between the Visitor Type Column and the Revenue Column.\n",
    "\n",
    "Observation:\n",
    "\n",
    "The p-value for the test is less than the critical value.\n",
    "We can reject the null hypothesis H0.\n",
    "\n",
    "This shows that there is a relation between the Visitor Type Column and the Target attribute.\n",
    "* Decision: The Visitor Type Column is a significant Feature in predicting our Target attribute."
   ]
  },
  {
   "cell_type": "markdown",
   "metadata": {},
   "source": [
    "## Weekend"
   ]
  },
  {
   "cell_type": "code",
   "execution_count": 69,
   "metadata": {},
   "outputs": [
    {
     "data": {
      "image/png": "[encoded data removed]",
      "text/plain": [
       "<Figure size 720x576 with 1 Axes>"
      ]
     },
     "metadata": {
      "needs_background": "light"
     },
     "output_type": "display_data"
    }
   ],
   "source": [
    "plt.figure(figsize=(10,8))\n",
    "# Count plot\n",
    "plt.title('Count Plot for Weekend')\n",
    "sns.countplot(df['Weekend'])\n",
    "plt.show()"
   ]
  },
  {
   "cell_type": "code",
   "execution_count": 70,
   "metadata": {},
   "outputs": [
    {
     "data": {
      "text/plain": [
       "False    0.767397\n",
       "True     0.232603\n",
       "Name: Weekend, dtype: float64"
      ]
     },
     "execution_count": 70,
     "metadata": {},
     "output_type": "execute_result"
    }
   ],
   "source": [
    "df['Weekend'].value_counts(normalize=True)"
   ]
  },
  {
   "cell_type": "markdown",
   "metadata": {},
   "source": [
    "## Relation with the Target"
   ]
  },
  {
   "cell_type": "code",
   "execution_count": 71,
   "metadata": {},
   "outputs": [
    {
     "data": {
      "text/html": [
       "<div>\n",
       "<style scoped>\n",
       "    .dataframe tbody tr th:only-of-type {\n",
       "        vertical-align: middle;\n",
       "    }\n",
       "\n",
       "    .dataframe tbody tr th {\n",
       "        vertical-align: top;\n",
       "    }\n",
       "\n",
       "    .dataframe thead th {\n",
       "        text-align: right;\n",
       "    }\n",
       "</style>\n",
       "<table border=\"1\" class=\"dataframe\">\n",
       "  <thead>\n",
       "    <tr style=\"text-align: right;\">\n",
       "      <th>Weekend</th>\n",
       "      <th>False</th>\n",
       "      <th>True</th>\n",
       "    </tr>\n",
       "    <tr>\n",
       "      <th>Revenue</th>\n",
       "      <th></th>\n",
       "      <th></th>\n",
       "    </tr>\n",
       "  </thead>\n",
       "  <tbody>\n",
       "    <tr>\n",
       "      <th>False</th>\n",
       "      <td>8053</td>\n",
       "      <td>2369</td>\n",
       "    </tr>\n",
       "    <tr>\n",
       "      <th>True</th>\n",
       "      <td>1409</td>\n",
       "      <td>499</td>\n",
       "    </tr>\n",
       "  </tbody>\n",
       "</table>\n",
       "</div>"
      ],
      "text/plain": [
       "Weekend  False  True \n",
       "Revenue              \n",
       "False     8053   2369\n",
       "True      1409    499"
      ]
     },
     "execution_count": 71,
     "metadata": {},
     "output_type": "execute_result"
    }
   ],
   "source": [
    "ct = pd.crosstab(index=df['Revenue'],columns=df['Weekend'])\n",
    "ct"
   ]
  },
  {
   "cell_type": "code",
   "execution_count": 72,
   "metadata": {},
   "outputs": [
    {
     "data": {
      "text/plain": [
       "(10.390978319534856,\n",
       " 0.0012663251061221968,\n",
       " 1,\n",
       " array([[7997.80729927, 2424.19270073],\n",
       "        [1464.19270073,  443.80729927]]))"
      ]
     },
     "execution_count": 72,
     "metadata": {},
     "output_type": "execute_result"
    }
   ],
   "source": [
    "#Chi Square Test\n",
    "\n",
    "chi2_contingency(ct)"
   ]
  },
  {
   "cell_type": "markdown",
   "metadata": {},
   "source": [
    "## Hypothesis\n",
    "\n",
    "* H0: There is no relation between the Weekend Column and the Revenue Column\n",
    "* Ha: There is a relation between the Weekend Column and the Revenue Column.\n",
    "\n",
    "## Observation:\n",
    "\n",
    "The p-value for the test is less than the critical value.\n",
    "We can reject the null hypothesis H0.\n",
    "\n",
    "This shows that there is a relation between the Weekend Column and the Target attribute.\n",
    "\n",
    "* Decision: The Weekend Column is a significant Feature in predicting our Target attribute."
   ]
  },
  {
   "cell_type": "code",
   "execution_count": null,
   "metadata": {},
   "outputs": [],
   "source": []
  },
  {
   "cell_type": "markdown",
   "metadata": {},
   "source": [
    "## Region"
   ]
  },
  {
   "cell_type": "code",
   "execution_count": 73,
   "metadata": {},
   "outputs": [
    {
     "data": {
      "text/plain": [
       "array([1, 9, 2, 3, 4, 5, 6, 7, 8], dtype=int64)"
      ]
     },
     "execution_count": 73,
     "metadata": {},
     "output_type": "execute_result"
    }
   ],
   "source": [
    "df['Region'].unique()"
   ]
  },
  {
   "cell_type": "code",
   "execution_count": 74,
   "metadata": {},
   "outputs": [
    {
     "data": {
      "image/png": "[encoded data removed]",
      "text/plain": [
       "<Figure size 720x576 with 1 Axes>"
      ]
     },
     "metadata": {
      "needs_background": "light"
     },
     "output_type": "display_data"
    }
   ],
   "source": [
    "plt.figure(figsize=(10,8))\n",
    "# Count plot\n",
    "plt.title('Count Plot for Region')\n",
    "sns.countplot(df['Region'])\n",
    "plt.show()"
   ]
  },
  {
   "cell_type": "code",
   "execution_count": 75,
   "metadata": {},
   "outputs": [],
   "source": [
    "df['Region'] = df['Region'].astype('category')"
   ]
  },
  {
   "cell_type": "code",
   "execution_count": 76,
   "metadata": {},
   "outputs": [
    {
     "data": {
      "text/plain": [
       "count     12330\n",
       "unique        9\n",
       "top           1\n",
       "freq       4780\n",
       "Name: Region, dtype: int64"
      ]
     },
     "execution_count": 76,
     "metadata": {},
     "output_type": "execute_result"
    }
   ],
   "source": [
    "df['Region'].describe()"
   ]
  },
  {
   "cell_type": "markdown",
   "metadata": {},
   "source": [
    "## Relation with the Target Feature"
   ]
  },
  {
   "cell_type": "code",
   "execution_count": 77,
   "metadata": {},
   "outputs": [
    {
     "data": {
      "text/html": [
       "<div>\n",
       "<style scoped>\n",
       "    .dataframe tbody tr th:only-of-type {\n",
       "        vertical-align: middle;\n",
       "    }\n",
       "\n",
       "    .dataframe tbody tr th {\n",
       "        vertical-align: top;\n",
       "    }\n",
       "\n",
       "    .dataframe thead th {\n",
       "        text-align: right;\n",
       "    }\n",
       "</style>\n",
       "<table border=\"1\" class=\"dataframe\">\n",
       "  <thead>\n",
       "    <tr style=\"text-align: right;\">\n",
       "      <th>Region</th>\n",
       "      <th>1</th>\n",
       "      <th>2</th>\n",
       "      <th>3</th>\n",
       "      <th>4</th>\n",
       "      <th>5</th>\n",
       "      <th>6</th>\n",
       "      <th>7</th>\n",
       "      <th>8</th>\n",
       "      <th>9</th>\n",
       "    </tr>\n",
       "    <tr>\n",
       "      <th>Revenue</th>\n",
       "      <th></th>\n",
       "      <th></th>\n",
       "      <th></th>\n",
       "      <th></th>\n",
       "      <th></th>\n",
       "      <th></th>\n",
       "      <th></th>\n",
       "      <th></th>\n",
       "      <th></th>\n",
       "    </tr>\n",
       "  </thead>\n",
       "  <tbody>\n",
       "    <tr>\n",
       "      <th>False</th>\n",
       "      <td>4009</td>\n",
       "      <td>948</td>\n",
       "      <td>2054</td>\n",
       "      <td>1007</td>\n",
       "      <td>266</td>\n",
       "      <td>693</td>\n",
       "      <td>642</td>\n",
       "      <td>378</td>\n",
       "      <td>425</td>\n",
       "    </tr>\n",
       "    <tr>\n",
       "      <th>True</th>\n",
       "      <td>771</td>\n",
       "      <td>188</td>\n",
       "      <td>349</td>\n",
       "      <td>175</td>\n",
       "      <td>52</td>\n",
       "      <td>112</td>\n",
       "      <td>119</td>\n",
       "      <td>56</td>\n",
       "      <td>86</td>\n",
       "    </tr>\n",
       "  </tbody>\n",
       "</table>\n",
       "</div>"
      ],
      "text/plain": [
       "Region      1    2     3     4    5    6    7    8    9\n",
       "Revenue                                                \n",
       "False    4009  948  2054  1007  266  693  642  378  425\n",
       "True      771  188   349   175   52  112  119   56   86"
      ]
     },
     "execution_count": 77,
     "metadata": {},
     "output_type": "execute_result"
    }
   ],
   "source": [
    "ct = pd.crosstab(index=df['Revenue'],columns=df['Region'])\n",
    "ct"
   ]
  },
  {
   "cell_type": "code",
   "execution_count": 78,
   "metadata": {},
   "outputs": [
    {
     "data": {
      "text/plain": [
       "(9.252751430579844,\n",
       " 0.3214249979076556,\n",
       " 8,\n",
       " array([[4040.32116788,  960.21021898, 2031.14890511,  999.0919708 ,\n",
       "          268.79124088,  680.43065693,  643.23941606,  366.84087591,\n",
       "          431.92554745],\n",
       "        [ 739.67883212,  175.78978102,  371.85109489,  182.9080292 ,\n",
       "           49.20875912,  124.56934307,  117.76058394,   67.15912409,\n",
       "           79.07445255]]))"
      ]
     },
     "execution_count": 78,
     "metadata": {},
     "output_type": "execute_result"
    }
   ],
   "source": [
    "# Chi Square Test\n",
    "chi2_contingency(ct)"
   ]
  },
  {
   "cell_type": "markdown",
   "metadata": {},
   "source": [
    "## Hypothesis\n",
    "\n",
    "* H0: There is no relation between the Region Column and the Revenue Column\n",
    "* Ha: There is a relation between the Region Column and the Revenue Column.\n",
    "\n",
    "#### Observation:\n",
    "\n",
    "The p-value for the test is more than the critical value.\n",
    "We fail to reject the null hypothesis H0.\n",
    "\n",
    "This shows that there is no relation between the Region Column and the Target attribute.\n",
    "\n",
    "* Decision: The Region Column is not a significant Feature in predicting our Target attribute."
   ]
  },
  {
   "cell_type": "markdown",
   "metadata": {},
   "source": [
    "## TrafficType"
   ]
  },
  {
   "cell_type": "code",
   "execution_count": 79,
   "metadata": {},
   "outputs": [
    {
     "data": {
      "text/plain": [
       "20"
      ]
     },
     "execution_count": 79,
     "metadata": {},
     "output_type": "execute_result"
    }
   ],
   "source": [
    "df['TrafficType'].nunique()"
   ]
  },
  {
   "cell_type": "code",
   "execution_count": 80,
   "metadata": {},
   "outputs": [
    {
     "data": {
      "image/png": "[encoded data removed]",
      "text/plain": [
       "<Figure size 720x576 with 1 Axes>"
      ]
     },
     "metadata": {
      "needs_background": "light"
     },
     "output_type": "display_data"
    }
   ],
   "source": [
    "plt.figure(figsize=(10,8))\n",
    "# Count plot\n",
    "plt.title('Count Plot for Traffic Type')\n",
    "sns.countplot(df['TrafficType'])\n",
    "plt.show()"
   ]
  },
  {
   "cell_type": "code",
   "execution_count": 81,
   "metadata": {},
   "outputs": [],
   "source": [
    "df['TrafficType'] = df['TrafficType'].astype('category')"
   ]
  },
  {
   "cell_type": "code",
   "execution_count": 82,
   "metadata": {},
   "outputs": [
    {
     "data": {
      "text/plain": [
       "count     12330\n",
       "unique       20\n",
       "top           2\n",
       "freq       3913\n",
       "Name: TrafficType, dtype: int64"
      ]
     },
     "execution_count": 82,
     "metadata": {},
     "output_type": "execute_result"
    }
   ],
   "source": [
    "# Statistical Summary\n",
    "df['TrafficType'].describe()"
   ]
  },
  {
   "cell_type": "markdown",
   "metadata": {},
   "source": [
    "## Relation with the Target Feature"
   ]
  },
  {
   "cell_type": "code",
   "execution_count": 83,
   "metadata": {},
   "outputs": [
    {
     "data": {
      "text/html": [
       "<div>\n",
       "<style scoped>\n",
       "    .dataframe tbody tr th:only-of-type {\n",
       "        vertical-align: middle;\n",
       "    }\n",
       "\n",
       "    .dataframe tbody tr th {\n",
       "        vertical-align: top;\n",
       "    }\n",
       "\n",
       "    .dataframe thead th {\n",
       "        text-align: right;\n",
       "    }\n",
       "</style>\n",
       "<table border=\"1\" class=\"dataframe\">\n",
       "  <thead>\n",
       "    <tr style=\"text-align: right;\">\n",
       "      <th>TrafficType</th>\n",
       "      <th>1</th>\n",
       "      <th>2</th>\n",
       "      <th>3</th>\n",
       "      <th>4</th>\n",
       "      <th>5</th>\n",
       "      <th>6</th>\n",
       "      <th>7</th>\n",
       "      <th>8</th>\n",
       "      <th>9</th>\n",
       "      <th>10</th>\n",
       "      <th>11</th>\n",
       "      <th>12</th>\n",
       "      <th>13</th>\n",
       "      <th>14</th>\n",
       "      <th>15</th>\n",
       "      <th>16</th>\n",
       "      <th>17</th>\n",
       "      <th>18</th>\n",
       "      <th>19</th>\n",
       "      <th>20</th>\n",
       "    </tr>\n",
       "    <tr>\n",
       "      <th>Revenue</th>\n",
       "      <th></th>\n",
       "      <th></th>\n",
       "      <th></th>\n",
       "      <th></th>\n",
       "      <th></th>\n",
       "      <th></th>\n",
       "      <th></th>\n",
       "      <th></th>\n",
       "      <th></th>\n",
       "      <th></th>\n",
       "      <th></th>\n",
       "      <th></th>\n",
       "      <th></th>\n",
       "      <th></th>\n",
       "      <th></th>\n",
       "      <th></th>\n",
       "      <th></th>\n",
       "      <th></th>\n",
       "      <th></th>\n",
       "      <th></th>\n",
       "    </tr>\n",
       "  </thead>\n",
       "  <tbody>\n",
       "    <tr>\n",
       "      <th>False</th>\n",
       "      <td>2189</td>\n",
       "      <td>3066</td>\n",
       "      <td>1872</td>\n",
       "      <td>904</td>\n",
       "      <td>204</td>\n",
       "      <td>391</td>\n",
       "      <td>28</td>\n",
       "      <td>248</td>\n",
       "      <td>38</td>\n",
       "      <td>360</td>\n",
       "      <td>200</td>\n",
       "      <td>1</td>\n",
       "      <td>695</td>\n",
       "      <td>11</td>\n",
       "      <td>38</td>\n",
       "      <td>2</td>\n",
       "      <td>1</td>\n",
       "      <td>10</td>\n",
       "      <td>16</td>\n",
       "      <td>148</td>\n",
       "    </tr>\n",
       "    <tr>\n",
       "      <th>True</th>\n",
       "      <td>262</td>\n",
       "      <td>847</td>\n",
       "      <td>180</td>\n",
       "      <td>165</td>\n",
       "      <td>56</td>\n",
       "      <td>53</td>\n",
       "      <td>12</td>\n",
       "      <td>95</td>\n",
       "      <td>4</td>\n",
       "      <td>90</td>\n",
       "      <td>47</td>\n",
       "      <td>0</td>\n",
       "      <td>43</td>\n",
       "      <td>2</td>\n",
       "      <td>0</td>\n",
       "      <td>1</td>\n",
       "      <td>0</td>\n",
       "      <td>0</td>\n",
       "      <td>1</td>\n",
       "      <td>50</td>\n",
       "    </tr>\n",
       "  </tbody>\n",
       "</table>\n",
       "</div>"
      ],
      "text/plain": [
       "TrafficType     1     2     3    4    5    6   7    8   9   10   11  12   13  \\\n",
       "Revenue                                                                        \n",
       "False        2189  3066  1872  904  204  391  28  248  38  360  200   1  695   \n",
       "True          262   847   180  165   56   53  12   95   4   90   47   0   43   \n",
       "\n",
       "TrafficType  14  15  16  17  18  19   20  \n",
       "Revenue                                   \n",
       "False        11  38   2   1  10  16  148  \n",
       "True          2   0   1   0   0   1   50  "
      ]
     },
     "execution_count": 83,
     "metadata": {},
     "output_type": "execute_result"
    }
   ],
   "source": [
    "ct = pd.crosstab(index=df['Revenue'],columns=df['TrafficType'])\n",
    "ct"
   ]
  },
  {
   "cell_type": "code",
   "execution_count": 84,
   "metadata": {},
   "outputs": [
    {
     "data": {
      "text/plain": [
       "(373.1455646881486,\n",
       " 1.652735258160153e-67,\n",
       " 19,\n",
       " array([[2.07172117e+03, 3.30748467e+03, 1.73446423e+03, 9.03578102e+02,\n",
       "         2.19766423e+02, 3.75293431e+02, 3.38102190e+01, 2.89922628e+02,\n",
       "         3.55007299e+01, 3.80364964e+02, 2.08778102e+02, 8.45255474e-01,\n",
       "         6.23798540e+02, 1.09883212e+01, 3.21197080e+01, 2.53576642e+00,\n",
       "         8.45255474e-01, 8.45255474e+00, 1.43693431e+01, 1.67360584e+02],\n",
       "        [3.79278832e+02, 6.05515328e+02, 3.17535766e+02, 1.65421898e+02,\n",
       "         4.02335766e+01, 6.87065693e+01, 6.18978102e+00, 5.30773723e+01,\n",
       "         6.49927007e+00, 6.96350365e+01, 3.82218978e+01, 1.54744526e-01,\n",
       "         1.14201460e+02, 2.01167883e+00, 5.88029197e+00, 4.64233577e-01,\n",
       "         1.54744526e-01, 1.54744526e+00, 2.63065693e+00, 3.06394161e+01]]))"
      ]
     },
     "execution_count": 84,
     "metadata": {},
     "output_type": "execute_result"
    }
   ],
   "source": [
    "chi2_contingency(ct)"
   ]
  },
  {
   "cell_type": "markdown",
   "metadata": {},
   "source": [
    "## Hypothesis\n",
    "\n",
    "* H0: There is no relation between the TrafficType Column and the Revenue Column\n",
    "* Ha:There is a relation between the TrafficType Column and the Revenue Column.\n",
    "\n",
    "#### Observation:\n",
    "\n",
    "The p-value for the test is less than the critical value.\n",
    "We reject the null hypothesis H0.\n",
    "This shows that there is a relation between the TrafficType Column and the Target attribute.\n",
    "\n",
    "* Decision: The TrafficType Column is a significant Feature in predicting our Target attribute."
   ]
  },
  {
   "cell_type": "markdown",
   "metadata": {},
   "source": [
    "## Browser"
   ]
  },
  {
   "cell_type": "code",
   "execution_count": 85,
   "metadata": {},
   "outputs": [
    {
     "data": {
      "text/plain": [
       "array([ 1,  2,  3,  4,  5,  6,  7, 10,  8,  9, 12, 13, 11], dtype=int64)"
      ]
     },
     "execution_count": 85,
     "metadata": {},
     "output_type": "execute_result"
    }
   ],
   "source": [
    "df['Browser'].unique()"
   ]
  },
  {
   "cell_type": "code",
   "execution_count": 86,
   "metadata": {},
   "outputs": [
    {
     "data": {
      "image/png": "[encoded data removed]",
      "text/plain": [
       "<Figure size 720x576 with 1 Axes>"
      ]
     },
     "metadata": {
      "needs_background": "light"
     },
     "output_type": "display_data"
    }
   ],
   "source": [
    "plt.figure(figsize=(10,8))\n",
    "# Count plot\n",
    "plt.title('Count Plot for Browser Type')\n",
    "sns.countplot(df['Browser'])\n",
    "plt.show()"
   ]
  },
  {
   "cell_type": "code",
   "execution_count": 87,
   "metadata": {},
   "outputs": [],
   "source": [
    "df['Browser'] = df['Browser'].astype('category')"
   ]
  },
  {
   "cell_type": "code",
   "execution_count": 88,
   "metadata": {},
   "outputs": [
    {
     "data": {
      "text/plain": [
       "count     12330\n",
       "unique       13\n",
       "top           2\n",
       "freq       7961\n",
       "Name: Browser, dtype: int64"
      ]
     },
     "execution_count": 88,
     "metadata": {},
     "output_type": "execute_result"
    }
   ],
   "source": [
    "df['Browser'].describe()"
   ]
  },
  {
   "cell_type": "markdown",
   "metadata": {},
   "source": [
    "## Relation with the target feature"
   ]
  },
  {
   "cell_type": "code",
   "execution_count": 89,
   "metadata": {},
   "outputs": [
    {
     "data": {
      "text/html": [
       "<div>\n",
       "<style scoped>\n",
       "    .dataframe tbody tr th:only-of-type {\n",
       "        vertical-align: middle;\n",
       "    }\n",
       "\n",
       "    .dataframe tbody tr th {\n",
       "        vertical-align: top;\n",
       "    }\n",
       "\n",
       "    .dataframe thead th {\n",
       "        text-align: right;\n",
       "    }\n",
       "</style>\n",
       "<table border=\"1\" class=\"dataframe\">\n",
       "  <thead>\n",
       "    <tr style=\"text-align: right;\">\n",
       "      <th>Browser</th>\n",
       "      <th>1</th>\n",
       "      <th>2</th>\n",
       "      <th>3</th>\n",
       "      <th>4</th>\n",
       "      <th>5</th>\n",
       "      <th>6</th>\n",
       "      <th>7</th>\n",
       "      <th>8</th>\n",
       "      <th>9</th>\n",
       "      <th>10</th>\n",
       "      <th>11</th>\n",
       "      <th>12</th>\n",
       "      <th>13</th>\n",
       "    </tr>\n",
       "    <tr>\n",
       "      <th>Revenue</th>\n",
       "      <th></th>\n",
       "      <th></th>\n",
       "      <th></th>\n",
       "      <th></th>\n",
       "      <th></th>\n",
       "      <th></th>\n",
       "      <th></th>\n",
       "      <th></th>\n",
       "      <th></th>\n",
       "      <th></th>\n",
       "      <th></th>\n",
       "      <th></th>\n",
       "      <th></th>\n",
       "    </tr>\n",
       "  </thead>\n",
       "  <tbody>\n",
       "    <tr>\n",
       "      <th>False</th>\n",
       "      <td>2097</td>\n",
       "      <td>6738</td>\n",
       "      <td>100</td>\n",
       "      <td>606</td>\n",
       "      <td>381</td>\n",
       "      <td>154</td>\n",
       "      <td>43</td>\n",
       "      <td>114</td>\n",
       "      <td>1</td>\n",
       "      <td>131</td>\n",
       "      <td>5</td>\n",
       "      <td>7</td>\n",
       "      <td>45</td>\n",
       "    </tr>\n",
       "    <tr>\n",
       "      <th>True</th>\n",
       "      <td>365</td>\n",
       "      <td>1223</td>\n",
       "      <td>5</td>\n",
       "      <td>130</td>\n",
       "      <td>86</td>\n",
       "      <td>20</td>\n",
       "      <td>6</td>\n",
       "      <td>21</td>\n",
       "      <td>0</td>\n",
       "      <td>32</td>\n",
       "      <td>1</td>\n",
       "      <td>3</td>\n",
       "      <td>16</td>\n",
       "    </tr>\n",
       "  </tbody>\n",
       "</table>\n",
       "</div>"
      ],
      "text/plain": [
       "Browser     1     2    3    4    5    6   7    8  9   10  11  12  13\n",
       "Revenue                                                             \n",
       "False    2097  6738  100  606  381  154  43  114  1  131   5   7  45\n",
       "True      365  1223    5  130   86   20   6   21  0   32   1   3  16"
      ]
     },
     "execution_count": 89,
     "metadata": {},
     "output_type": "execute_result"
    }
   ],
   "source": [
    "ct = pd.crosstab(index=df['Revenue'],columns=df['Browser'])\n",
    "ct"
   ]
  },
  {
   "cell_type": "code",
   "execution_count": 90,
   "metadata": {},
   "outputs": [
    {
     "data": {
      "text/plain": [
       "(27.715299401381564,\n",
       " 0.00608754317955108,\n",
       " 12,\n",
       " array([[2.08101898e+03, 6.72907883e+03, 8.87518248e+01, 6.22108029e+02,\n",
       "         3.94734307e+02, 1.47074453e+02, 4.14175182e+01, 1.14109489e+02,\n",
       "         8.45255474e-01, 1.37776642e+02, 5.07153285e+00, 8.45255474e+00,\n",
       "         5.15605839e+01],\n",
       "        [3.80981022e+02, 1.23192117e+03, 1.62481752e+01, 1.13891971e+02,\n",
       "         7.22656934e+01, 2.69255474e+01, 7.58248175e+00, 2.08905109e+01,\n",
       "         1.54744526e-01, 2.52233577e+01, 9.28467153e-01, 1.54744526e+00,\n",
       "         9.43941606e+00]]))"
      ]
     },
     "execution_count": 90,
     "metadata": {},
     "output_type": "execute_result"
    }
   ],
   "source": [
    "chi2_contingency(ct)"
   ]
  },
  {
   "cell_type": "markdown",
   "metadata": {},
   "source": [
    "## Hypothesis\n",
    "\n",
    "* H0: There is no relation between the Browser Column and the Revenue Column\n",
    "* Ha: There is a relation between the Browser Column and the Revenue Column.\n",
    "\n",
    "## Observation:\n",
    "\n",
    "The p-value for the test is more than the critical value.\n",
    "We fail to reject the null hypothesis H0.\n",
    "This shows that there is no relation between the Browser Column and the Target attribute.\n",
    "\n",
    "* Decision: The Browser Column is not a significant Feature in predicting our Target attribute."
   ]
  },
  {
   "cell_type": "markdown",
   "metadata": {},
   "source": [
    "## Month"
   ]
  },
  {
   "cell_type": "code",
   "execution_count": 91,
   "metadata": {},
   "outputs": [
    {
     "data": {
      "text/plain": [
       "array(['Feb', 'Mar', 'May', 'Oct', 'June', 'Jul', 'Aug', 'Nov', 'Sep',\n",
       "       'Dec'], dtype=object)"
      ]
     },
     "execution_count": 91,
     "metadata": {},
     "output_type": "execute_result"
    }
   ],
   "source": [
    "df['Month'].unique()"
   ]
  },
  {
   "cell_type": "code",
   "execution_count": 92,
   "metadata": {},
   "outputs": [
    {
     "data": {
      "image/png": "[encoded data removed]",
      "text/plain": [
       "<Figure size 720x576 with 1 Axes>"
      ]
     },
     "metadata": {
      "needs_background": "light"
     },
     "output_type": "display_data"
    }
   ],
   "source": [
    "plt.figure(figsize=(10,8))\n",
    "# Count plot\n",
    "plt.title('Count Plot for Browser Type')\n",
    "sns.countplot(df['Month'])\n",
    "plt.show()"
   ]
  },
  {
   "cell_type": "code",
   "execution_count": 93,
   "metadata": {},
   "outputs": [
    {
     "data": {
      "text/plain": [
       "count     12330\n",
       "unique       10\n",
       "top         May\n",
       "freq       3364\n",
       "Name: Month, dtype: object"
      ]
     },
     "execution_count": 93,
     "metadata": {},
     "output_type": "execute_result"
    }
   ],
   "source": [
    "df['Month'].describe()"
   ]
  },
  {
   "cell_type": "markdown",
   "metadata": {},
   "source": [
    "## Relation with the target Feature"
   ]
  },
  {
   "cell_type": "code",
   "execution_count": 94,
   "metadata": {},
   "outputs": [
    {
     "data": {
      "text/html": [
       "<div>\n",
       "<style scoped>\n",
       "    .dataframe tbody tr th:only-of-type {\n",
       "        vertical-align: middle;\n",
       "    }\n",
       "\n",
       "    .dataframe tbody tr th {\n",
       "        vertical-align: top;\n",
       "    }\n",
       "\n",
       "    .dataframe thead th {\n",
       "        text-align: right;\n",
       "    }\n",
       "</style>\n",
       "<table border=\"1\" class=\"dataframe\">\n",
       "  <thead>\n",
       "    <tr style=\"text-align: right;\">\n",
       "      <th>Month</th>\n",
       "      <th>Aug</th>\n",
       "      <th>Dec</th>\n",
       "      <th>Feb</th>\n",
       "      <th>Jul</th>\n",
       "      <th>June</th>\n",
       "      <th>Mar</th>\n",
       "      <th>May</th>\n",
       "      <th>Nov</th>\n",
       "      <th>Oct</th>\n",
       "      <th>Sep</th>\n",
       "    </tr>\n",
       "    <tr>\n",
       "      <th>Revenue</th>\n",
       "      <th></th>\n",
       "      <th></th>\n",
       "      <th></th>\n",
       "      <th></th>\n",
       "      <th></th>\n",
       "      <th></th>\n",
       "      <th></th>\n",
       "      <th></th>\n",
       "      <th></th>\n",
       "      <th></th>\n",
       "    </tr>\n",
       "  </thead>\n",
       "  <tbody>\n",
       "    <tr>\n",
       "      <th>False</th>\n",
       "      <td>357</td>\n",
       "      <td>1511</td>\n",
       "      <td>181</td>\n",
       "      <td>366</td>\n",
       "      <td>259</td>\n",
       "      <td>1715</td>\n",
       "      <td>2999</td>\n",
       "      <td>2238</td>\n",
       "      <td>434</td>\n",
       "      <td>362</td>\n",
       "    </tr>\n",
       "    <tr>\n",
       "      <th>True</th>\n",
       "      <td>76</td>\n",
       "      <td>216</td>\n",
       "      <td>3</td>\n",
       "      <td>66</td>\n",
       "      <td>29</td>\n",
       "      <td>192</td>\n",
       "      <td>365</td>\n",
       "      <td>760</td>\n",
       "      <td>115</td>\n",
       "      <td>86</td>\n",
       "    </tr>\n",
       "  </tbody>\n",
       "</table>\n",
       "</div>"
      ],
      "text/plain": [
       "Month    Aug   Dec  Feb  Jul  June   Mar   May   Nov  Oct  Sep\n",
       "Revenue                                                       \n",
       "False    357  1511  181  366   259  1715  2999  2238  434  362\n",
       "True      76   216    3   66    29   192   365   760  115   86"
      ]
     },
     "execution_count": 94,
     "metadata": {},
     "output_type": "execute_result"
    }
   ],
   "source": [
    "ct = pd.crosstab(index=df['Revenue'],columns=df['Month'])\n",
    "ct"
   ]
  },
  {
   "cell_type": "code",
   "execution_count": 95,
   "metadata": {},
   "outputs": [
    {
     "data": {
      "text/plain": [
       "(384.93476153599426,\n",
       " 2.2387855164805443e-77,\n",
       " 9,\n",
       " array([[ 365.99562044, 1459.75620438,  155.5270073 ,  365.15036496,\n",
       "          243.43357664, 1611.90218978, 2843.43941606, 2534.07591241,\n",
       "          464.04525547,  378.67445255],\n",
       "        [  67.00437956,  267.24379562,   28.4729927 ,   66.84963504,\n",
       "           44.56642336,  295.09781022,  520.56058394,  463.92408759,\n",
       "           84.95474453,   69.32554745]]))"
      ]
     },
     "execution_count": 95,
     "metadata": {},
     "output_type": "execute_result"
    }
   ],
   "source": [
    "chi2_contingency(ct)"
   ]
  },
  {
   "cell_type": "markdown",
   "metadata": {},
   "source": [
    "## Hypothesis\n",
    "\n",
    "* H0: There is no relation between the Month Column and the Revenue Column\n",
    "* Ha:There is a relation between the Month Column and the Revenue Column.\n",
    "Observation:\n",
    "\n",
    "The p-value for the test is less than the critical value.\n",
    "We reject the null hypothesis H0.\n",
    "This shows that there is a relation between the Month Column and the Target attribute.\n",
    "\n",
    "* Decision: The Month Column is a significant Feature in predicting our Target attribute."
   ]
  },
  {
   "cell_type": "markdown",
   "metadata": {},
   "source": [
    "# Special Day"
   ]
  },
  {
   "cell_type": "code",
   "execution_count": 96,
   "metadata": {},
   "outputs": [
    {
     "data": {
      "text/plain": [
       "array([0. , 0.4, 0.8, 1. , 0.2, 0.6])"
      ]
     },
     "execution_count": 96,
     "metadata": {},
     "output_type": "execute_result"
    }
   ],
   "source": [
    "df['SpecialDay'].unique()"
   ]
  },
  {
   "cell_type": "code",
   "execution_count": 97,
   "metadata": {},
   "outputs": [
    {
     "data": {
      "image/png": "[encoded data removed]",
      "text/plain": [
       "<Figure size 720x576 with 1 Axes>"
      ]
     },
     "metadata": {
      "needs_background": "light"
     },
     "output_type": "display_data"
    }
   ],
   "source": [
    "plt.figure(figsize=(10,8))\n",
    "# Count plot\n",
    "plt.title('Count Plot for Browser Type')\n",
    "sns.countplot(df['SpecialDay'])\n",
    "plt.show()"
   ]
  },
  {
   "cell_type": "code",
   "execution_count": 98,
   "metadata": {},
   "outputs": [],
   "source": [
    "df['SpecialDay'] = df['SpecialDay'].astype('category')"
   ]
  },
  {
   "cell_type": "code",
   "execution_count": 99,
   "metadata": {},
   "outputs": [
    {
     "data": {
      "text/plain": [
       "count     12330.0\n",
       "unique        6.0\n",
       "top           0.0\n",
       "freq      11079.0\n",
       "Name: SpecialDay, dtype: float64"
      ]
     },
     "execution_count": 99,
     "metadata": {},
     "output_type": "execute_result"
    }
   ],
   "source": [
    "df['SpecialDay'].describe()"
   ]
  },
  {
   "cell_type": "markdown",
   "metadata": {},
   "source": [
    "## Relation between the feature and the target"
   ]
  },
  {
   "cell_type": "code",
   "execution_count": 100,
   "metadata": {},
   "outputs": [
    {
     "data": {
      "text/html": [
       "<div>\n",
       "<style scoped>\n",
       "    .dataframe tbody tr th:only-of-type {\n",
       "        vertical-align: middle;\n",
       "    }\n",
       "\n",
       "    .dataframe tbody tr th {\n",
       "        vertical-align: top;\n",
       "    }\n",
       "\n",
       "    .dataframe thead th {\n",
       "        text-align: right;\n",
       "    }\n",
       "</style>\n",
       "<table border=\"1\" class=\"dataframe\">\n",
       "  <thead>\n",
       "    <tr style=\"text-align: right;\">\n",
       "      <th>SpecialDay</th>\n",
       "      <th>0.0</th>\n",
       "      <th>0.2</th>\n",
       "      <th>0.4</th>\n",
       "      <th>0.6</th>\n",
       "      <th>0.8</th>\n",
       "      <th>1.0</th>\n",
       "    </tr>\n",
       "    <tr>\n",
       "      <th>Revenue</th>\n",
       "      <th></th>\n",
       "      <th></th>\n",
       "      <th></th>\n",
       "      <th></th>\n",
       "      <th></th>\n",
       "      <th></th>\n",
       "    </tr>\n",
       "  </thead>\n",
       "  <tbody>\n",
       "    <tr>\n",
       "      <th>False</th>\n",
       "      <td>9248</td>\n",
       "      <td>164</td>\n",
       "      <td>230</td>\n",
       "      <td>322</td>\n",
       "      <td>314</td>\n",
       "      <td>144</td>\n",
       "    </tr>\n",
       "    <tr>\n",
       "      <th>True</th>\n",
       "      <td>1831</td>\n",
       "      <td>14</td>\n",
       "      <td>13</td>\n",
       "      <td>29</td>\n",
       "      <td>11</td>\n",
       "      <td>10</td>\n",
       "    </tr>\n",
       "  </tbody>\n",
       "</table>\n",
       "</div>"
      ],
      "text/plain": [
       "SpecialDay   0.0  0.2  0.4  0.6  0.8  1.0\n",
       "Revenue                                  \n",
       "False       9248  164  230  322  314  144\n",
       "True        1831   14   13   29   11   10"
      ]
     },
     "execution_count": 100,
     "metadata": {},
     "output_type": "execute_result"
    }
   ],
   "source": [
    "ct = pd.crosstab(index=df['Revenue'],columns=df['SpecialDay'])\n",
    "ct"
   ]
  },
  {
   "cell_type": "code",
   "execution_count": 101,
   "metadata": {},
   "outputs": [
    {
     "data": {
      "text/plain": [
       "(96.07690626757704,\n",
       " 3.5432443403841987e-19,\n",
       " 5,\n",
       " array([[9364.58540146,  150.45547445,  205.39708029,  296.68467153,\n",
       "          274.7080292 ,  130.16934307],\n",
       "        [1714.41459854,   27.54452555,   37.60291971,   54.31532847,\n",
       "           50.2919708 ,   23.83065693]]))"
      ]
     },
     "execution_count": 101,
     "metadata": {},
     "output_type": "execute_result"
    }
   ],
   "source": [
    "chi2_contingency(ct)"
   ]
  },
  {
   "cell_type": "markdown",
   "metadata": {},
   "source": [
    "## Hypothesis\n",
    "\n",
    "* H0: There is no relation between the Special Day Column and the Revenue Column\n",
    "* Ha: There is a relation between the Special Day Column and the Revenue Column.\n",
    "\n",
    "## Observation:\n",
    "\n",
    "The p-value for the test is less than the critical value.\n",
    "We reject the null hypothesis H0.\n",
    "This shows that there is a relation between the Special Day Column and the Target attribute.\n",
    "* Decision: The Special Day Column is a significant Feature in predicting our Target attribute."
   ]
  },
  {
   "cell_type": "markdown",
   "metadata": {},
   "source": []
  },
  {
   "cell_type": "markdown",
   "metadata": {},
   "source": [
    "#                             Data Handling And Modeling"
   ]
  },
  {
   "cell_type": "code",
   "execution_count": 102,
   "metadata": {},
   "outputs": [],
   "source": [
    "from sklearn.preprocessing import LabelEncoder\n",
    "lab = LabelEncoder()\n",
    "from sklearn.preprocessing import StandardScaler\n",
    "SC=StandardScaler()"
   ]
  },
  {
   "cell_type": "code",
   "execution_count": 103,
   "metadata": {},
   "outputs": [],
   "source": [
    "from sklearn.linear_model import LogisticRegression\n",
    "from sklearn.naive_bayes import GaussianNB\n",
    "from sklearn.ensemble import RandomForestClassifier\n",
    "from sklearn.ensemble import AdaBoostClassifier\n",
    "from sklearn.ensemble import GradientBoostingClassifier\n",
    "\n",
    "log_reg = LogisticRegression()\n",
    "nb = GaussianNB()\n",
    "rf = RandomForestClassifier()\n",
    "ada = AdaBoostClassifier()\n",
    "gb = GradientBoostingClassifier()"
   ]
  },
  {
   "cell_type": "code",
   "execution_count": 104,
   "metadata": {},
   "outputs": [],
   "source": [
    "from sklearn.metrics import accuracy_score,f1_score,confusion_matrix,classification_report,precision_score,recall_score\n",
    "from sklearn.metrics import roc_auc_score,roc_curve"
   ]
  },
  {
   "cell_type": "code",
   "execution_count": 105,
   "metadata": {},
   "outputs": [],
   "source": [
    "df.loc[:,['Administrative','Informational','ProductRelated']]=df.loc[:,['Administrative','Informational','ProductRelated']].astype(np.number)"
   ]
  },
  {
   "cell_type": "code",
   "execution_count": 106,
   "metadata": {},
   "outputs": [
    {
     "name": "stdout",
     "output_type": "stream",
     "text": [
      "<class 'pandas.core.frame.DataFrame'>\n",
      "RangeIndex: 12330 entries, 0 to 12329\n",
      "Data columns (total 18 columns):\n",
      " #   Column                   Non-Null Count  Dtype   \n",
      "---  ------                   --------------  -----   \n",
      " 0   Administrative           12330 non-null  float64 \n",
      " 1   Administrative_Duration  12330 non-null  float64 \n",
      " 2   Informational            12330 non-null  float64 \n",
      " 3   Informational_Duration   12330 non-null  float64 \n",
      " 4   ProductRelated           12330 non-null  float64 \n",
      " 5   ProductRelated_Duration  12330 non-null  float64 \n",
      " 6   BounceRates              12330 non-null  float64 \n",
      " 7   ExitRates                12330 non-null  float64 \n",
      " 8   PageValues               12330 non-null  float64 \n",
      " 9   SpecialDay               12330 non-null  category\n",
      " 10  Month                    12330 non-null  object  \n",
      " 11  OperatingSystems         12330 non-null  category\n",
      " 12  Browser                  12330 non-null  category\n",
      " 13  Region                   12330 non-null  category\n",
      " 14  TrafficType              12330 non-null  category\n",
      " 15  VisitorType              12330 non-null  object  \n",
      " 16  Weekend                  12330 non-null  bool    \n",
      " 17  Revenue                  12330 non-null  bool    \n",
      "dtypes: bool(2), category(5), float64(9), object(2)\n",
      "memory usage: 1.1+ MB\n"
     ]
    }
   ],
   "source": [
    "df.info()"
   ]
  },
  {
   "cell_type": "code",
   "execution_count": 107,
   "metadata": {},
   "outputs": [
    {
     "data": {
      "text/plain": [
       "['Aug', 'Dec', 'Feb', 'Jul', 'June', 'Mar', 'May', 'Nov', 'Oct', 'Sep']"
      ]
     },
     "execution_count": 107,
     "metadata": {},
     "output_type": "execute_result"
    }
   ],
   "source": [
    "sorted(df['Month'].value_counts().index)"
   ]
  },
  {
   "cell_type": "code",
   "execution_count": 108,
   "metadata": {},
   "outputs": [],
   "source": [
    "df[\"Month\"] = df[\"Month\"].replace({\"Feb\" : 0,\n",
    "                              \"June\" : 3,\n",
    "                              \"Aug\" : 5,\n",
    "                              \"Jul\" : 4,\n",
    "                              \"Sep\" : 6,\n",
    "                              \"Oct\" : 8,\n",
    "                              \"Dec\" : 10,\n",
    "                              \"Mar\" : 1,\n",
    "                              \"Nov\" : 9,\n",
    "                              \"May\" : 2})"
   ]
  },
  {
   "cell_type": "code",
   "execution_count": 109,
   "metadata": {},
   "outputs": [
    {
     "name": "stdout",
     "output_type": "stream",
     "text": [
      "<class 'pandas.core.frame.DataFrame'>\n",
      "RangeIndex: 12330 entries, 0 to 12329\n",
      "Data columns (total 18 columns):\n",
      " #   Column                   Non-Null Count  Dtype   \n",
      "---  ------                   --------------  -----   \n",
      " 0   Administrative           12330 non-null  float64 \n",
      " 1   Administrative_Duration  12330 non-null  float64 \n",
      " 2   Informational            12330 non-null  float64 \n",
      " 3   Informational_Duration   12330 non-null  float64 \n",
      " 4   ProductRelated           12330 non-null  float64 \n",
      " 5   ProductRelated_Duration  12330 non-null  float64 \n",
      " 6   BounceRates              12330 non-null  float64 \n",
      " 7   ExitRates                12330 non-null  float64 \n",
      " 8   PageValues               12330 non-null  float64 \n",
      " 9   SpecialDay               12330 non-null  category\n",
      " 10  Month                    12330 non-null  int64   \n",
      " 11  OperatingSystems         12330 non-null  category\n",
      " 12  Browser                  12330 non-null  category\n",
      " 13  Region                   12330 non-null  category\n",
      " 14  TrafficType              12330 non-null  category\n",
      " 15  VisitorType              12330 non-null  object  \n",
      " 16  Weekend                  12330 non-null  bool    \n",
      " 17  Revenue                  12330 non-null  bool    \n",
      "dtypes: bool(2), category(5), float64(9), int64(1), object(1)\n",
      "memory usage: 1.1+ MB\n"
     ]
    }
   ],
   "source": [
    "df.info()"
   ]
  },
  {
   "cell_type": "code",
   "execution_count": 110,
   "metadata": {},
   "outputs": [
    {
     "data": {
      "text/plain": [
       "Index(['Administrative', 'Administrative_Duration', 'Informational',\n",
       "       'Informational_Duration', 'ProductRelated', 'ProductRelated_Duration',\n",
       "       'BounceRates', 'ExitRates', 'PageValues'],\n",
       "      dtype='object')"
      ]
     },
     "execution_count": 110,
     "metadata": {},
     "output_type": "execute_result"
    }
   ],
   "source": [
    "df_num=df.iloc[:,:9]\n",
    "df_num.columns"
   ]
  },
  {
   "cell_type": "code",
   "execution_count": 111,
   "metadata": {},
   "outputs": [],
   "source": [
    "for i in df.iloc[:,9:]:\n",
    "    df[i]=df[i].astype(str)"
   ]
  },
  {
   "cell_type": "code",
   "execution_count": 112,
   "metadata": {},
   "outputs": [],
   "source": [
    "df_cat=df.select_dtypes(include='O')"
   ]
  },
  {
   "cell_type": "code",
   "execution_count": 113,
   "metadata": {},
   "outputs": [
    {
     "data": {
      "text/plain": [
       "Index(['SpecialDay', 'Month', 'OperatingSystems', 'Browser', 'Region',\n",
       "       'TrafficType', 'VisitorType', 'Weekend', 'Revenue'],\n",
       "      dtype='object')"
      ]
     },
     "execution_count": 113,
     "metadata": {},
     "output_type": "execute_result"
    }
   ],
   "source": [
    "df_cat.columns"
   ]
  },
  {
   "cell_type": "code",
   "execution_count": 114,
   "metadata": {},
   "outputs": [
    {
     "name": "stderr",
     "output_type": "stream",
     "text": [
      "C:\\Users\\91917\\Anaconda3\\lib\\site-packages\\pandas\\core\\frame.py:4163: SettingWithCopyWarning: \n",
      "A value is trying to be set on a copy of a slice from a DataFrame\n",
      "\n",
      "See the caveats in the documentation: https://pandas.pydata.org/pandas-docs/stable/user_guide/indexing.html#returning-a-view-versus-a-copy\n",
      "  return super().drop(\n"
     ]
    }
   ],
   "source": [
    "df_cat.drop('Revenue',inplace=True,axis=1)"
   ]
  },
  {
   "cell_type": "code",
   "execution_count": 115,
   "metadata": {},
   "outputs": [],
   "source": [
    "from sklearn.pipeline import Pipeline\n",
    "from sklearn.preprocessing import OneHotEncoder\n",
    "num_pip=Pipeline(steps=[('scaler', StandardScaler())])"
   ]
  },
  {
   "cell_type": "code",
   "execution_count": 116,
   "metadata": {},
   "outputs": [],
   "source": [
    "cat_pip=Pipeline(steps=[('encoder', OneHotEncoder())])"
   ]
  },
  {
   "cell_type": "code",
   "execution_count": 117,
   "metadata": {},
   "outputs": [],
   "source": [
    "from sklearn.compose import ColumnTransformer"
   ]
  },
  {
   "cell_type": "code",
   "execution_count": 118,
   "metadata": {},
   "outputs": [],
   "source": [
    "data=ColumnTransformer([('Categorical',cat_pip,df_cat),\n",
    "                        (('Numerical',num_pip,df_num))\n",
    "])"
   ]
  },
  {
   "cell_type": "code",
   "execution_count": 119,
   "metadata": {},
   "outputs": [
    {
     "data": {
      "text/plain": [
       "ColumnTransformer(transformers=[('Categorical',\n",
       "                                 Pipeline(steps=[('encoder', OneHotEncoder())]),\n",
       "                                       SpecialDay Month OperatingSystems Browser Region TrafficType  \\\n",
       "0            0.0     0                1       1      1           1   \n",
       "1            0.0     0                2       2      1           2   \n",
       "2            0.0     0                4       1      9           3   \n",
       "3            0.0     0                3       2      2           4   \n",
       "4            0.0     0                3       3      1           4   \n",
       "...          ...   ...              ...     ...    ...         ...   \n",
       "12325        0.0    10                4       6      1           1   \n",
       "12326        0.0     9                3       2      1           8   \n",
       "12327        0.0     9                3       2      1          13   \n",
       "12328        0.0     9                2       2      3          11   \n",
       "12329        0.0     9                3       2      1           2   \n",
       "\n",
       "             VisitorType Weekend  \n",
       "0      Returning_Visitor   False  \n",
       "1      Returning_Visitor   False  \n",
       "2      Re...\n",
       "12329                     0.0             3.0                21.250000   \n",
       "\n",
       "       BounceRates  ExitRates  PageValues  \n",
       "0         0.200000   0.200000    0.000000  \n",
       "1         0.000000   0.100000    0.000000  \n",
       "2         0.200000   0.200000    0.000000  \n",
       "3         0.050000   0.140000    0.000000  \n",
       "4         0.020000   0.050000    0.000000  \n",
       "...            ...        ...         ...  \n",
       "12325     0.007143   0.029031   12.241717  \n",
       "12326     0.000000   0.021333    0.000000  \n",
       "12327     0.083333   0.086667    0.000000  \n",
       "12328     0.000000   0.021053    0.000000  \n",
       "12329     0.000000   0.066667    0.000000  \n",
       "\n",
       "[12330 rows x 9 columns])])"
      ]
     },
     "execution_count": 119,
     "metadata": {},
     "output_type": "execute_result"
    }
   ],
   "source": [
    "data"
   ]
  },
  {
   "cell_type": "code",
   "execution_count": 120,
   "metadata": {},
   "outputs": [],
   "source": [
    "ohe=OneHotEncoder()\n",
    "df_cat=pd.get_dummies(df_cat,drop_first=True)"
   ]
  },
  {
   "cell_type": "code",
   "execution_count": 121,
   "metadata": {},
   "outputs": [],
   "source": [
    "df_new=pd.concat([df_num,df_cat],axis=1)"
   ]
  },
  {
   "cell_type": "code",
   "execution_count": 122,
   "metadata": {},
   "outputs": [
    {
     "data": {
      "text/html": [
       "<div>\n",
       "<style scoped>\n",
       "    .dataframe tbody tr th:only-of-type {\n",
       "        vertical-align: middle;\n",
       "    }\n",
       "\n",
       "    .dataframe tbody tr th {\n",
       "        vertical-align: top;\n",
       "    }\n",
       "\n",
       "    .dataframe thead th {\n",
       "        text-align: right;\n",
       "    }\n",
       "</style>\n",
       "<table border=\"1\" class=\"dataframe\">\n",
       "  <thead>\n",
       "    <tr style=\"text-align: right;\">\n",
       "      <th></th>\n",
       "      <th>Administrative</th>\n",
       "      <th>Administrative_Duration</th>\n",
       "      <th>Informational</th>\n",
       "      <th>Informational_Duration</th>\n",
       "      <th>ProductRelated</th>\n",
       "      <th>ProductRelated_Duration</th>\n",
       "      <th>BounceRates</th>\n",
       "      <th>ExitRates</th>\n",
       "      <th>PageValues</th>\n",
       "      <th>SpecialDay_0.2</th>\n",
       "      <th>...</th>\n",
       "      <th>TrafficType_3</th>\n",
       "      <th>TrafficType_4</th>\n",
       "      <th>TrafficType_5</th>\n",
       "      <th>TrafficType_6</th>\n",
       "      <th>TrafficType_7</th>\n",
       "      <th>TrafficType_8</th>\n",
       "      <th>TrafficType_9</th>\n",
       "      <th>VisitorType_Other</th>\n",
       "      <th>VisitorType_Returning_Visitor</th>\n",
       "      <th>Weekend_True</th>\n",
       "    </tr>\n",
       "  </thead>\n",
       "  <tbody>\n",
       "    <tr>\n",
       "      <th>0</th>\n",
       "      <td>0.0</td>\n",
       "      <td>0.0</td>\n",
       "      <td>0.0</td>\n",
       "      <td>0.0</td>\n",
       "      <td>1.0</td>\n",
       "      <td>0.000000</td>\n",
       "      <td>0.200000</td>\n",
       "      <td>0.200000</td>\n",
       "      <td>0.000000</td>\n",
       "      <td>0</td>\n",
       "      <td>...</td>\n",
       "      <td>0</td>\n",
       "      <td>0</td>\n",
       "      <td>0</td>\n",
       "      <td>0</td>\n",
       "      <td>0</td>\n",
       "      <td>0</td>\n",
       "      <td>0</td>\n",
       "      <td>0</td>\n",
       "      <td>1</td>\n",
       "      <td>0</td>\n",
       "    </tr>\n",
       "    <tr>\n",
       "      <th>1</th>\n",
       "      <td>0.0</td>\n",
       "      <td>0.0</td>\n",
       "      <td>0.0</td>\n",
       "      <td>0.0</td>\n",
       "      <td>2.0</td>\n",
       "      <td>64.000000</td>\n",
       "      <td>0.000000</td>\n",
       "      <td>0.100000</td>\n",
       "      <td>0.000000</td>\n",
       "      <td>0</td>\n",
       "      <td>...</td>\n",
       "      <td>0</td>\n",
       "      <td>0</td>\n",
       "      <td>0</td>\n",
       "      <td>0</td>\n",
       "      <td>0</td>\n",
       "      <td>0</td>\n",
       "      <td>0</td>\n",
       "      <td>0</td>\n",
       "      <td>1</td>\n",
       "      <td>0</td>\n",
       "    </tr>\n",
       "    <tr>\n",
       "      <th>2</th>\n",
       "      <td>0.0</td>\n",
       "      <td>0.0</td>\n",
       "      <td>0.0</td>\n",
       "      <td>0.0</td>\n",
       "      <td>1.0</td>\n",
       "      <td>0.000000</td>\n",
       "      <td>0.200000</td>\n",
       "      <td>0.200000</td>\n",
       "      <td>0.000000</td>\n",
       "      <td>0</td>\n",
       "      <td>...</td>\n",
       "      <td>1</td>\n",
       "      <td>0</td>\n",
       "      <td>0</td>\n",
       "      <td>0</td>\n",
       "      <td>0</td>\n",
       "      <td>0</td>\n",
       "      <td>0</td>\n",
       "      <td>0</td>\n",
       "      <td>1</td>\n",
       "      <td>0</td>\n",
       "    </tr>\n",
       "    <tr>\n",
       "      <th>3</th>\n",
       "      <td>0.0</td>\n",
       "      <td>0.0</td>\n",
       "      <td>0.0</td>\n",
       "      <td>0.0</td>\n",
       "      <td>2.0</td>\n",
       "      <td>2.666667</td>\n",
       "      <td>0.050000</td>\n",
       "      <td>0.140000</td>\n",
       "      <td>0.000000</td>\n",
       "      <td>0</td>\n",
       "      <td>...</td>\n",
       "      <td>0</td>\n",
       "      <td>1</td>\n",
       "      <td>0</td>\n",
       "      <td>0</td>\n",
       "      <td>0</td>\n",
       "      <td>0</td>\n",
       "      <td>0</td>\n",
       "      <td>0</td>\n",
       "      <td>1</td>\n",
       "      <td>0</td>\n",
       "    </tr>\n",
       "    <tr>\n",
       "      <th>4</th>\n",
       "      <td>0.0</td>\n",
       "      <td>0.0</td>\n",
       "      <td>0.0</td>\n",
       "      <td>0.0</td>\n",
       "      <td>10.0</td>\n",
       "      <td>627.500000</td>\n",
       "      <td>0.020000</td>\n",
       "      <td>0.050000</td>\n",
       "      <td>0.000000</td>\n",
       "      <td>0</td>\n",
       "      <td>...</td>\n",
       "      <td>0</td>\n",
       "      <td>1</td>\n",
       "      <td>0</td>\n",
       "      <td>0</td>\n",
       "      <td>0</td>\n",
       "      <td>0</td>\n",
       "      <td>0</td>\n",
       "      <td>0</td>\n",
       "      <td>1</td>\n",
       "      <td>1</td>\n",
       "    </tr>\n",
       "    <tr>\n",
       "      <th>...</th>\n",
       "      <td>...</td>\n",
       "      <td>...</td>\n",
       "      <td>...</td>\n",
       "      <td>...</td>\n",
       "      <td>...</td>\n",
       "      <td>...</td>\n",
       "      <td>...</td>\n",
       "      <td>...</td>\n",
       "      <td>...</td>\n",
       "      <td>...</td>\n",
       "      <td>...</td>\n",
       "      <td>...</td>\n",
       "      <td>...</td>\n",
       "      <td>...</td>\n",
       "      <td>...</td>\n",
       "      <td>...</td>\n",
       "      <td>...</td>\n",
       "      <td>...</td>\n",
       "      <td>...</td>\n",
       "      <td>...</td>\n",
       "      <td>...</td>\n",
       "    </tr>\n",
       "    <tr>\n",
       "      <th>12325</th>\n",
       "      <td>3.0</td>\n",
       "      <td>145.0</td>\n",
       "      <td>0.0</td>\n",
       "      <td>0.0</td>\n",
       "      <td>53.0</td>\n",
       "      <td>1783.791667</td>\n",
       "      <td>0.007143</td>\n",
       "      <td>0.029031</td>\n",
       "      <td>12.241717</td>\n",
       "      <td>0</td>\n",
       "      <td>...</td>\n",
       "      <td>0</td>\n",
       "      <td>0</td>\n",
       "      <td>0</td>\n",
       "      <td>0</td>\n",
       "      <td>0</td>\n",
       "      <td>0</td>\n",
       "      <td>0</td>\n",
       "      <td>0</td>\n",
       "      <td>1</td>\n",
       "      <td>1</td>\n",
       "    </tr>\n",
       "    <tr>\n",
       "      <th>12326</th>\n",
       "      <td>0.0</td>\n",
       "      <td>0.0</td>\n",
       "      <td>0.0</td>\n",
       "      <td>0.0</td>\n",
       "      <td>5.0</td>\n",
       "      <td>465.750000</td>\n",
       "      <td>0.000000</td>\n",
       "      <td>0.021333</td>\n",
       "      <td>0.000000</td>\n",
       "      <td>0</td>\n",
       "      <td>...</td>\n",
       "      <td>0</td>\n",
       "      <td>0</td>\n",
       "      <td>0</td>\n",
       "      <td>0</td>\n",
       "      <td>0</td>\n",
       "      <td>1</td>\n",
       "      <td>0</td>\n",
       "      <td>0</td>\n",
       "      <td>1</td>\n",
       "      <td>1</td>\n",
       "    </tr>\n",
       "    <tr>\n",
       "      <th>12327</th>\n",
       "      <td>0.0</td>\n",
       "      <td>0.0</td>\n",
       "      <td>0.0</td>\n",
       "      <td>0.0</td>\n",
       "      <td>6.0</td>\n",
       "      <td>184.250000</td>\n",
       "      <td>0.083333</td>\n",
       "      <td>0.086667</td>\n",
       "      <td>0.000000</td>\n",
       "      <td>0</td>\n",
       "      <td>...</td>\n",
       "      <td>0</td>\n",
       "      <td>0</td>\n",
       "      <td>0</td>\n",
       "      <td>0</td>\n",
       "      <td>0</td>\n",
       "      <td>0</td>\n",
       "      <td>0</td>\n",
       "      <td>0</td>\n",
       "      <td>1</td>\n",
       "      <td>1</td>\n",
       "    </tr>\n",
       "    <tr>\n",
       "      <th>12328</th>\n",
       "      <td>4.0</td>\n",
       "      <td>75.0</td>\n",
       "      <td>0.0</td>\n",
       "      <td>0.0</td>\n",
       "      <td>15.0</td>\n",
       "      <td>346.000000</td>\n",
       "      <td>0.000000</td>\n",
       "      <td>0.021053</td>\n",
       "      <td>0.000000</td>\n",
       "      <td>0</td>\n",
       "      <td>...</td>\n",
       "      <td>0</td>\n",
       "      <td>0</td>\n",
       "      <td>0</td>\n",
       "      <td>0</td>\n",
       "      <td>0</td>\n",
       "      <td>0</td>\n",
       "      <td>0</td>\n",
       "      <td>0</td>\n",
       "      <td>1</td>\n",
       "      <td>0</td>\n",
       "    </tr>\n",
       "    <tr>\n",
       "      <th>12329</th>\n",
       "      <td>0.0</td>\n",
       "      <td>0.0</td>\n",
       "      <td>0.0</td>\n",
       "      <td>0.0</td>\n",
       "      <td>3.0</td>\n",
       "      <td>21.250000</td>\n",
       "      <td>0.000000</td>\n",
       "      <td>0.066667</td>\n",
       "      <td>0.000000</td>\n",
       "      <td>0</td>\n",
       "      <td>...</td>\n",
       "      <td>0</td>\n",
       "      <td>0</td>\n",
       "      <td>0</td>\n",
       "      <td>0</td>\n",
       "      <td>0</td>\n",
       "      <td>0</td>\n",
       "      <td>0</td>\n",
       "      <td>0</td>\n",
       "      <td>0</td>\n",
       "      <td>1</td>\n",
       "    </tr>\n",
       "  </tbody>\n",
       "</table>\n",
       "<p>12330 rows × 72 columns</p>\n",
       "</div>"
      ],
      "text/plain": [
       "       Administrative  Administrative_Duration  Informational  \\\n",
       "0                 0.0                      0.0            0.0   \n",
       "1                 0.0                      0.0            0.0   \n",
       "2                 0.0                      0.0            0.0   \n",
       "3                 0.0                      0.0            0.0   \n",
       "4                 0.0                      0.0            0.0   \n",
       "...               ...                      ...            ...   \n",
       "12325             3.0                    145.0            0.0   \n",
       "12326             0.0                      0.0            0.0   \n",
       "12327             0.0                      0.0            0.0   \n",
       "12328             4.0                     75.0            0.0   \n",
       "12329             0.0                      0.0            0.0   \n",
       "\n",
       "       Informational_Duration  ProductRelated  ProductRelated_Duration  \\\n",
       "0                         0.0             1.0                 0.000000   \n",
       "1                         0.0             2.0                64.000000   \n",
       "2                         0.0             1.0                 0.000000   \n",
       "3                         0.0             2.0                 2.666667   \n",
       "4                         0.0            10.0               627.500000   \n",
       "...                       ...             ...                      ...   \n",
       "12325                     0.0            53.0              1783.791667   \n",
       "12326                     0.0             5.0               465.750000   \n",
       "12327                     0.0             6.0               184.250000   \n",
       "12328                     0.0            15.0               346.000000   \n",
       "12329                     0.0             3.0                21.250000   \n",
       "\n",
       "       BounceRates  ExitRates  PageValues  SpecialDay_0.2  ...  TrafficType_3  \\\n",
       "0         0.200000   0.200000    0.000000               0  ...              0   \n",
       "1         0.000000   0.100000    0.000000               0  ...              0   \n",
       "2         0.200000   0.200000    0.000000               0  ...              1   \n",
       "3         0.050000   0.140000    0.000000               0  ...              0   \n",
       "4         0.020000   0.050000    0.000000               0  ...              0   \n",
       "...            ...        ...         ...             ...  ...            ...   \n",
       "12325     0.007143   0.029031   12.241717               0  ...              0   \n",
       "12326     0.000000   0.021333    0.000000               0  ...              0   \n",
       "12327     0.083333   0.086667    0.000000               0  ...              0   \n",
       "12328     0.000000   0.021053    0.000000               0  ...              0   \n",
       "12329     0.000000   0.066667    0.000000               0  ...              0   \n",
       "\n",
       "       TrafficType_4  TrafficType_5  TrafficType_6  TrafficType_7  \\\n",
       "0                  0              0              0              0   \n",
       "1                  0              0              0              0   \n",
       "2                  0              0              0              0   \n",
       "3                  1              0              0              0   \n",
       "4                  1              0              0              0   \n",
       "...              ...            ...            ...            ...   \n",
       "12325              0              0              0              0   \n",
       "12326              0              0              0              0   \n",
       "12327              0              0              0              0   \n",
       "12328              0              0              0              0   \n",
       "12329              0              0              0              0   \n",
       "\n",
       "       TrafficType_8  TrafficType_9  VisitorType_Other  \\\n",
       "0                  0              0                  0   \n",
       "1                  0              0                  0   \n",
       "2                  0              0                  0   \n",
       "3                  0              0                  0   \n",
       "4                  0              0                  0   \n",
       "...              ...            ...                ...   \n",
       "12325              0              0                  0   \n",
       "12326              1              0                  0   \n",
       "12327              0              0                  0   \n",
       "12328              0              0                  0   \n",
       "12329              0              0                  0   \n",
       "\n",
       "       VisitorType_Returning_Visitor  Weekend_True  \n",
       "0                                  1             0  \n",
       "1                                  1             0  \n",
       "2                                  1             0  \n",
       "3                                  1             0  \n",
       "4                                  1             1  \n",
       "...                              ...           ...  \n",
       "12325                              1             1  \n",
       "12326                              1             1  \n",
       "12327                              1             1  \n",
       "12328                              1             0  \n",
       "12329                              0             1  \n",
       "\n",
       "[12330 rows x 72 columns]"
      ]
     },
     "execution_count": 122,
     "metadata": {},
     "output_type": "execute_result"
    }
   ],
   "source": [
    "df_new"
   ]
  },
  {
   "cell_type": "markdown",
   "metadata": {},
   "source": [
    "## Modelling"
   ]
  },
  {
   "cell_type": "code",
   "execution_count": 123,
   "metadata": {},
   "outputs": [
    {
     "data": {
      "text/plain": [
       "False    10422\n",
       "True      1908\n",
       "Name: Revenue, dtype: int64"
      ]
     },
     "execution_count": 123,
     "metadata": {},
     "output_type": "execute_result"
    }
   ],
   "source": [
    "df['Revenue'].value_counts()"
   ]
  },
  {
   "cell_type": "code",
   "execution_count": 124,
   "metadata": {},
   "outputs": [],
   "source": [
    "X=df_new\n",
    "y=df['Revenue']"
   ]
  },
  {
   "cell_type": "code",
   "execution_count": 125,
   "metadata": {},
   "outputs": [],
   "source": [
    "y=lab.fit_transform(y)"
   ]
  },
  {
   "cell_type": "code",
   "execution_count": 126,
   "metadata": {},
   "outputs": [
    {
     "name": "stdout",
     "output_type": "stream",
     "text": [
      "(12330, 72)\n",
      "(12330,)\n"
     ]
    }
   ],
   "source": [
    "print(X.shape)\n",
    "print(y.shape)"
   ]
  },
  {
   "cell_type": "code",
   "execution_count": 127,
   "metadata": {},
   "outputs": [
    {
     "name": "stdout",
     "output_type": "stream",
     "text": [
      "(20844, 72)\n",
      "(20844,)\n"
     ]
    }
   ],
   "source": [
    "from imblearn.over_sampling import SMOTE\n",
    "smt = SMOTE(random_state=0)\n",
    "X, y = smt.fit_resample(X, y)\n",
    "print(X.shape)\n",
    "print(y.shape)"
   ]
  },
  {
   "cell_type": "code",
   "execution_count": 128,
   "metadata": {},
   "outputs": [],
   "source": [
    "from sklearn.model_selection import train_test_split\n",
    "X_train1,X_test1,y_train1,y_test1=train_test_split(X,y,test_size=.20)"
   ]
  },
  {
   "cell_type": "markdown",
   "metadata": {},
   "source": [
    "## LOGISTIC REGRESSION"
   ]
  },
  {
   "cell_type": "code",
   "execution_count": 129,
   "metadata": {},
   "outputs": [],
   "source": [
    "def evaluate_model(X_train, y_train, model):\n",
    "    model.fit(X_train, y_train)\n",
    "    y_pred = model.predict(X_test1)\n",
    "    scores = cross_val_score(model, X_train, y_train, cv=3, scoring=\"accuracy\")\n",
    "    diff = scores.mean() - model.score(X_test1, y_test1)\n",
    "    SD = diff / scores.std()\n",
    "    \n",
    "    print(f\"Training Score:{model.score(X_train, y_train)}\")\n",
    "    print(f\"Cross V Score: {scores.mean()} +/- {scores.std()}\")\n",
    "    print(f\"Testing Score: {model.score(X_test1, y_test1)}\")\n",
    "    print(f\"Cross & Test Diff: {diff}\")\n",
    "    print(f\"Standard Deviations Away: {SD}\")\n",
    "    print('The accuracy score for the data :',accuracy_score(y_test1,y_pred))\n",
    "    print('The recall score for the data :',recall_score(y_test1,y_pred,))\n",
    "    print('The precision for the data :',precision_score(y_test1,y_pred))\n",
    "    print('The f1 score for the data :',f1_score(y_test1,y_pred))\n",
    "    print('The confusion matrix for the data :',confusion_matrix(y_test1,y_pred))\n",
    "    print('The classification report for the data :',classification_report(y_test1,y_pred))"
   ]
  },
  {
   "cell_type": "code",
   "execution_count": 130,
   "metadata": {},
   "outputs": [
    {
     "name": "stderr",
     "output_type": "stream",
     "text": [
      "C:\\Users\\91917\\Anaconda3\\lib\\site-packages\\sklearn\\linear_model\\_logistic.py:763: ConvergenceWarning: lbfgs failed to converge (status=1):\n",
      "STOP: TOTAL NO. of ITERATIONS REACHED LIMIT.\n",
      "\n",
      "Increase the number of iterations (max_iter) or scale the data as shown in:\n",
      "    https://scikit-learn.org/stable/modules/preprocessing.html\n",
      "Please also refer to the documentation for alternative solver options:\n",
      "    https://scikit-learn.org/stable/modules/linear_model.html#logistic-regression\n",
      "  n_iter_i = _check_optimize_result(\n",
      "C:\\Users\\91917\\Anaconda3\\lib\\site-packages\\sklearn\\linear_model\\_logistic.py:763: ConvergenceWarning: lbfgs failed to converge (status=1):\n",
      "STOP: TOTAL NO. of ITERATIONS REACHED LIMIT.\n",
      "\n",
      "Increase the number of iterations (max_iter) or scale the data as shown in:\n",
      "    https://scikit-learn.org/stable/modules/preprocessing.html\n",
      "Please also refer to the documentation for alternative solver options:\n",
      "    https://scikit-learn.org/stable/modules/linear_model.html#logistic-regression\n",
      "  n_iter_i = _check_optimize_result(\n",
      "C:\\Users\\91917\\Anaconda3\\lib\\site-packages\\sklearn\\linear_model\\_logistic.py:763: ConvergenceWarning: lbfgs failed to converge (status=1):\n",
      "STOP: TOTAL NO. of ITERATIONS REACHED LIMIT.\n",
      "\n",
      "Increase the number of iterations (max_iter) or scale the data as shown in:\n",
      "    https://scikit-learn.org/stable/modules/preprocessing.html\n",
      "Please also refer to the documentation for alternative solver options:\n",
      "    https://scikit-learn.org/stable/modules/linear_model.html#logistic-regression\n",
      "  n_iter_i = _check_optimize_result(\n"
     ]
    },
    {
     "name": "stdout",
     "output_type": "stream",
     "text": [
      "Training Score:0.862728635682159\n",
      "Cross V Score: 0.8439584154477696 +/- 0.005211246733504966\n",
      "Testing Score: 0.8558407291916527\n",
      "Cross & Test Diff: -0.011882313743883044\n",
      "Standard Deviations Away: -2.2801287967210238\n",
      "The accuracy score for the data : 0.8558407291916527\n",
      "The recall score for the data : 0.8042532624456259\n",
      "The precision for the data : 0.8946236559139785\n",
      "The f1 score for the data : 0.8470348689233902\n",
      "The confusion matrix for the data : [[1904  196]\n",
      " [ 405 1664]]\n",
      "The classification report for the data :               precision    recall  f1-score   support\n",
      "\n",
      "           0       0.82      0.91      0.86      2100\n",
      "           1       0.89      0.80      0.85      2069\n",
      "\n",
      "    accuracy                           0.86      4169\n",
      "   macro avg       0.86      0.86      0.86      4169\n",
      "weighted avg       0.86      0.86      0.86      4169\n",
      "\n"
     ]
    },
    {
     "name": "stderr",
     "output_type": "stream",
     "text": [
      "C:\\Users\\91917\\Anaconda3\\lib\\site-packages\\sklearn\\linear_model\\_logistic.py:763: ConvergenceWarning: lbfgs failed to converge (status=1):\n",
      "STOP: TOTAL NO. of ITERATIONS REACHED LIMIT.\n",
      "\n",
      "Increase the number of iterations (max_iter) or scale the data as shown in:\n",
      "    https://scikit-learn.org/stable/modules/preprocessing.html\n",
      "Please also refer to the documentation for alternative solver options:\n",
      "    https://scikit-learn.org/stable/modules/linear_model.html#logistic-regression\n",
      "  n_iter_i = _check_optimize_result(\n"
     ]
    }
   ],
   "source": [
    "from sklearn.model_selection import cross_val_score\n",
    "\n",
    "evaluate_model(X_train1, y_train1, LogisticRegression())"
   ]
  },
  {
   "cell_type": "markdown",
   "metadata": {},
   "source": [
    "## Decision Tree"
   ]
  },
  {
   "cell_type": "code",
   "execution_count": 131,
   "metadata": {},
   "outputs": [],
   "source": [
    "def evaluate_model(X_train, y_train, model):\n",
    "    model.fit(X_train, y_train)\n",
    "    y_pred = model.predict(X_test1)\n",
    "    scores = cross_val_score(model, X_train, y_train, cv=3, scoring=\"accuracy\")\n",
    "    diff = scores.mean() - model.score(X_test1, y_test1)\n",
    "    SD = diff / scores.std()\n",
    "    \n",
    "    print(f\"Training Score:{model.score(X_train, y_train)}\")\n",
    "    print(f\"Cross V Score: {scores.mean()} +/- {scores.std()}\")\n",
    "    print(f\"Testing Score: {model.score(X_test1, y_test1)}\")\n",
    "    print(f\"Cross & Test Diff: {diff}\")\n",
    "    print(f\"Standard Deviations Away: {SD}\")\n",
    "    print('The accuracy score for the data :',accuracy_score(y_test1,y_pred))\n",
    "    print('The recall score for the data :',recall_score(y_test1,y_pred,))\n",
    "    print('The precision for the data :',precision_score(y_test1,y_pred))\n",
    "    print('The f1 score for the data :',f1_score(y_test1,y_pred))\n",
    "    print('The confusion matrix for the data :',confusion_matrix(y_test1,y_pred))\n",
    "    print('The classification report for the data :',classification_report(y_test1,y_pred))"
   ]
  },
  {
   "cell_type": "code",
   "execution_count": 132,
   "metadata": {},
   "outputs": [],
   "source": [
    "from sklearn.tree import DecisionTreeClassifier\n",
    "from sklearn.model_selection import cross_val_score\n",
    "dt=DecisionTreeClassifier(max_depth=8)"
   ]
  },
  {
   "cell_type": "code",
   "execution_count": 133,
   "metadata": {},
   "outputs": [
    {
     "name": "stdout",
     "output_type": "stream",
     "text": [
      "Training Score:0.9350524737631184\n",
      "Cross V Score: 0.9068067362826627 +/- 0.0021578565696344426\n",
      "Testing Score: 0.905492923962581\n",
      "Cross & Test Diff: 0.0013138123200817642\n",
      "Standard Deviations Away: 0.6088506245363352\n",
      "The accuracy score for the data : 0.905492923962581\n",
      "The recall score for the data : 0.91686805219913\n",
      "The precision for the data : 0.8952336007550732\n",
      "The f1 score for the data : 0.9059216809933142\n",
      "The confusion matrix for the data : [[1878  222]\n",
      " [ 172 1897]]\n",
      "The classification report for the data :               precision    recall  f1-score   support\n",
      "\n",
      "           0       0.92      0.89      0.91      2100\n",
      "           1       0.90      0.92      0.91      2069\n",
      "\n",
      "    accuracy                           0.91      4169\n",
      "   macro avg       0.91      0.91      0.91      4169\n",
      "weighted avg       0.91      0.91      0.91      4169\n",
      "\n"
     ]
    }
   ],
   "source": [
    "evaluate_model(X_train1, y_train1, dt)"
   ]
  },
  {
   "cell_type": "markdown",
   "metadata": {},
   "source": [
    "## Random Forest"
   ]
  },
  {
   "cell_type": "code",
   "execution_count": 134,
   "metadata": {},
   "outputs": [],
   "source": [
    "def evaluate_model(X_train, y_train, model):\n",
    "    model.fit(X_train, y_train)\n",
    "    y_pred = model.predict(X_test1)\n",
    "    scores = cross_val_score(model, X_train, y_train, cv=3, scoring=\"accuracy\")\n",
    "    diff = scores.mean() - model.score(X_test1, y_test1)\n",
    "    SD = diff / scores.std()\n",
    "    \n",
    "    print(f\"Training Score:{model.score(X_train, y_train)}\")\n",
    "    print(f\"Cross V Score: {scores.mean()} +/- {scores.std()}\")\n",
    "    print(f\"Testing Score: {model.score(X_test1, y_test1)}\")\n",
    "    print(f\"Cross & Test Diff: {diff}\")\n",
    "    print(f\"Standard Deviations Away: {SD}\")\n",
    "    print('The accuracy score for the data :',accuracy_score(y_test1,y_pred))\n",
    "    print('The recall score for the data :',recall_score(y_test1,y_pred,))\n",
    "    print('The precision for the data :',precision_score(y_test1,y_pred))\n",
    "    print('The f1 score for the data :',f1_score(y_test1,y_pred))\n",
    "    print('The confusion matrix for the data :',confusion_matrix(y_test1,y_pred))\n",
    "    print('The classification report for the data :',classification_report(y_test1,y_pred))"
   ]
  },
  {
   "cell_type": "code",
   "execution_count": 135,
   "metadata": {},
   "outputs": [
    {
     "name": "stdout",
     "output_type": "stream",
     "text": [
      "Training Score:1.0\n",
      "Cross V Score: 0.9340931652242469 +/- 0.004260160008428362\n",
      "Testing Score: 0.9347565363396498\n",
      "Cross & Test Diff: -0.0006633711154029331\n",
      "Standard Deviations Away: -0.15571507034724286\n",
      "The accuracy score for the data : 0.9347565363396498\n",
      "The recall score for the data : 0.9400676655389076\n",
      "The precision for the data : 0.9292881032011466\n",
      "The f1 score for the data : 0.9346468044209513\n",
      "The confusion matrix for the data : [[1952  148]\n",
      " [ 124 1945]]\n",
      "The classification report for the data :               precision    recall  f1-score   support\n",
      "\n",
      "           0       0.94      0.93      0.93      2100\n",
      "           1       0.93      0.94      0.93      2069\n",
      "\n",
      "    accuracy                           0.93      4169\n",
      "   macro avg       0.93      0.93      0.93      4169\n",
      "weighted avg       0.93      0.93      0.93      4169\n",
      "\n"
     ]
    }
   ],
   "source": [
    "rfm=RandomForestClassifier()\n",
    "evaluate_model(X_train1, y_train1, rfm)"
   ]
  },
  {
   "cell_type": "markdown",
   "metadata": {},
   "source": [
    "## Bagging"
   ]
  },
  {
   "cell_type": "code",
   "execution_count": 136,
   "metadata": {},
   "outputs": [],
   "source": [
    "from sklearn.ensemble import BaggingClassifier"
   ]
  },
  {
   "cell_type": "code",
   "execution_count": 137,
   "metadata": {},
   "outputs": [
    {
     "name": "stderr",
     "output_type": "stream",
     "text": [
      "C:\\Users\\91917\\Anaconda3\\lib\\site-packages\\sklearn\\linear_model\\_logistic.py:763: ConvergenceWarning: lbfgs failed to converge (status=1):\n",
      "STOP: TOTAL NO. of ITERATIONS REACHED LIMIT.\n",
      "\n",
      "Increase the number of iterations (max_iter) or scale the data as shown in:\n",
      "    https://scikit-learn.org/stable/modules/preprocessing.html\n",
      "Please also refer to the documentation for alternative solver options:\n",
      "    https://scikit-learn.org/stable/modules/linear_model.html#logistic-regression\n",
      "  n_iter_i = _check_optimize_result(\n",
      "C:\\Users\\91917\\Anaconda3\\lib\\site-packages\\sklearn\\linear_model\\_logistic.py:763: ConvergenceWarning: lbfgs failed to converge (status=1):\n",
      "STOP: TOTAL NO. of ITERATIONS REACHED LIMIT.\n",
      "\n",
      "Increase the number of iterations (max_iter) or scale the data as shown in:\n",
      "    https://scikit-learn.org/stable/modules/preprocessing.html\n",
      "Please also refer to the documentation for alternative solver options:\n",
      "    https://scikit-learn.org/stable/modules/linear_model.html#logistic-regression\n",
      "  n_iter_i = _check_optimize_result(\n",
      "C:\\Users\\91917\\Anaconda3\\lib\\site-packages\\sklearn\\linear_model\\_logistic.py:763: ConvergenceWarning: lbfgs failed to converge (status=1):\n",
      "STOP: TOTAL NO. of ITERATIONS REACHED LIMIT.\n",
      "\n",
      "Increase the number of iterations (max_iter) or scale the data as shown in:\n",
      "    https://scikit-learn.org/stable/modules/preprocessing.html\n",
      "Please also refer to the documentation for alternative solver options:\n",
      "    https://scikit-learn.org/stable/modules/linear_model.html#logistic-regression\n",
      "  n_iter_i = _check_optimize_result(\n",
      "C:\\Users\\91917\\Anaconda3\\lib\\site-packages\\sklearn\\linear_model\\_logistic.py:763: ConvergenceWarning: lbfgs failed to converge (status=1):\n",
      "STOP: TOTAL NO. of ITERATIONS REACHED LIMIT.\n",
      "\n",
      "Increase the number of iterations (max_iter) or scale the data as shown in:\n",
      "    https://scikit-learn.org/stable/modules/preprocessing.html\n",
      "Please also refer to the documentation for alternative solver options:\n",
      "    https://scikit-learn.org/stable/modules/linear_model.html#logistic-regression\n",
      "  n_iter_i = _check_optimize_result(\n",
      "C:\\Users\\91917\\Anaconda3\\lib\\site-packages\\sklearn\\linear_model\\_logistic.py:763: ConvergenceWarning: lbfgs failed to converge (status=1):\n",
      "STOP: TOTAL NO. of ITERATIONS REACHED LIMIT.\n",
      "\n",
      "Increase the number of iterations (max_iter) or scale the data as shown in:\n",
      "    https://scikit-learn.org/stable/modules/preprocessing.html\n",
      "Please also refer to the documentation for alternative solver options:\n",
      "    https://scikit-learn.org/stable/modules/linear_model.html#logistic-regression\n",
      "  n_iter_i = _check_optimize_result(\n",
      "C:\\Users\\91917\\Anaconda3\\lib\\site-packages\\sklearn\\linear_model\\_logistic.py:763: ConvergenceWarning: lbfgs failed to converge (status=1):\n",
      "STOP: TOTAL NO. of ITERATIONS REACHED LIMIT.\n",
      "\n",
      "Increase the number of iterations (max_iter) or scale the data as shown in:\n",
      "    https://scikit-learn.org/stable/modules/preprocessing.html\n",
      "Please also refer to the documentation for alternative solver options:\n",
      "    https://scikit-learn.org/stable/modules/linear_model.html#logistic-regression\n",
      "  n_iter_i = _check_optimize_result(\n",
      "C:\\Users\\91917\\Anaconda3\\lib\\site-packages\\sklearn\\linear_model\\_logistic.py:763: ConvergenceWarning: lbfgs failed to converge (status=1):\n",
      "STOP: TOTAL NO. of ITERATIONS REACHED LIMIT.\n",
      "\n",
      "Increase the number of iterations (max_iter) or scale the data as shown in:\n",
      "    https://scikit-learn.org/stable/modules/preprocessing.html\n",
      "Please also refer to the documentation for alternative solver options:\n",
      "    https://scikit-learn.org/stable/modules/linear_model.html#logistic-regression\n",
      "  n_iter_i = _check_optimize_result(\n",
      "C:\\Users\\91917\\Anaconda3\\lib\\site-packages\\sklearn\\linear_model\\_logistic.py:763: ConvergenceWarning: lbfgs failed to converge (status=1):\n",
      "STOP: TOTAL NO. of ITERATIONS REACHED LIMIT.\n",
      "\n",
      "Increase the number of iterations (max_iter) or scale the data as shown in:\n",
      "    https://scikit-learn.org/stable/modules/preprocessing.html\n",
      "Please also refer to the documentation for alternative solver options:\n",
      "    https://scikit-learn.org/stable/modules/linear_model.html#logistic-regression\n",
      "  n_iter_i = _check_optimize_result(\n",
      "C:\\Users\\91917\\Anaconda3\\lib\\site-packages\\sklearn\\linear_model\\_logistic.py:763: ConvergenceWarning: lbfgs failed to converge (status=1):\n",
      "STOP: TOTAL NO. of ITERATIONS REACHED LIMIT.\n",
      "\n",
      "Increase the number of iterations (max_iter) or scale the data as shown in:\n",
      "    https://scikit-learn.org/stable/modules/preprocessing.html\n",
      "Please also refer to the documentation for alternative solver options:\n",
      "    https://scikit-learn.org/stable/modules/linear_model.html#logistic-regression\n",
      "  n_iter_i = _check_optimize_result(\n",
      "C:\\Users\\91917\\Anaconda3\\lib\\site-packages\\sklearn\\linear_model\\_logistic.py:763: ConvergenceWarning: lbfgs failed to converge (status=1):\n",
      "STOP: TOTAL NO. of ITERATIONS REACHED LIMIT.\n",
      "\n",
      "Increase the number of iterations (max_iter) or scale the data as shown in:\n",
      "    https://scikit-learn.org/stable/modules/preprocessing.html\n",
      "Please also refer to the documentation for alternative solver options:\n",
      "    https://scikit-learn.org/stable/modules/linear_model.html#logistic-regression\n",
      "  n_iter_i = _check_optimize_result(\n",
      "C:\\Users\\91917\\Anaconda3\\lib\\site-packages\\sklearn\\linear_model\\_logistic.py:763: ConvergenceWarning: lbfgs failed to converge (status=1):\n",
      "STOP: TOTAL NO. of ITERATIONS REACHED LIMIT.\n",
      "\n",
      "Increase the number of iterations (max_iter) or scale the data as shown in:\n",
      "    https://scikit-learn.org/stable/modules/preprocessing.html\n",
      "Please also refer to the documentation for alternative solver options:\n",
      "    https://scikit-learn.org/stable/modules/linear_model.html#logistic-regression\n",
      "  n_iter_i = _check_optimize_result(\n",
      "C:\\Users\\91917\\Anaconda3\\lib\\site-packages\\sklearn\\linear_model\\_logistic.py:763: ConvergenceWarning: lbfgs failed to converge (status=1):\n",
      "STOP: TOTAL NO. of ITERATIONS REACHED LIMIT.\n",
      "\n",
      "Increase the number of iterations (max_iter) or scale the data as shown in:\n",
      "    https://scikit-learn.org/stable/modules/preprocessing.html\n",
      "Please also refer to the documentation for alternative solver options:\n",
      "    https://scikit-learn.org/stable/modules/linear_model.html#logistic-regression\n",
      "  n_iter_i = _check_optimize_result(\n",
      "C:\\Users\\91917\\Anaconda3\\lib\\site-packages\\sklearn\\linear_model\\_logistic.py:763: ConvergenceWarning: lbfgs failed to converge (status=1):\n",
      "STOP: TOTAL NO. of ITERATIONS REACHED LIMIT.\n",
      "\n",
      "Increase the number of iterations (max_iter) or scale the data as shown in:\n",
      "    https://scikit-learn.org/stable/modules/preprocessing.html\n",
      "Please also refer to the documentation for alternative solver options:\n",
      "    https://scikit-learn.org/stable/modules/linear_model.html#logistic-regression\n",
      "  n_iter_i = _check_optimize_result(\n",
      "C:\\Users\\91917\\Anaconda3\\lib\\site-packages\\sklearn\\linear_model\\_logistic.py:763: ConvergenceWarning: lbfgs failed to converge (status=1):\n",
      "STOP: TOTAL NO. of ITERATIONS REACHED LIMIT.\n",
      "\n",
      "Increase the number of iterations (max_iter) or scale the data as shown in:\n",
      "    https://scikit-learn.org/stable/modules/preprocessing.html\n",
      "Please also refer to the documentation for alternative solver options:\n",
      "    https://scikit-learn.org/stable/modules/linear_model.html#logistic-regression\n",
      "  n_iter_i = _check_optimize_result(\n",
      "C:\\Users\\91917\\Anaconda3\\lib\\site-packages\\sklearn\\linear_model\\_logistic.py:763: ConvergenceWarning: lbfgs failed to converge (status=1):\n",
      "STOP: TOTAL NO. of ITERATIONS REACHED LIMIT.\n",
      "\n",
      "Increase the number of iterations (max_iter) or scale the data as shown in:\n",
      "    https://scikit-learn.org/stable/modules/preprocessing.html\n",
      "Please also refer to the documentation for alternative solver options:\n",
      "    https://scikit-learn.org/stable/modules/linear_model.html#logistic-regression\n",
      "  n_iter_i = _check_optimize_result(\n",
      "C:\\Users\\91917\\Anaconda3\\lib\\site-packages\\sklearn\\linear_model\\_logistic.py:763: ConvergenceWarning: lbfgs failed to converge (status=1):\n",
      "STOP: TOTAL NO. of ITERATIONS REACHED LIMIT.\n",
      "\n",
      "Increase the number of iterations (max_iter) or scale the data as shown in:\n",
      "    https://scikit-learn.org/stable/modules/preprocessing.html\n",
      "Please also refer to the documentation for alternative solver options:\n",
      "    https://scikit-learn.org/stable/modules/linear_model.html#logistic-regression\n",
      "  n_iter_i = _check_optimize_result(\n"
     ]
    },
    {
     "name": "stderr",
     "output_type": "stream",
     "text": [
      "C:\\Users\\91917\\Anaconda3\\lib\\site-packages\\sklearn\\linear_model\\_logistic.py:763: ConvergenceWarning: lbfgs failed to converge (status=1):\n",
      "STOP: TOTAL NO. of ITERATIONS REACHED LIMIT.\n",
      "\n",
      "Increase the number of iterations (max_iter) or scale the data as shown in:\n",
      "    https://scikit-learn.org/stable/modules/preprocessing.html\n",
      "Please also refer to the documentation for alternative solver options:\n",
      "    https://scikit-learn.org/stable/modules/linear_model.html#logistic-regression\n",
      "  n_iter_i = _check_optimize_result(\n",
      "C:\\Users\\91917\\Anaconda3\\lib\\site-packages\\sklearn\\linear_model\\_logistic.py:763: ConvergenceWarning: lbfgs failed to converge (status=1):\n",
      "STOP: TOTAL NO. of ITERATIONS REACHED LIMIT.\n",
      "\n",
      "Increase the number of iterations (max_iter) or scale the data as shown in:\n",
      "    https://scikit-learn.org/stable/modules/preprocessing.html\n",
      "Please also refer to the documentation for alternative solver options:\n",
      "    https://scikit-learn.org/stable/modules/linear_model.html#logistic-regression\n",
      "  n_iter_i = _check_optimize_result(\n",
      "C:\\Users\\91917\\Anaconda3\\lib\\site-packages\\sklearn\\linear_model\\_logistic.py:763: ConvergenceWarning: lbfgs failed to converge (status=1):\n",
      "STOP: TOTAL NO. of ITERATIONS REACHED LIMIT.\n",
      "\n",
      "Increase the number of iterations (max_iter) or scale the data as shown in:\n",
      "    https://scikit-learn.org/stable/modules/preprocessing.html\n",
      "Please also refer to the documentation for alternative solver options:\n",
      "    https://scikit-learn.org/stable/modules/linear_model.html#logistic-regression\n",
      "  n_iter_i = _check_optimize_result(\n",
      "C:\\Users\\91917\\Anaconda3\\lib\\site-packages\\sklearn\\linear_model\\_logistic.py:763: ConvergenceWarning: lbfgs failed to converge (status=1):\n",
      "STOP: TOTAL NO. of ITERATIONS REACHED LIMIT.\n",
      "\n",
      "Increase the number of iterations (max_iter) or scale the data as shown in:\n",
      "    https://scikit-learn.org/stable/modules/preprocessing.html\n",
      "Please also refer to the documentation for alternative solver options:\n",
      "    https://scikit-learn.org/stable/modules/linear_model.html#logistic-regression\n",
      "  n_iter_i = _check_optimize_result(\n",
      "C:\\Users\\91917\\Anaconda3\\lib\\site-packages\\sklearn\\linear_model\\_logistic.py:763: ConvergenceWarning: lbfgs failed to converge (status=1):\n",
      "STOP: TOTAL NO. of ITERATIONS REACHED LIMIT.\n",
      "\n",
      "Increase the number of iterations (max_iter) or scale the data as shown in:\n",
      "    https://scikit-learn.org/stable/modules/preprocessing.html\n",
      "Please also refer to the documentation for alternative solver options:\n",
      "    https://scikit-learn.org/stable/modules/linear_model.html#logistic-regression\n",
      "  n_iter_i = _check_optimize_result(\n",
      "C:\\Users\\91917\\Anaconda3\\lib\\site-packages\\sklearn\\linear_model\\_logistic.py:763: ConvergenceWarning: lbfgs failed to converge (status=1):\n",
      "STOP: TOTAL NO. of ITERATIONS REACHED LIMIT.\n",
      "\n",
      "Increase the number of iterations (max_iter) or scale the data as shown in:\n",
      "    https://scikit-learn.org/stable/modules/preprocessing.html\n",
      "Please also refer to the documentation for alternative solver options:\n",
      "    https://scikit-learn.org/stable/modules/linear_model.html#logistic-regression\n",
      "  n_iter_i = _check_optimize_result(\n",
      "C:\\Users\\91917\\Anaconda3\\lib\\site-packages\\sklearn\\linear_model\\_logistic.py:763: ConvergenceWarning: lbfgs failed to converge (status=1):\n",
      "STOP: TOTAL NO. of ITERATIONS REACHED LIMIT.\n",
      "\n",
      "Increase the number of iterations (max_iter) or scale the data as shown in:\n",
      "    https://scikit-learn.org/stable/modules/preprocessing.html\n",
      "Please also refer to the documentation for alternative solver options:\n",
      "    https://scikit-learn.org/stable/modules/linear_model.html#logistic-regression\n",
      "  n_iter_i = _check_optimize_result(\n",
      "C:\\Users\\91917\\Anaconda3\\lib\\site-packages\\sklearn\\linear_model\\_logistic.py:763: ConvergenceWarning: lbfgs failed to converge (status=1):\n",
      "STOP: TOTAL NO. of ITERATIONS REACHED LIMIT.\n",
      "\n",
      "Increase the number of iterations (max_iter) or scale the data as shown in:\n",
      "    https://scikit-learn.org/stable/modules/preprocessing.html\n",
      "Please also refer to the documentation for alternative solver options:\n",
      "    https://scikit-learn.org/stable/modules/linear_model.html#logistic-regression\n",
      "  n_iter_i = _check_optimize_result(\n",
      "C:\\Users\\91917\\Anaconda3\\lib\\site-packages\\sklearn\\linear_model\\_logistic.py:763: ConvergenceWarning: lbfgs failed to converge (status=1):\n",
      "STOP: TOTAL NO. of ITERATIONS REACHED LIMIT.\n",
      "\n",
      "Increase the number of iterations (max_iter) or scale the data as shown in:\n",
      "    https://scikit-learn.org/stable/modules/preprocessing.html\n",
      "Please also refer to the documentation for alternative solver options:\n",
      "    https://scikit-learn.org/stable/modules/linear_model.html#logistic-regression\n",
      "  n_iter_i = _check_optimize_result(\n",
      "C:\\Users\\91917\\Anaconda3\\lib\\site-packages\\sklearn\\linear_model\\_logistic.py:763: ConvergenceWarning: lbfgs failed to converge (status=1):\n",
      "STOP: TOTAL NO. of ITERATIONS REACHED LIMIT.\n",
      "\n",
      "Increase the number of iterations (max_iter) or scale the data as shown in:\n",
      "    https://scikit-learn.org/stable/modules/preprocessing.html\n",
      "Please also refer to the documentation for alternative solver options:\n",
      "    https://scikit-learn.org/stable/modules/linear_model.html#logistic-regression\n",
      "  n_iter_i = _check_optimize_result(\n",
      "C:\\Users\\91917\\Anaconda3\\lib\\site-packages\\sklearn\\linear_model\\_logistic.py:763: ConvergenceWarning: lbfgs failed to converge (status=1):\n",
      "STOP: TOTAL NO. of ITERATIONS REACHED LIMIT.\n",
      "\n",
      "Increase the number of iterations (max_iter) or scale the data as shown in:\n",
      "    https://scikit-learn.org/stable/modules/preprocessing.html\n",
      "Please also refer to the documentation for alternative solver options:\n",
      "    https://scikit-learn.org/stable/modules/linear_model.html#logistic-regression\n",
      "  n_iter_i = _check_optimize_result(\n",
      "C:\\Users\\91917\\Anaconda3\\lib\\site-packages\\sklearn\\linear_model\\_logistic.py:763: ConvergenceWarning: lbfgs failed to converge (status=1):\n",
      "STOP: TOTAL NO. of ITERATIONS REACHED LIMIT.\n",
      "\n",
      "Increase the number of iterations (max_iter) or scale the data as shown in:\n",
      "    https://scikit-learn.org/stable/modules/preprocessing.html\n",
      "Please also refer to the documentation for alternative solver options:\n",
      "    https://scikit-learn.org/stable/modules/linear_model.html#logistic-regression\n",
      "  n_iter_i = _check_optimize_result(\n",
      "C:\\Users\\91917\\Anaconda3\\lib\\site-packages\\sklearn\\linear_model\\_logistic.py:763: ConvergenceWarning: lbfgs failed to converge (status=1):\n",
      "STOP: TOTAL NO. of ITERATIONS REACHED LIMIT.\n",
      "\n",
      "Increase the number of iterations (max_iter) or scale the data as shown in:\n",
      "    https://scikit-learn.org/stable/modules/preprocessing.html\n",
      "Please also refer to the documentation for alternative solver options:\n",
      "    https://scikit-learn.org/stable/modules/linear_model.html#logistic-regression\n",
      "  n_iter_i = _check_optimize_result(\n",
      "C:\\Users\\91917\\Anaconda3\\lib\\site-packages\\sklearn\\linear_model\\_logistic.py:763: ConvergenceWarning: lbfgs failed to converge (status=1):\n",
      "STOP: TOTAL NO. of ITERATIONS REACHED LIMIT.\n",
      "\n",
      "Increase the number of iterations (max_iter) or scale the data as shown in:\n",
      "    https://scikit-learn.org/stable/modules/preprocessing.html\n",
      "Please also refer to the documentation for alternative solver options:\n",
      "    https://scikit-learn.org/stable/modules/linear_model.html#logistic-regression\n",
      "  n_iter_i = _check_optimize_result(\n",
      "C:\\Users\\91917\\Anaconda3\\lib\\site-packages\\sklearn\\linear_model\\_logistic.py:763: ConvergenceWarning: lbfgs failed to converge (status=1):\n",
      "STOP: TOTAL NO. of ITERATIONS REACHED LIMIT.\n",
      "\n",
      "Increase the number of iterations (max_iter) or scale the data as shown in:\n",
      "    https://scikit-learn.org/stable/modules/preprocessing.html\n",
      "Please also refer to the documentation for alternative solver options:\n",
      "    https://scikit-learn.org/stable/modules/linear_model.html#logistic-regression\n",
      "  n_iter_i = _check_optimize_result(\n",
      "C:\\Users\\91917\\Anaconda3\\lib\\site-packages\\sklearn\\linear_model\\_logistic.py:763: ConvergenceWarning: lbfgs failed to converge (status=1):\n",
      "STOP: TOTAL NO. of ITERATIONS REACHED LIMIT.\n",
      "\n",
      "Increase the number of iterations (max_iter) or scale the data as shown in:\n",
      "    https://scikit-learn.org/stable/modules/preprocessing.html\n",
      "Please also refer to the documentation for alternative solver options:\n",
      "    https://scikit-learn.org/stable/modules/linear_model.html#logistic-regression\n",
      "  n_iter_i = _check_optimize_result(\n"
     ]
    },
    {
     "name": "stderr",
     "output_type": "stream",
     "text": [
      "C:\\Users\\91917\\Anaconda3\\lib\\site-packages\\sklearn\\linear_model\\_logistic.py:763: ConvergenceWarning: lbfgs failed to converge (status=1):\n",
      "STOP: TOTAL NO. of ITERATIONS REACHED LIMIT.\n",
      "\n",
      "Increase the number of iterations (max_iter) or scale the data as shown in:\n",
      "    https://scikit-learn.org/stable/modules/preprocessing.html\n",
      "Please also refer to the documentation for alternative solver options:\n",
      "    https://scikit-learn.org/stable/modules/linear_model.html#logistic-regression\n",
      "  n_iter_i = _check_optimize_result(\n",
      "C:\\Users\\91917\\Anaconda3\\lib\\site-packages\\sklearn\\linear_model\\_logistic.py:763: ConvergenceWarning: lbfgs failed to converge (status=1):\n",
      "STOP: TOTAL NO. of ITERATIONS REACHED LIMIT.\n",
      "\n",
      "Increase the number of iterations (max_iter) or scale the data as shown in:\n",
      "    https://scikit-learn.org/stable/modules/preprocessing.html\n",
      "Please also refer to the documentation for alternative solver options:\n",
      "    https://scikit-learn.org/stable/modules/linear_model.html#logistic-regression\n",
      "  n_iter_i = _check_optimize_result(\n",
      "C:\\Users\\91917\\Anaconda3\\lib\\site-packages\\sklearn\\linear_model\\_logistic.py:763: ConvergenceWarning: lbfgs failed to converge (status=1):\n",
      "STOP: TOTAL NO. of ITERATIONS REACHED LIMIT.\n",
      "\n",
      "Increase the number of iterations (max_iter) or scale the data as shown in:\n",
      "    https://scikit-learn.org/stable/modules/preprocessing.html\n",
      "Please also refer to the documentation for alternative solver options:\n",
      "    https://scikit-learn.org/stable/modules/linear_model.html#logistic-regression\n",
      "  n_iter_i = _check_optimize_result(\n",
      "C:\\Users\\91917\\Anaconda3\\lib\\site-packages\\sklearn\\linear_model\\_logistic.py:763: ConvergenceWarning: lbfgs failed to converge (status=1):\n",
      "STOP: TOTAL NO. of ITERATIONS REACHED LIMIT.\n",
      "\n",
      "Increase the number of iterations (max_iter) or scale the data as shown in:\n",
      "    https://scikit-learn.org/stable/modules/preprocessing.html\n",
      "Please also refer to the documentation for alternative solver options:\n",
      "    https://scikit-learn.org/stable/modules/linear_model.html#logistic-regression\n",
      "  n_iter_i = _check_optimize_result(\n",
      "C:\\Users\\91917\\Anaconda3\\lib\\site-packages\\sklearn\\linear_model\\_logistic.py:763: ConvergenceWarning: lbfgs failed to converge (status=1):\n",
      "STOP: TOTAL NO. of ITERATIONS REACHED LIMIT.\n",
      "\n",
      "Increase the number of iterations (max_iter) or scale the data as shown in:\n",
      "    https://scikit-learn.org/stable/modules/preprocessing.html\n",
      "Please also refer to the documentation for alternative solver options:\n",
      "    https://scikit-learn.org/stable/modules/linear_model.html#logistic-regression\n",
      "  n_iter_i = _check_optimize_result(\n",
      "C:\\Users\\91917\\Anaconda3\\lib\\site-packages\\sklearn\\linear_model\\_logistic.py:763: ConvergenceWarning: lbfgs failed to converge (status=1):\n",
      "STOP: TOTAL NO. of ITERATIONS REACHED LIMIT.\n",
      "\n",
      "Increase the number of iterations (max_iter) or scale the data as shown in:\n",
      "    https://scikit-learn.org/stable/modules/preprocessing.html\n",
      "Please also refer to the documentation for alternative solver options:\n",
      "    https://scikit-learn.org/stable/modules/linear_model.html#logistic-regression\n",
      "  n_iter_i = _check_optimize_result(\n",
      "C:\\Users\\91917\\Anaconda3\\lib\\site-packages\\sklearn\\linear_model\\_logistic.py:763: ConvergenceWarning: lbfgs failed to converge (status=1):\n",
      "STOP: TOTAL NO. of ITERATIONS REACHED LIMIT.\n",
      "\n",
      "Increase the number of iterations (max_iter) or scale the data as shown in:\n",
      "    https://scikit-learn.org/stable/modules/preprocessing.html\n",
      "Please also refer to the documentation for alternative solver options:\n",
      "    https://scikit-learn.org/stable/modules/linear_model.html#logistic-regression\n",
      "  n_iter_i = _check_optimize_result(\n"
     ]
    },
    {
     "name": "stdout",
     "output_type": "stream",
     "text": [
      "Training Score:0.8524137931034482\n",
      "Cross V Score: 0.8478565383740598 +/- 0.005530748035113854\n",
      "Testing Score: 0.8503238186615495\n",
      "Cross & Test Diff: -0.0024672802874896593\n",
      "Standard Deviations Away: -0.4461024569959222\n",
      "The accuracy score for the data : 0.8503238186615495\n",
      "The recall score for the data : 0.7931367810536492\n",
      "The precision for the data : 0.8933043004899293\n",
      "The f1 score for the data : 0.8402457757296466\n",
      "The confusion matrix for the data : [[1904  196]\n",
      " [ 428 1641]]\n",
      "The classification report for the data :               precision    recall  f1-score   support\n",
      "\n",
      "           0       0.82      0.91      0.86      2100\n",
      "           1       0.89      0.79      0.84      2069\n",
      "\n",
      "    accuracy                           0.85      4169\n",
      "   macro avg       0.85      0.85      0.85      4169\n",
      "weighted avg       0.85      0.85      0.85      4169\n",
      "\n"
     ]
    },
    {
     "name": "stderr",
     "output_type": "stream",
     "text": [
      "C:\\Users\\91917\\Anaconda3\\lib\\site-packages\\sklearn\\linear_model\\_logistic.py:763: ConvergenceWarning: lbfgs failed to converge (status=1):\n",
      "STOP: TOTAL NO. of ITERATIONS REACHED LIMIT.\n",
      "\n",
      "Increase the number of iterations (max_iter) or scale the data as shown in:\n",
      "    https://scikit-learn.org/stable/modules/preprocessing.html\n",
      "Please also refer to the documentation for alternative solver options:\n",
      "    https://scikit-learn.org/stable/modules/linear_model.html#logistic-regression\n",
      "  n_iter_i = _check_optimize_result(\n"
     ]
    }
   ],
   "source": [
    "base=BaggingClassifier(LogisticRegression())\n",
    "evaluate_model(X_train1, y_train1, base)"
   ]
  },
  {
   "cell_type": "markdown",
   "metadata": {},
   "source": [
    "## KNN"
   ]
  },
  {
   "cell_type": "code",
   "execution_count": 138,
   "metadata": {},
   "outputs": [],
   "source": [
    "from sklearn.neighbors import KNeighborsClassifier"
   ]
  },
  {
   "cell_type": "code",
   "execution_count": 139,
   "metadata": {},
   "outputs": [
    {
     "name": "stdout",
     "output_type": "stream",
     "text": [
      "Training Score:0.9048875562218891\n",
      "Cross V Score: 0.8368216203974407 +/- 0.0008877452356471125\n",
      "Testing Score: 0.8464859678579996\n",
      "Cross & Test Diff: -0.009664347460558886\n",
      "Standard Deviations Away: -10.886397439817475\n",
      "The accuracy score for the data : 0.8464859678579996\n",
      "The recall score for the data : 0.9217013049782503\n",
      "The precision for the data : 0.7995807127882599\n",
      "The f1 score for the data : 0.8563089357880557\n",
      "The confusion matrix for the data : [[1622  478]\n",
      " [ 162 1907]]\n",
      "The classification report for the data :               precision    recall  f1-score   support\n",
      "\n",
      "           0       0.91      0.77      0.84      2100\n",
      "           1       0.80      0.92      0.86      2069\n",
      "\n",
      "    accuracy                           0.85      4169\n",
      "   macro avg       0.85      0.85      0.85      4169\n",
      "weighted avg       0.85      0.85      0.85      4169\n",
      "\n"
     ]
    }
   ],
   "source": [
    "KNN=KNeighborsClassifier()\n",
    "evaluate_model(X_train1, y_train1, KNN)"
   ]
  },
  {
   "cell_type": "markdown",
   "metadata": {},
   "source": [
    "## Naives bayes"
   ]
  },
  {
   "cell_type": "code",
   "execution_count": 140,
   "metadata": {},
   "outputs": [],
   "source": [
    "from sklearn.naive_bayes import GaussianNB"
   ]
  },
  {
   "cell_type": "code",
   "execution_count": 141,
   "metadata": {},
   "outputs": [
    {
     "name": "stdout",
     "output_type": "stream",
     "text": [
      "Training Score:0.8083958020989506\n",
      "Cross V Score: 0.8089352827227687 +/- 0.005360132146529768\n",
      "Testing Score: 0.8009114895658431\n",
      "Cross & Test Diff: 0.008023793156925585\n",
      "Standard Deviations Away: 1.4969394293982683\n",
      "The accuracy score for the data : 0.8009114895658431\n",
      "The recall score for the data : 0.9057515708071532\n",
      "The precision for the data : 0.7469111199681148\n",
      "The f1 score for the data : 0.818698121450415\n",
      "The confusion matrix for the data : [[1465  635]\n",
      " [ 195 1874]]\n",
      "The classification report for the data :               precision    recall  f1-score   support\n",
      "\n",
      "           0       0.88      0.70      0.78      2100\n",
      "           1       0.75      0.91      0.82      2069\n",
      "\n",
      "    accuracy                           0.80      4169\n",
      "   macro avg       0.81      0.80      0.80      4169\n",
      "weighted avg       0.82      0.80      0.80      4169\n",
      "\n"
     ]
    }
   ],
   "source": [
    "gnb=GaussianNB()\n",
    "evaluate_model(X_train1, y_train1, gnb)"
   ]
  },
  {
   "cell_type": "markdown",
   "metadata": {},
   "source": [
    "## Boosting"
   ]
  },
  {
   "cell_type": "code",
   "execution_count": 142,
   "metadata": {},
   "outputs": [],
   "source": [
    "from sklearn.ensemble import AdaBoostClassifier,GradientBoostingClassifier"
   ]
  },
  {
   "cell_type": "code",
   "execution_count": 143,
   "metadata": {},
   "outputs": [],
   "source": [
    "adc=AdaBoostClassifier()\n",
    "gbc=GradientBoostingClassifier()"
   ]
  },
  {
   "cell_type": "code",
   "execution_count": 144,
   "metadata": {},
   "outputs": [
    {
     "name": "stdout",
     "output_type": "stream",
     "text": [
      "Training Score:0.9224587706146926\n",
      "Cross V Score: 0.9197603782883831 +/- 0.003847595563894387\n",
      "Testing Score: 0.9066922523386903\n",
      "Cross & Test Diff: 0.013068125949692755\n",
      "Standard Deviations Away: 3.3964396030402177\n",
      "The accuracy score for the data : 0.9066922523386903\n",
      "The recall score for the data : 0.9110681488641856\n",
      "The precision for the data : 0.9019138755980861\n",
      "The f1 score for the data : 0.9064679009377254\n",
      "The confusion matrix for the data : [[1895  205]\n",
      " [ 184 1885]]\n",
      "The classification report for the data :               precision    recall  f1-score   support\n",
      "\n",
      "           0       0.91      0.90      0.91      2100\n",
      "           1       0.90      0.91      0.91      2069\n",
      "\n",
      "    accuracy                           0.91      4169\n",
      "   macro avg       0.91      0.91      0.91      4169\n",
      "weighted avg       0.91      0.91      0.91      4169\n",
      "\n"
     ]
    }
   ],
   "source": [
    "# Ada boost\n",
    "evaluate_model(X_train1, y_train1, adc)"
   ]
  },
  {
   "cell_type": "code",
   "execution_count": 145,
   "metadata": {},
   "outputs": [
    {
     "name": "stdout",
     "output_type": "stream",
     "text": [
      "Training Score:0.9290554722638681\n",
      "Cross V Score: 0.922159096193034 +/- 0.0021339969519737242\n",
      "Testing Score: 0.9126888942192373\n",
      "Cross & Test Diff: 0.009470201973796777\n",
      "Standard Deviations Away: 4.437776710523335\n",
      "The accuracy score for the data : 0.9126888942192373\n",
      "The recall score for the data : 0.9197680038666022\n",
      "The precision for the data : 0.9057591623036649\n",
      "The f1 score for the data : 0.9127098321342926\n",
      "The confusion matrix for the data : [[1902  198]\n",
      " [ 166 1903]]\n",
      "The classification report for the data :               precision    recall  f1-score   support\n",
      "\n",
      "           0       0.92      0.91      0.91      2100\n",
      "           1       0.91      0.92      0.91      2069\n",
      "\n",
      "    accuracy                           0.91      4169\n",
      "   macro avg       0.91      0.91      0.91      4169\n",
      "weighted avg       0.91      0.91      0.91      4169\n",
      "\n"
     ]
    }
   ],
   "source": [
    "# GD boost\n",
    "evaluate_model(X_train1, y_train1, gbc)"
   ]
  },
  {
   "cell_type": "code",
   "execution_count": 150,
   "metadata": {},
   "outputs": [
    {
     "name": "stderr",
     "output_type": "stream",
     "text": [
      "C:\\Users\\91917\\Anaconda3\\lib\\site-packages\\sklearn\\linear_model\\_logistic.py:763: ConvergenceWarning: lbfgs failed to converge (status=1):\n",
      "STOP: TOTAL NO. of ITERATIONS REACHED LIMIT.\n",
      "\n",
      "Increase the number of iterations (max_iter) or scale the data as shown in:\n",
      "    https://scikit-learn.org/stable/modules/preprocessing.html\n",
      "Please also refer to the documentation for alternative solver options:\n",
      "    https://scikit-learn.org/stable/modules/linear_model.html#logistic-regression\n",
      "  n_iter_i = _check_optimize_result(\n",
      "C:\\Users\\91917\\Anaconda3\\lib\\site-packages\\sklearn\\linear_model\\_logistic.py:763: ConvergenceWarning: lbfgs failed to converge (status=1):\n",
      "STOP: TOTAL NO. of ITERATIONS REACHED LIMIT.\n",
      "\n",
      "Increase the number of iterations (max_iter) or scale the data as shown in:\n",
      "    https://scikit-learn.org/stable/modules/preprocessing.html\n",
      "Please also refer to the documentation for alternative solver options:\n",
      "    https://scikit-learn.org/stable/modules/linear_model.html#logistic-regression\n",
      "  n_iter_i = _check_optimize_result(\n",
      "C:\\Users\\91917\\Anaconda3\\lib\\site-packages\\sklearn\\linear_model\\_logistic.py:763: ConvergenceWarning: lbfgs failed to converge (status=1):\n",
      "STOP: TOTAL NO. of ITERATIONS REACHED LIMIT.\n",
      "\n",
      "Increase the number of iterations (max_iter) or scale the data as shown in:\n",
      "    https://scikit-learn.org/stable/modules/preprocessing.html\n",
      "Please also refer to the documentation for alternative solver options:\n",
      "    https://scikit-learn.org/stable/modules/linear_model.html#logistic-regression\n",
      "  n_iter_i = _check_optimize_result(\n",
      "C:\\Users\\91917\\Anaconda3\\lib\\site-packages\\sklearn\\linear_model\\_logistic.py:763: ConvergenceWarning: lbfgs failed to converge (status=1):\n",
      "STOP: TOTAL NO. of ITERATIONS REACHED LIMIT.\n",
      "\n",
      "Increase the number of iterations (max_iter) or scale the data as shown in:\n",
      "    https://scikit-learn.org/stable/modules/preprocessing.html\n",
      "Please also refer to the documentation for alternative solver options:\n",
      "    https://scikit-learn.org/stable/modules/linear_model.html#logistic-regression\n",
      "  n_iter_i = _check_optimize_result(\n",
      "C:\\Users\\91917\\Anaconda3\\lib\\site-packages\\sklearn\\linear_model\\_logistic.py:763: ConvergenceWarning: lbfgs failed to converge (status=1):\n",
      "STOP: TOTAL NO. of ITERATIONS REACHED LIMIT.\n",
      "\n",
      "Increase the number of iterations (max_iter) or scale the data as shown in:\n",
      "    https://scikit-learn.org/stable/modules/preprocessing.html\n",
      "Please also refer to the documentation for alternative solver options:\n",
      "    https://scikit-learn.org/stable/modules/linear_model.html#logistic-regression\n",
      "  n_iter_i = _check_optimize_result(\n",
      "C:\\Users\\91917\\Anaconda3\\lib\\site-packages\\sklearn\\linear_model\\_logistic.py:763: ConvergenceWarning: lbfgs failed to converge (status=1):\n",
      "STOP: TOTAL NO. of ITERATIONS REACHED LIMIT.\n",
      "\n",
      "Increase the number of iterations (max_iter) or scale the data as shown in:\n",
      "    https://scikit-learn.org/stable/modules/preprocessing.html\n",
      "Please also refer to the documentation for alternative solver options:\n",
      "    https://scikit-learn.org/stable/modules/linear_model.html#logistic-regression\n",
      "  n_iter_i = _check_optimize_result(\n",
      "C:\\Users\\91917\\Anaconda3\\lib\\site-packages\\sklearn\\linear_model\\_logistic.py:763: ConvergenceWarning: lbfgs failed to converge (status=1):\n",
      "STOP: TOTAL NO. of ITERATIONS REACHED LIMIT.\n",
      "\n",
      "Increase the number of iterations (max_iter) or scale the data as shown in:\n",
      "    https://scikit-learn.org/stable/modules/preprocessing.html\n",
      "Please also refer to the documentation for alternative solver options:\n",
      "    https://scikit-learn.org/stable/modules/linear_model.html#logistic-regression\n",
      "  n_iter_i = _check_optimize_result(\n",
      "C:\\Users\\91917\\Anaconda3\\lib\\site-packages\\sklearn\\linear_model\\_logistic.py:763: ConvergenceWarning: lbfgs failed to converge (status=1):\n",
      "STOP: TOTAL NO. of ITERATIONS REACHED LIMIT.\n",
      "\n",
      "Increase the number of iterations (max_iter) or scale the data as shown in:\n",
      "    https://scikit-learn.org/stable/modules/preprocessing.html\n",
      "Please also refer to the documentation for alternative solver options:\n",
      "    https://scikit-learn.org/stable/modules/linear_model.html#logistic-regression\n",
      "  n_iter_i = _check_optimize_result(\n",
      "C:\\Users\\91917\\Anaconda3\\lib\\site-packages\\sklearn\\linear_model\\_logistic.py:763: ConvergenceWarning: lbfgs failed to converge (status=1):\n",
      "STOP: TOTAL NO. of ITERATIONS REACHED LIMIT.\n",
      "\n",
      "Increase the number of iterations (max_iter) or scale the data as shown in:\n",
      "    https://scikit-learn.org/stable/modules/preprocessing.html\n",
      "Please also refer to the documentation for alternative solver options:\n",
      "    https://scikit-learn.org/stable/modules/linear_model.html#logistic-regression\n",
      "  n_iter_i = _check_optimize_result(\n",
      "C:\\Users\\91917\\Anaconda3\\lib\\site-packages\\sklearn\\linear_model\\_logistic.py:763: ConvergenceWarning: lbfgs failed to converge (status=1):\n",
      "STOP: TOTAL NO. of ITERATIONS REACHED LIMIT.\n",
      "\n",
      "Increase the number of iterations (max_iter) or scale the data as shown in:\n",
      "    https://scikit-learn.org/stable/modules/preprocessing.html\n",
      "Please also refer to the documentation for alternative solver options:\n",
      "    https://scikit-learn.org/stable/modules/linear_model.html#logistic-regression\n",
      "  n_iter_i = _check_optimize_result(\n",
      "C:\\Users\\91917\\Anaconda3\\lib\\site-packages\\sklearn\\linear_model\\_logistic.py:763: ConvergenceWarning: lbfgs failed to converge (status=1):\n",
      "STOP: TOTAL NO. of ITERATIONS REACHED LIMIT.\n",
      "\n",
      "Increase the number of iterations (max_iter) or scale the data as shown in:\n",
      "    https://scikit-learn.org/stable/modules/preprocessing.html\n",
      "Please also refer to the documentation for alternative solver options:\n",
      "    https://scikit-learn.org/stable/modules/linear_model.html#logistic-regression\n",
      "  n_iter_i = _check_optimize_result(\n"
     ]
    },
    {
     "data": {
      "image/png": "[encoded data removed]",
      "text/plain": [
       "<Figure size 1296x576 with 1 Axes>"
      ]
     },
     "metadata": {
      "needs_background": "light"
     },
     "output_type": "display_data"
    }
   ],
   "source": [
    "#ROC Curve\n",
    "from sklearn.metrics import roc_curve\n",
    "\n",
    "y_pred_prob1 = log_reg.fit(X_train1,y_train1).predict_proba(X_test1)[:,1]\n",
    "fpr1 , tpr1, thresholds1 = roc_curve(y_test1, y_pred_prob1)\n",
    "\n",
    "y_pred_prob2 = dt.fit(X_train1,y_train1).predict_proba(X_test1)[:,1]\n",
    "fpr2 , tpr2, thresholds2 = roc_curve(y_test1, y_pred_prob2)\n",
    "\n",
    "\n",
    "y_pred_prob3 = rfm.fit(X_train1,y_train1).predict_proba(X_test1)[:,1]\n",
    "fpr3 , tpr3, thresholds3 = roc_curve(y_test1, y_pred_prob3)\n",
    "\n",
    "y_pred_prob4 = base.fit(X_train1,y_train1).predict_proba(X_test1)[:,1]\n",
    "fpr4 , tpr4, thresholds4 = roc_curve(y_test1, y_pred_prob4)\n",
    "\n",
    "y_pred_prob5 = gnb.fit(X_train1,y_train1).predict_proba(X_test1)[:,1]\n",
    "fpr5 , tpr5, thresholds4 = roc_curve(y_test1, y_pred_prob5)\n",
    "\n",
    "y_pred_prob6 = adc.fit(X_train1,y_train1).predict_proba(X_test1)[:,1]\n",
    "fpr6 , tpr6, thresholds4 = roc_curve(y_test1, y_pred_prob6)\n",
    "\n",
    "y_pred_prob7 = gbc.fit(X_train1,y_train1).predict_proba(X_test1)[:,1]\n",
    "fpr7 , tpr7, thresholds4 = roc_curve(y_test1, y_pred_prob7)\n",
    "y_pred_prob8 = KNN.fit(X_train1,y_train1).predict_proba(X_test1)[:,1]\n",
    "fpr8 , tpr8, thresholds8 = roc_curve(y_test1, y_pred_prob8)\n",
    "\n",
    "plt.figure(figsize=(18,8))\n",
    "\n",
    "plt.plot([0,1],[0,1], 'k--')\n",
    "plt.plot(fpr1, tpr1, label= \"Logistic Regression\")\n",
    "plt.plot(fpr2, tpr2, label= \"Decision Tree\")\n",
    "plt.plot(fpr3, tpr3, label= \"Random Forest\")\n",
    "plt.plot(fpr4, tpr4, label= \"Bagging Classifer \")\n",
    "plt.plot(fpr5, tpr5, label= \"Gausian Naives Bayes\")\n",
    "plt.plot(fpr6, tpr6, label= \"Adaptive boosting classifer\")\n",
    "plt.plot(fpr7, tpr7, label= \"Gradient boosting classifer\")\n",
    "plt.plot(fpr8, tpr8, label= \"KNN\")\n",
    "\n",
    "plt.legend()\n",
    "plt.xlabel(\"FPR\")\n",
    "plt.ylabel(\"TPR\")\n",
    "plt.title('ROC-AUC curve')\n",
    "plt.show()\n"
   ]
  },
  {
   "cell_type": "markdown",
   "metadata": {},
   "source": [
    "Conclusion The Accuracy Score of a model shows how many correct predictions were made of the total predictions. Hence it is required that the accuracy of the model be high along with the dataset being balanced. On the other hand Recall is the number of correct positive predictions divided by the number of all relevant predictions. Recall score tells us how much of the Customers who generate Revenue are predicted correctly out of the total Customer who Generated Revenue. Hence a high recall score would mean we can predict the number of customers generate revenue correctly.\n",
    "\n",
    "Accuracy can be sacrificed for a better recall score and the reasoning for that is, loss potential customers would be high if our recall score is low and there by our model predicting erroneously. Even if accuracy is lower with a higher recall score model, it could be used persuade customers by taking actions to make them buy, by other factors such as Product Related Page Duration times, reducing bounce and exit rates, etc.\n",
    "\n",
    "This model provides the company the chance to better predict the customer intentions based on their habits on the website and the knowledge on how to target and push the right customers to increase the overall chances of converting a visit into a purchase. With more and more customers moving towards online purchasing this knowledge will be the boon necessary for a company to survive and grow in the online market.\n",
    "\n",
    "However, when the models were evaluate with the validation set,Random Forest Classifier performs better in terms of Recall and Accuracy score, with 94% Recall Score and 72% Accuracy Rate. It would be best to choose this model on the basis that accuracy can be sacrificed for a better recall score, with the aim of serving a larger customer base and trying to convert them into generating revenue rather than, aiming at a selected few customers with a higher accuracy.\n",
    "\n",
    "The Final Model Selected would be Random Forest Classifer lassifier for predicting and Customers Intention to Purchase from the particular dataset that we have collected."
   ]
  },
  {
   "cell_type": "code",
   "execution_count": null,
   "metadata": {},
   "outputs": [],
   "source": []
  }
 ],
 "metadata": {
  "kernelspec": {
   "display_name": "Python 3",
   "language": "python",
   "name": "python3"
  },
  "language_info": {
   "codemirror_mode": {
    "name": "ipython",
    "version": 3
   },
   "file_extension": ".py",
   "mimetype": "text/x-python",
   "name": "python",
   "nbconvert_exporter": "python",
   "pygments_lexer": "ipython3",
   "version": "3.8.5"
  }
 },
 "nbformat": 4,
 "nbformat_minor": 4
}
